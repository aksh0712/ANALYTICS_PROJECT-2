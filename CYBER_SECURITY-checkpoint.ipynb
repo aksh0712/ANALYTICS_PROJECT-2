{
 "cells": [
  {
   "cell_type": "markdown",
   "id": "da123d8f",
   "metadata": {},
   "source": [
    "# BINARY CLASSIFICATION"
   ]
  },
  {
   "cell_type": "markdown",
   "id": "1c7ed12b",
   "metadata": {
    "id": "1c7ed12b"
   },
   "source": [
    "### CAPSTONE PROJECT CYBER SECURITY "
   ]
  },
  {
   "cell_type": "markdown",
   "id": "271eff73",
   "metadata": {
    "id": "271eff73"
   },
   "source": [
    "#### CYBER SECURITY - NETWORK SECURITY - NETWORK INTRUSIONS DETECTION CASE STUDY"
   ]
  },
  {
   "cell_type": "code",
   "execution_count": 9,
   "id": "75731ce0",
   "metadata": {
    "colab": {
     "base_uri": "https://localhost:8080/",
     "height": 34
    },
    "executionInfo": {
     "elapsed": 488,
     "status": "ok",
     "timestamp": 1629118970108,
     "user": {
      "displayName": "akshay narake",
      "photoUrl": "https://lh3.googleusercontent.com/a-/AOh14GgGQ2ijZliaBz2TDDcO_VcMyvg0gC4fDSXa1giCfw=s64",
      "userId": "07482213745940841366"
     },
     "user_tz": -330
    },
    "id": "75731ce0",
    "outputId": "72a0a9a6-31a9-4946-910a-523b663d8e20"
   },
   "outputs": [
    {
     "data": {
      "text/plain": [
       "<Figure size 432x216 with 0 Axes>"
      ]
     },
     "metadata": {},
     "output_type": "display_data"
    }
   ],
   "source": [
    "#Packages related to general operating system & warnings\n",
    "import os \n",
    "import warnings\n",
    "warnings.filterwarnings('ignore')\n",
    "\n",
    "\n",
    "#Packages related to data importing, manipulation, exploratory data analysis, data understanding\n",
    "import numpy as np\n",
    "import pandas as pd\n",
    "\n",
    "pd.set_option('display.max_rows', None)\n",
    "pd.set_option('display.max_columns', None)\n",
    "\n",
    "from pandas import Series, DataFrame\n",
    "import pandas_profiling\n",
    "import scipy.stats as stats\n",
    "\n",
    "#Packages related to data visualizaiton\n",
    "import seaborn as sns\n",
    "import matplotlib.pyplot as plt\n",
    "%matplotlib inline\n",
    "\n",
    "#Setting plot sizes and type of plot\n",
    "plt.rc(\"font\", size=14)\n",
    "plt.rcParams['axes.grid'] = True\n",
    "plt.figure(figsize=(6,3))\n",
    "plt.gray()\n"
   ]
  },
  {
   "cell_type": "code",
   "execution_count": 10,
   "id": "c07a0b82",
   "metadata": {
    "colab": {
     "base_uri": "https://localhost:8080/",
     "height": 35
    },
    "executionInfo": {
     "elapsed": 745,
     "status": "ok",
     "timestamp": 1629118971498,
     "user": {
      "displayName": "akshay narake",
      "photoUrl": "https://lh3.googleusercontent.com/a-/AOh14GgGQ2ijZliaBz2TDDcO_VcMyvg0gC4fDSXa1giCfw=s64",
      "userId": "07482213745940841366"
     },
     "user_tz": -330
    },
    "id": "c07a0b82",
    "outputId": "006e5c39-9a00-498c-8a50-4c7dccfb8b1b"
   },
   "outputs": [
    {
     "data": {
      "text/plain": [
       "'C:\\\\Users\\\\Akshay\\\\Desktop\\\\Cyber_Security\\\\IPYNB_Files'"
      ]
     },
     "execution_count": 10,
     "metadata": {},
     "output_type": "execute_result"
    }
   ],
   "source": [
    "%pwd"
   ]
  },
  {
   "cell_type": "code",
   "execution_count": 11,
   "id": "98060c28",
   "metadata": {},
   "outputs": [],
   "source": [
    "os.chdir('C:\\\\Users\\\\Akshay\\\\Desktop\\\\Cyber_Security\\\\Datasets')"
   ]
  },
  {
   "cell_type": "code",
   "execution_count": 12,
   "id": "c12cf11a",
   "metadata": {},
   "outputs": [
    {
     "data": {
      "text/plain": [
       "'C:\\\\Users\\\\Akshay\\\\Desktop\\\\Cyber_Security\\\\Datasets'"
      ]
     },
     "execution_count": 12,
     "metadata": {},
     "output_type": "execute_result"
    }
   ],
   "source": [
    "%pwd"
   ]
  },
  {
   "cell_type": "markdown",
   "id": "5f9d64ff",
   "metadata": {
    "id": "5f9d64ff"
   },
   "source": [
    "### Data  preperation"
   ]
  },
  {
   "cell_type": "code",
   "execution_count": 13,
   "id": "e53f3a71",
   "metadata": {
    "executionInfo": {
     "elapsed": 8531,
     "status": "ok",
     "timestamp": 1629119009948,
     "user": {
      "displayName": "akshay narake",
      "photoUrl": "https://lh3.googleusercontent.com/a-/AOh14GgGQ2ijZliaBz2TDDcO_VcMyvg0gC4fDSXa1giCfw=s64",
      "userId": "07482213745940841366"
     },
     "user_tz": -330
    },
    "id": "e53f3a71"
   },
   "outputs": [],
   "source": [
    "file1 = pd.read_csv(\"Data_of_Attack_Back.csv\")\n",
    "file2 = pd.read_csv(\"Data_of_Attack_Back_BufferOverflow.csv\")\n",
    "file3 = pd.read_csv(\"Data_of_Attack_Back_FTPWrite.csv\")\n",
    "file4 = pd.read_csv(\"Data_of_Attack_Back_GuessPassword.csv\")\n",
    "file5 = pd.read_csv(\"Data_of_Attack_Back_Neptune.csv\")\n",
    "file6 = pd.read_csv(\"Data_of_Attack_Back_NMap.csv\")\n",
    "file7 = pd.read_csv(\"Data_of_Attack_Back_Normal.csv\")\n",
    "file8 = pd.read_csv(\"Data_of_Attack_Back_PortSweep.csv\")\n",
    "file9 = pd.read_csv(\"Data_of_Attack_Back_RootKit.csv\")\n",
    "file10 = pd.read_csv(\"Data_of_Attack_Back_Satan.csv\")\n",
    "file11 = pd.read_csv(\"Data_of_Attack_Back_Smurf.csv\")"
   ]
  },
  {
   "cell_type": "code",
   "execution_count": 14,
   "id": "62234972",
   "metadata": {
    "executionInfo": {
     "elapsed": 71,
     "status": "ok",
     "timestamp": 1629119009951,
     "user": {
      "displayName": "akshay narake",
      "photoUrl": "https://lh3.googleusercontent.com/a-/AOh14GgGQ2ijZliaBz2TDDcO_VcMyvg0gC4fDSXa1giCfw=s64",
      "userId": "07482213745940841366"
     },
     "user_tz": -330
    },
    "id": "62234972"
   },
   "outputs": [],
   "source": [
    "file7['B_Target'] = 0"
   ]
  },
  {
   "cell_type": "code",
   "execution_count": 15,
   "id": "0d750c18",
   "metadata": {
    "colab": {
     "base_uri": "https://localhost:8080/",
     "height": 223
    },
    "executionInfo": {
     "elapsed": 66,
     "status": "ok",
     "timestamp": 1629119009954,
     "user": {
      "displayName": "akshay narake",
      "photoUrl": "https://lh3.googleusercontent.com/a-/AOh14GgGQ2ijZliaBz2TDDcO_VcMyvg0gC4fDSXa1giCfw=s64",
      "userId": "07482213745940841366"
     },
     "user_tz": -330
    },
    "id": "0d750c18",
    "outputId": "035d4039-bdf3-47cf-f70e-562615308f9c"
   },
   "outputs": [
    {
     "data": {
      "text/html": [
       "<div>\n",
       "<style scoped>\n",
       "    .dataframe tbody tr th:only-of-type {\n",
       "        vertical-align: middle;\n",
       "    }\n",
       "\n",
       "    .dataframe tbody tr th {\n",
       "        vertical-align: top;\n",
       "    }\n",
       "\n",
       "    .dataframe thead th {\n",
       "        text-align: right;\n",
       "    }\n",
       "</style>\n",
       "<table border=\"1\" class=\"dataframe\">\n",
       "  <thead>\n",
       "    <tr style=\"text-align: right;\">\n",
       "      <th></th>\n",
       "      <th>duration</th>\n",
       "      <th>protocol_type</th>\n",
       "      <th>service</th>\n",
       "      <th>flag</th>\n",
       "      <th>src_bytes</th>\n",
       "      <th>dst_bytes</th>\n",
       "      <th>land</th>\n",
       "      <th>wrong_fragment</th>\n",
       "      <th>urgent</th>\n",
       "      <th>hot</th>\n",
       "      <th>num_failed_logins</th>\n",
       "      <th>logged_in</th>\n",
       "      <th>num_compromised</th>\n",
       "      <th>root_shell</th>\n",
       "      <th>su_attempted</th>\n",
       "      <th>num_root</th>\n",
       "      <th>num_file_creations</th>\n",
       "      <th>num_shells</th>\n",
       "      <th>num_access_files</th>\n",
       "      <th>num_outbound_cmds</th>\n",
       "      <th>is_host_login</th>\n",
       "      <th>is_guest_login</th>\n",
       "      <th>count</th>\n",
       "      <th>srv_count</th>\n",
       "      <th>serror_rate</th>\n",
       "      <th>srv_error_rate</th>\n",
       "      <th>rerror_rate</th>\n",
       "      <th>srv_rerror_rate</th>\n",
       "      <th>same_srv_rate</th>\n",
       "      <th>diff_srv_rate</th>\n",
       "      <th>srv_diff_host_rate</th>\n",
       "      <th>dst_host_count</th>\n",
       "      <th>dst_host_srv_count</th>\n",
       "      <th>dst_host_same_srv_rate</th>\n",
       "      <th>dst_host_diff_srv_rate</th>\n",
       "      <th>dst_host_same_src_port_rate</th>\n",
       "      <th>dst_host_srv_diff_host_rate</th>\n",
       "      <th>dst_host_serror_rate</th>\n",
       "      <th>dst_host_srv_serror_rate</th>\n",
       "      <th>dst_host_rerror_rate</th>\n",
       "      <th>dst_host_srv_rerror_rate</th>\n",
       "      <th>B_Target</th>\n",
       "    </tr>\n",
       "  </thead>\n",
       "  <tbody>\n",
       "    <tr>\n",
       "      <th>0</th>\n",
       "      <td>0.0</td>\n",
       "      <td>0.0</td>\n",
       "      <td>0.0</td>\n",
       "      <td>0.0</td>\n",
       "      <td>0.00215</td>\n",
       "      <td>0.45076</td>\n",
       "      <td>0</td>\n",
       "      <td>0</td>\n",
       "      <td>0.0</td>\n",
       "      <td>0.0</td>\n",
       "      <td>0.0</td>\n",
       "      <td>0.1</td>\n",
       "      <td>0.0</td>\n",
       "      <td>0.0</td>\n",
       "      <td>0.0</td>\n",
       "      <td>0.0</td>\n",
       "      <td>0.0</td>\n",
       "      <td>0.0</td>\n",
       "      <td>0.0</td>\n",
       "      <td>0</td>\n",
       "      <td>0.0</td>\n",
       "      <td>0.0</td>\n",
       "      <td>0.001</td>\n",
       "      <td>0.001</td>\n",
       "      <td>0.0</td>\n",
       "      <td>0.0</td>\n",
       "      <td>0.0</td>\n",
       "      <td>0.0</td>\n",
       "      <td>0.1</td>\n",
       "      <td>0.0</td>\n",
       "      <td>0.0</td>\n",
       "      <td>0.000</td>\n",
       "      <td>0.000</td>\n",
       "      <td>0.0</td>\n",
       "      <td>0.0</td>\n",
       "      <td>0.000</td>\n",
       "      <td>0.0</td>\n",
       "      <td>0.0</td>\n",
       "      <td>0.0</td>\n",
       "      <td>0.0</td>\n",
       "      <td>0.0</td>\n",
       "      <td>0</td>\n",
       "    </tr>\n",
       "    <tr>\n",
       "      <th>1</th>\n",
       "      <td>0.0</td>\n",
       "      <td>0.0</td>\n",
       "      <td>0.0</td>\n",
       "      <td>0.0</td>\n",
       "      <td>0.00162</td>\n",
       "      <td>0.04528</td>\n",
       "      <td>0</td>\n",
       "      <td>0</td>\n",
       "      <td>0.0</td>\n",
       "      <td>0.0</td>\n",
       "      <td>0.0</td>\n",
       "      <td>0.1</td>\n",
       "      <td>0.0</td>\n",
       "      <td>0.0</td>\n",
       "      <td>0.0</td>\n",
       "      <td>0.0</td>\n",
       "      <td>0.0</td>\n",
       "      <td>0.0</td>\n",
       "      <td>0.0</td>\n",
       "      <td>0</td>\n",
       "      <td>0.0</td>\n",
       "      <td>0.0</td>\n",
       "      <td>0.002</td>\n",
       "      <td>0.002</td>\n",
       "      <td>0.0</td>\n",
       "      <td>0.0</td>\n",
       "      <td>0.0</td>\n",
       "      <td>0.0</td>\n",
       "      <td>0.1</td>\n",
       "      <td>0.0</td>\n",
       "      <td>0.0</td>\n",
       "      <td>0.001</td>\n",
       "      <td>0.001</td>\n",
       "      <td>0.1</td>\n",
       "      <td>0.0</td>\n",
       "      <td>0.100</td>\n",
       "      <td>0.0</td>\n",
       "      <td>0.0</td>\n",
       "      <td>0.0</td>\n",
       "      <td>0.0</td>\n",
       "      <td>0.0</td>\n",
       "      <td>0</td>\n",
       "    </tr>\n",
       "    <tr>\n",
       "      <th>2</th>\n",
       "      <td>0.0</td>\n",
       "      <td>0.0</td>\n",
       "      <td>0.0</td>\n",
       "      <td>0.0</td>\n",
       "      <td>0.00236</td>\n",
       "      <td>0.01228</td>\n",
       "      <td>0</td>\n",
       "      <td>0</td>\n",
       "      <td>0.0</td>\n",
       "      <td>0.0</td>\n",
       "      <td>0.0</td>\n",
       "      <td>0.1</td>\n",
       "      <td>0.0</td>\n",
       "      <td>0.0</td>\n",
       "      <td>0.0</td>\n",
       "      <td>0.0</td>\n",
       "      <td>0.0</td>\n",
       "      <td>0.0</td>\n",
       "      <td>0.0</td>\n",
       "      <td>0</td>\n",
       "      <td>0.0</td>\n",
       "      <td>0.0</td>\n",
       "      <td>0.001</td>\n",
       "      <td>0.001</td>\n",
       "      <td>0.0</td>\n",
       "      <td>0.0</td>\n",
       "      <td>0.0</td>\n",
       "      <td>0.0</td>\n",
       "      <td>0.1</td>\n",
       "      <td>0.0</td>\n",
       "      <td>0.0</td>\n",
       "      <td>0.002</td>\n",
       "      <td>0.002</td>\n",
       "      <td>0.1</td>\n",
       "      <td>0.0</td>\n",
       "      <td>0.050</td>\n",
       "      <td>0.0</td>\n",
       "      <td>0.0</td>\n",
       "      <td>0.0</td>\n",
       "      <td>0.0</td>\n",
       "      <td>0.0</td>\n",
       "      <td>0</td>\n",
       "    </tr>\n",
       "    <tr>\n",
       "      <th>3</th>\n",
       "      <td>0.0</td>\n",
       "      <td>0.0</td>\n",
       "      <td>0.0</td>\n",
       "      <td>0.0</td>\n",
       "      <td>0.00233</td>\n",
       "      <td>0.02032</td>\n",
       "      <td>0</td>\n",
       "      <td>0</td>\n",
       "      <td>0.0</td>\n",
       "      <td>0.0</td>\n",
       "      <td>0.0</td>\n",
       "      <td>0.1</td>\n",
       "      <td>0.0</td>\n",
       "      <td>0.0</td>\n",
       "      <td>0.0</td>\n",
       "      <td>0.0</td>\n",
       "      <td>0.0</td>\n",
       "      <td>0.0</td>\n",
       "      <td>0.0</td>\n",
       "      <td>0</td>\n",
       "      <td>0.0</td>\n",
       "      <td>0.0</td>\n",
       "      <td>0.002</td>\n",
       "      <td>0.002</td>\n",
       "      <td>0.0</td>\n",
       "      <td>0.0</td>\n",
       "      <td>0.0</td>\n",
       "      <td>0.0</td>\n",
       "      <td>0.1</td>\n",
       "      <td>0.0</td>\n",
       "      <td>0.0</td>\n",
       "      <td>0.003</td>\n",
       "      <td>0.003</td>\n",
       "      <td>0.1</td>\n",
       "      <td>0.0</td>\n",
       "      <td>0.033</td>\n",
       "      <td>0.0</td>\n",
       "      <td>0.0</td>\n",
       "      <td>0.0</td>\n",
       "      <td>0.0</td>\n",
       "      <td>0.0</td>\n",
       "      <td>0</td>\n",
       "    </tr>\n",
       "    <tr>\n",
       "      <th>4</th>\n",
       "      <td>0.0</td>\n",
       "      <td>0.0</td>\n",
       "      <td>0.0</td>\n",
       "      <td>0.0</td>\n",
       "      <td>0.00239</td>\n",
       "      <td>0.00486</td>\n",
       "      <td>0</td>\n",
       "      <td>0</td>\n",
       "      <td>0.0</td>\n",
       "      <td>0.0</td>\n",
       "      <td>0.0</td>\n",
       "      <td>0.1</td>\n",
       "      <td>0.0</td>\n",
       "      <td>0.0</td>\n",
       "      <td>0.0</td>\n",
       "      <td>0.0</td>\n",
       "      <td>0.0</td>\n",
       "      <td>0.0</td>\n",
       "      <td>0.0</td>\n",
       "      <td>0</td>\n",
       "      <td>0.0</td>\n",
       "      <td>0.0</td>\n",
       "      <td>0.003</td>\n",
       "      <td>0.003</td>\n",
       "      <td>0.0</td>\n",
       "      <td>0.0</td>\n",
       "      <td>0.0</td>\n",
       "      <td>0.0</td>\n",
       "      <td>0.1</td>\n",
       "      <td>0.0</td>\n",
       "      <td>0.0</td>\n",
       "      <td>0.004</td>\n",
       "      <td>0.004</td>\n",
       "      <td>0.1</td>\n",
       "      <td>0.0</td>\n",
       "      <td>0.025</td>\n",
       "      <td>0.0</td>\n",
       "      <td>0.0</td>\n",
       "      <td>0.0</td>\n",
       "      <td>0.0</td>\n",
       "      <td>0.0</td>\n",
       "      <td>0</td>\n",
       "    </tr>\n",
       "  </tbody>\n",
       "</table>\n",
       "</div>"
      ],
      "text/plain": [
       "   duration   protocol_type   service   flag   src_bytes   dst_bytes   land  \\\n",
       "0       0.0             0.0       0.0    0.0     0.00215     0.45076      0   \n",
       "1       0.0             0.0       0.0    0.0     0.00162     0.04528      0   \n",
       "2       0.0             0.0       0.0    0.0     0.00236     0.01228      0   \n",
       "3       0.0             0.0       0.0    0.0     0.00233     0.02032      0   \n",
       "4       0.0             0.0       0.0    0.0     0.00239     0.00486      0   \n",
       "\n",
       "    wrong_fragment   urgent   hot   num_failed_logins   logged_in  \\\n",
       "0                0      0.0   0.0                 0.0         0.1   \n",
       "1                0      0.0   0.0                 0.0         0.1   \n",
       "2                0      0.0   0.0                 0.0         0.1   \n",
       "3                0      0.0   0.0                 0.0         0.1   \n",
       "4                0      0.0   0.0                 0.0         0.1   \n",
       "\n",
       "    num_compromised   root_shell   su_attempted   num_root  \\\n",
       "0               0.0          0.0            0.0        0.0   \n",
       "1               0.0          0.0            0.0        0.0   \n",
       "2               0.0          0.0            0.0        0.0   \n",
       "3               0.0          0.0            0.0        0.0   \n",
       "4               0.0          0.0            0.0        0.0   \n",
       "\n",
       "    num_file_creations   num_shells   num_access_files   num_outbound_cmds  \\\n",
       "0                  0.0          0.0                0.0                   0   \n",
       "1                  0.0          0.0                0.0                   0   \n",
       "2                  0.0          0.0                0.0                   0   \n",
       "3                  0.0          0.0                0.0                   0   \n",
       "4                  0.0          0.0                0.0                   0   \n",
       "\n",
       "    is_host_login   is_guest_login   count   srv_count   serror_rate  \\\n",
       "0             0.0              0.0   0.001       0.001           0.0   \n",
       "1             0.0              0.0   0.002       0.002           0.0   \n",
       "2             0.0              0.0   0.001       0.001           0.0   \n",
       "3             0.0              0.0   0.002       0.002           0.0   \n",
       "4             0.0              0.0   0.003       0.003           0.0   \n",
       "\n",
       "    srv_error_rate   rerror_rate   srv_rerror_rate   same_srv_rate  \\\n",
       "0              0.0           0.0               0.0             0.1   \n",
       "1              0.0           0.0               0.0             0.1   \n",
       "2              0.0           0.0               0.0             0.1   \n",
       "3              0.0           0.0               0.0             0.1   \n",
       "4              0.0           0.0               0.0             0.1   \n",
       "\n",
       "    diff_srv_rate   srv_diff_host_rate   dst_host_count   dst_host_srv_count  \\\n",
       "0             0.0                  0.0            0.000                0.000   \n",
       "1             0.0                  0.0            0.001                0.001   \n",
       "2             0.0                  0.0            0.002                0.002   \n",
       "3             0.0                  0.0            0.003                0.003   \n",
       "4             0.0                  0.0            0.004                0.004   \n",
       "\n",
       "    dst_host_same_srv_rate   dst_host_diff_srv_rate  \\\n",
       "0                      0.0                      0.0   \n",
       "1                      0.1                      0.0   \n",
       "2                      0.1                      0.0   \n",
       "3                      0.1                      0.0   \n",
       "4                      0.1                      0.0   \n",
       "\n",
       "    dst_host_same_src_port_rate   dst_host_srv_diff_host_rate  \\\n",
       "0                         0.000                           0.0   \n",
       "1                         0.100                           0.0   \n",
       "2                         0.050                           0.0   \n",
       "3                         0.033                           0.0   \n",
       "4                         0.025                           0.0   \n",
       "\n",
       "    dst_host_serror_rate   dst_host_srv_serror_rate   dst_host_rerror_rate  \\\n",
       "0                    0.0                        0.0                    0.0   \n",
       "1                    0.0                        0.0                    0.0   \n",
       "2                    0.0                        0.0                    0.0   \n",
       "3                    0.0                        0.0                    0.0   \n",
       "4                    0.0                        0.0                    0.0   \n",
       "\n",
       "    dst_host_srv_rerror_rate  B_Target  \n",
       "0                        0.0         0  \n",
       "1                        0.0         0  \n",
       "2                        0.0         0  \n",
       "3                        0.0         0  \n",
       "4                        0.0         0  "
      ]
     },
     "execution_count": 15,
     "metadata": {},
     "output_type": "execute_result"
    }
   ],
   "source": [
    "file7.head()"
   ]
  },
  {
   "cell_type": "code",
   "execution_count": 16,
   "id": "00c9362c",
   "metadata": {
    "executionInfo": {
     "elapsed": 59,
     "status": "ok",
     "timestamp": 1629119009956,
     "user": {
      "displayName": "akshay narake",
      "photoUrl": "https://lh3.googleusercontent.com/a-/AOh14GgGQ2ijZliaBz2TDDcO_VcMyvg0gC4fDSXa1giCfw=s64",
      "userId": "07482213745940841366"
     },
     "user_tz": -330
    },
    "id": "00c9362c"
   },
   "outputs": [],
   "source": [
    "# File3 doesn't have column names so we need to provide proper column names first.\n",
    "\n",
    "ex = ['duration',' protocol_type',' service',' flag',' src_bytes',' dst_bytes',' land',' wrong_fragment',' urgent',' hot',' num_failed_logins',' logged_in',' num_compromised',' root_shell',' su_attempted',' num_root',' num_file_creations',' num_shells',' num_access_files',' num_outbound_cmds',' is_host_login',' is_guest_login',' count',' srv_count',' serror_rate',' srv_error_rate',' rerror_rate',' srv_rerror_rate',' same_srv_rate',' diff_srv_rate',' srv_diff_host_rate',' dst_host_count',' dst_host_srv_count',' dst_host_same_srv_rate',' dst_host_diff_srv_rate',' dst_host_same_src_port_rate',' dst_host_srv_diff_host_rate',' dst_host_serror_rate',' dst_host_srv_serror_rate',' dst_host_rerror_rate',' dst_host_srv_rerror_rate']"
   ]
  },
  {
   "cell_type": "code",
   "execution_count": 17,
   "id": "212c90f8",
   "metadata": {
    "executionInfo": {
     "elapsed": 64,
     "status": "ok",
     "timestamp": 1629119009964,
     "user": {
      "displayName": "akshay narake",
      "photoUrl": "https://lh3.googleusercontent.com/a-/AOh14GgGQ2ijZliaBz2TDDcO_VcMyvg0gC4fDSXa1giCfw=s64",
      "userId": "07482213745940841366"
     },
     "user_tz": -330
    },
    "id": "212c90f8"
   },
   "outputs": [],
   "source": [
    "file3.columns = ex"
   ]
  },
  {
   "cell_type": "code",
   "execution_count": 18,
   "id": "e3f6ca1a",
   "metadata": {
    "colab": {
     "base_uri": "https://localhost:8080/",
     "height": 223
    },
    "executionInfo": {
     "elapsed": 67,
     "status": "ok",
     "timestamp": 1629119009969,
     "user": {
      "displayName": "akshay narake",
      "photoUrl": "https://lh3.googleusercontent.com/a-/AOh14GgGQ2ijZliaBz2TDDcO_VcMyvg0gC4fDSXa1giCfw=s64",
      "userId": "07482213745940841366"
     },
     "user_tz": -330
    },
    "id": "e3f6ca1a",
    "outputId": "8ef1ccab-d013-4d9f-b720-744b09e69c44"
   },
   "outputs": [
    {
     "data": {
      "text/html": [
       "<div>\n",
       "<style scoped>\n",
       "    .dataframe tbody tr th:only-of-type {\n",
       "        vertical-align: middle;\n",
       "    }\n",
       "\n",
       "    .dataframe tbody tr th {\n",
       "        vertical-align: top;\n",
       "    }\n",
       "\n",
       "    .dataframe thead th {\n",
       "        text-align: right;\n",
       "    }\n",
       "</style>\n",
       "<table border=\"1\" class=\"dataframe\">\n",
       "  <thead>\n",
       "    <tr style=\"text-align: right;\">\n",
       "      <th></th>\n",
       "      <th>duration</th>\n",
       "      <th>protocol_type</th>\n",
       "      <th>service</th>\n",
       "      <th>flag</th>\n",
       "      <th>src_bytes</th>\n",
       "      <th>dst_bytes</th>\n",
       "      <th>land</th>\n",
       "      <th>wrong_fragment</th>\n",
       "      <th>urgent</th>\n",
       "      <th>hot</th>\n",
       "      <th>num_failed_logins</th>\n",
       "      <th>logged_in</th>\n",
       "      <th>num_compromised</th>\n",
       "      <th>root_shell</th>\n",
       "      <th>su_attempted</th>\n",
       "      <th>num_root</th>\n",
       "      <th>num_file_creations</th>\n",
       "      <th>num_shells</th>\n",
       "      <th>num_access_files</th>\n",
       "      <th>num_outbound_cmds</th>\n",
       "      <th>is_host_login</th>\n",
       "      <th>is_guest_login</th>\n",
       "      <th>count</th>\n",
       "      <th>srv_count</th>\n",
       "      <th>serror_rate</th>\n",
       "      <th>srv_error_rate</th>\n",
       "      <th>rerror_rate</th>\n",
       "      <th>srv_rerror_rate</th>\n",
       "      <th>same_srv_rate</th>\n",
       "      <th>diff_srv_rate</th>\n",
       "      <th>srv_diff_host_rate</th>\n",
       "      <th>dst_host_count</th>\n",
       "      <th>dst_host_srv_count</th>\n",
       "      <th>dst_host_same_srv_rate</th>\n",
       "      <th>dst_host_diff_srv_rate</th>\n",
       "      <th>dst_host_same_src_port_rate</th>\n",
       "      <th>dst_host_srv_diff_host_rate</th>\n",
       "      <th>dst_host_serror_rate</th>\n",
       "      <th>dst_host_srv_serror_rate</th>\n",
       "      <th>dst_host_rerror_rate</th>\n",
       "      <th>dst_host_srv_rerror_rate</th>\n",
       "    </tr>\n",
       "  </thead>\n",
       "  <tbody>\n",
       "    <tr>\n",
       "      <th>0</th>\n",
       "      <td>0.0134</td>\n",
       "      <td>0</td>\n",
       "      <td>0.34</td>\n",
       "      <td>0</td>\n",
       "      <td>0.00100</td>\n",
       "      <td>0.39445</td>\n",
       "      <td>0</td>\n",
       "      <td>0</td>\n",
       "      <td>0.2</td>\n",
       "      <td>0.0</td>\n",
       "      <td>0</td>\n",
       "      <td>0.1</td>\n",
       "      <td>0.1</td>\n",
       "      <td>0</td>\n",
       "      <td>0</td>\n",
       "      <td>0.1</td>\n",
       "      <td>0.0</td>\n",
       "      <td>0</td>\n",
       "      <td>0.1</td>\n",
       "      <td>0</td>\n",
       "      <td>0</td>\n",
       "      <td>0.0</td>\n",
       "      <td>0.001</td>\n",
       "      <td>0.001</td>\n",
       "      <td>0</td>\n",
       "      <td>0</td>\n",
       "      <td>0</td>\n",
       "      <td>0</td>\n",
       "      <td>0.1</td>\n",
       "      <td>0</td>\n",
       "      <td>0.0</td>\n",
       "      <td>0.002</td>\n",
       "      <td>0.001</td>\n",
       "      <td>0.05</td>\n",
       "      <td>0.1</td>\n",
       "      <td>0.05</td>\n",
       "      <td>0.000</td>\n",
       "      <td>0</td>\n",
       "      <td>0</td>\n",
       "      <td>0</td>\n",
       "      <td>0</td>\n",
       "    </tr>\n",
       "    <tr>\n",
       "      <th>1</th>\n",
       "      <td>0.0000</td>\n",
       "      <td>0</td>\n",
       "      <td>0.14</td>\n",
       "      <td>0</td>\n",
       "      <td>0.00613</td>\n",
       "      <td>0.00000</td>\n",
       "      <td>0</td>\n",
       "      <td>0</td>\n",
       "      <td>0.0</td>\n",
       "      <td>0.0</td>\n",
       "      <td>0</td>\n",
       "      <td>0.1</td>\n",
       "      <td>0.0</td>\n",
       "      <td>0</td>\n",
       "      <td>0</td>\n",
       "      <td>0.1</td>\n",
       "      <td>0.0</td>\n",
       "      <td>0</td>\n",
       "      <td>0.0</td>\n",
       "      <td>0</td>\n",
       "      <td>0</td>\n",
       "      <td>0.0</td>\n",
       "      <td>0.001</td>\n",
       "      <td>0.002</td>\n",
       "      <td>0</td>\n",
       "      <td>0</td>\n",
       "      <td>0</td>\n",
       "      <td>0</td>\n",
       "      <td>0.1</td>\n",
       "      <td>0</td>\n",
       "      <td>0.1</td>\n",
       "      <td>0.001</td>\n",
       "      <td>0.084</td>\n",
       "      <td>0.10</td>\n",
       "      <td>0.0</td>\n",
       "      <td>0.10</td>\n",
       "      <td>0.002</td>\n",
       "      <td>0</td>\n",
       "      <td>0</td>\n",
       "      <td>0</td>\n",
       "      <td>0</td>\n",
       "    </tr>\n",
       "    <tr>\n",
       "      <th>2</th>\n",
       "      <td>0.0000</td>\n",
       "      <td>0</td>\n",
       "      <td>0.14</td>\n",
       "      <td>0</td>\n",
       "      <td>0.00000</td>\n",
       "      <td>0.00005</td>\n",
       "      <td>0</td>\n",
       "      <td>0</td>\n",
       "      <td>0.0</td>\n",
       "      <td>0.0</td>\n",
       "      <td>0</td>\n",
       "      <td>0.1</td>\n",
       "      <td>0.0</td>\n",
       "      <td>0</td>\n",
       "      <td>0</td>\n",
       "      <td>0.0</td>\n",
       "      <td>0.0</td>\n",
       "      <td>0</td>\n",
       "      <td>0.0</td>\n",
       "      <td>0</td>\n",
       "      <td>0</td>\n",
       "      <td>0.0</td>\n",
       "      <td>0.001</td>\n",
       "      <td>0.001</td>\n",
       "      <td>0</td>\n",
       "      <td>0</td>\n",
       "      <td>0</td>\n",
       "      <td>0</td>\n",
       "      <td>0.1</td>\n",
       "      <td>0</td>\n",
       "      <td>0.0</td>\n",
       "      <td>0.002</td>\n",
       "      <td>0.085</td>\n",
       "      <td>0.10</td>\n",
       "      <td>0.0</td>\n",
       "      <td>0.10</td>\n",
       "      <td>0.002</td>\n",
       "      <td>0</td>\n",
       "      <td>0</td>\n",
       "      <td>0</td>\n",
       "      <td>0</td>\n",
       "    </tr>\n",
       "    <tr>\n",
       "      <th>3</th>\n",
       "      <td>0.0032</td>\n",
       "      <td>0</td>\n",
       "      <td>0.07</td>\n",
       "      <td>0</td>\n",
       "      <td>0.00104</td>\n",
       "      <td>0.00449</td>\n",
       "      <td>0</td>\n",
       "      <td>0</td>\n",
       "      <td>0.0</td>\n",
       "      <td>0.2</td>\n",
       "      <td>0</td>\n",
       "      <td>0.1</td>\n",
       "      <td>0.0</td>\n",
       "      <td>0</td>\n",
       "      <td>0</td>\n",
       "      <td>0.0</td>\n",
       "      <td>0.1</td>\n",
       "      <td>0</td>\n",
       "      <td>0.1</td>\n",
       "      <td>0</td>\n",
       "      <td>0</td>\n",
       "      <td>0.1</td>\n",
       "      <td>0.001</td>\n",
       "      <td>0.001</td>\n",
       "      <td>0</td>\n",
       "      <td>0</td>\n",
       "      <td>0</td>\n",
       "      <td>0</td>\n",
       "      <td>0.1</td>\n",
       "      <td>0</td>\n",
       "      <td>0.0</td>\n",
       "      <td>0.001</td>\n",
       "      <td>0.001</td>\n",
       "      <td>0.10</td>\n",
       "      <td>0.0</td>\n",
       "      <td>0.10</td>\n",
       "      <td>0.000</td>\n",
       "      <td>0</td>\n",
       "      <td>0</td>\n",
       "      <td>0</td>\n",
       "      <td>0</td>\n",
       "    </tr>\n",
       "    <tr>\n",
       "      <th>4</th>\n",
       "      <td>0.0067</td>\n",
       "      <td>0</td>\n",
       "      <td>0.34</td>\n",
       "      <td>0</td>\n",
       "      <td>0.00157</td>\n",
       "      <td>0.02703</td>\n",
       "      <td>0</td>\n",
       "      <td>0</td>\n",
       "      <td>0.1</td>\n",
       "      <td>0.0</td>\n",
       "      <td>0</td>\n",
       "      <td>0.1</td>\n",
       "      <td>0.0</td>\n",
       "      <td>0</td>\n",
       "      <td>0</td>\n",
       "      <td>0.0</td>\n",
       "      <td>0.0</td>\n",
       "      <td>0</td>\n",
       "      <td>0.0</td>\n",
       "      <td>0</td>\n",
       "      <td>0</td>\n",
       "      <td>0.0</td>\n",
       "      <td>0.001</td>\n",
       "      <td>0.001</td>\n",
       "      <td>0</td>\n",
       "      <td>0</td>\n",
       "      <td>0</td>\n",
       "      <td>0</td>\n",
       "      <td>0.1</td>\n",
       "      <td>0</td>\n",
       "      <td>0.0</td>\n",
       "      <td>0.002</td>\n",
       "      <td>0.001</td>\n",
       "      <td>0.05</td>\n",
       "      <td>0.1</td>\n",
       "      <td>0.05</td>\n",
       "      <td>0.000</td>\n",
       "      <td>0</td>\n",
       "      <td>0</td>\n",
       "      <td>0</td>\n",
       "      <td>0</td>\n",
       "    </tr>\n",
       "  </tbody>\n",
       "</table>\n",
       "</div>"
      ],
      "text/plain": [
       "   duration   protocol_type   service   flag   src_bytes   dst_bytes   land  \\\n",
       "0    0.0134               0      0.34      0     0.00100     0.39445      0   \n",
       "1    0.0000               0      0.14      0     0.00613     0.00000      0   \n",
       "2    0.0000               0      0.14      0     0.00000     0.00005      0   \n",
       "3    0.0032               0      0.07      0     0.00104     0.00449      0   \n",
       "4    0.0067               0      0.34      0     0.00157     0.02703      0   \n",
       "\n",
       "    wrong_fragment   urgent   hot   num_failed_logins   logged_in  \\\n",
       "0                0      0.2   0.0                   0         0.1   \n",
       "1                0      0.0   0.0                   0         0.1   \n",
       "2                0      0.0   0.0                   0         0.1   \n",
       "3                0      0.0   0.2                   0         0.1   \n",
       "4                0      0.1   0.0                   0         0.1   \n",
       "\n",
       "    num_compromised   root_shell   su_attempted   num_root  \\\n",
       "0               0.1            0              0        0.1   \n",
       "1               0.0            0              0        0.1   \n",
       "2               0.0            0              0        0.0   \n",
       "3               0.0            0              0        0.0   \n",
       "4               0.0            0              0        0.0   \n",
       "\n",
       "    num_file_creations   num_shells   num_access_files   num_outbound_cmds  \\\n",
       "0                  0.0            0                0.1                   0   \n",
       "1                  0.0            0                0.0                   0   \n",
       "2                  0.0            0                0.0                   0   \n",
       "3                  0.1            0                0.1                   0   \n",
       "4                  0.0            0                0.0                   0   \n",
       "\n",
       "    is_host_login   is_guest_login   count   srv_count   serror_rate  \\\n",
       "0               0              0.0   0.001       0.001             0   \n",
       "1               0              0.0   0.001       0.002             0   \n",
       "2               0              0.0   0.001       0.001             0   \n",
       "3               0              0.1   0.001       0.001             0   \n",
       "4               0              0.0   0.001       0.001             0   \n",
       "\n",
       "    srv_error_rate   rerror_rate   srv_rerror_rate   same_srv_rate  \\\n",
       "0                0             0                 0             0.1   \n",
       "1                0             0                 0             0.1   \n",
       "2                0             0                 0             0.1   \n",
       "3                0             0                 0             0.1   \n",
       "4                0             0                 0             0.1   \n",
       "\n",
       "    diff_srv_rate   srv_diff_host_rate   dst_host_count   dst_host_srv_count  \\\n",
       "0               0                  0.0            0.002                0.001   \n",
       "1               0                  0.1            0.001                0.084   \n",
       "2               0                  0.0            0.002                0.085   \n",
       "3               0                  0.0            0.001                0.001   \n",
       "4               0                  0.0            0.002                0.001   \n",
       "\n",
       "    dst_host_same_srv_rate   dst_host_diff_srv_rate  \\\n",
       "0                     0.05                      0.1   \n",
       "1                     0.10                      0.0   \n",
       "2                     0.10                      0.0   \n",
       "3                     0.10                      0.0   \n",
       "4                     0.05                      0.1   \n",
       "\n",
       "    dst_host_same_src_port_rate   dst_host_srv_diff_host_rate  \\\n",
       "0                          0.05                         0.000   \n",
       "1                          0.10                         0.002   \n",
       "2                          0.10                         0.002   \n",
       "3                          0.10                         0.000   \n",
       "4                          0.05                         0.000   \n",
       "\n",
       "    dst_host_serror_rate   dst_host_srv_serror_rate   dst_host_rerror_rate  \\\n",
       "0                      0                          0                      0   \n",
       "1                      0                          0                      0   \n",
       "2                      0                          0                      0   \n",
       "3                      0                          0                      0   \n",
       "4                      0                          0                      0   \n",
       "\n",
       "    dst_host_srv_rerror_rate  \n",
       "0                          0  \n",
       "1                          0  \n",
       "2                          0  \n",
       "3                          0  \n",
       "4                          0  "
      ]
     },
     "execution_count": 18,
     "metadata": {},
     "output_type": "execute_result"
    }
   ],
   "source": [
    "file3.head()"
   ]
  },
  {
   "cell_type": "code",
   "execution_count": 19,
   "id": "c8a6a52e",
   "metadata": {
    "executionInfo": {
     "elapsed": 63,
     "status": "ok",
     "timestamp": 1629119009971,
     "user": {
      "displayName": "akshay narake",
      "photoUrl": "https://lh3.googleusercontent.com/a-/AOh14GgGQ2ijZliaBz2TDDcO_VcMyvg0gC4fDSXa1giCfw=s64",
      "userId": "07482213745940841366"
     },
     "user_tz": -330
    },
    "id": "c8a6a52e"
   },
   "outputs": [],
   "source": [
    "file1['B_Target'] = 1\n",
    "file2['B_Target'] = 1\n",
    "file3['B_Target'] = 1\n",
    "file4['B_Target'] = 1\n",
    "file5['B_Target'] = 1\n",
    "file6['B_Target'] = 1\n",
    "file8['B_Target'] = 1\n",
    "file9['B_Target'] = 1\n",
    "file10['B_Target'] = 1\n",
    "file11['B_Target'] = 1"
   ]
  },
  {
   "cell_type": "code",
   "execution_count": 20,
   "id": "1837ccc4",
   "metadata": {
    "executionInfo": {
     "elapsed": 62,
     "status": "ok",
     "timestamp": 1629119009972,
     "user": {
      "displayName": "akshay narake",
      "photoUrl": "https://lh3.googleusercontent.com/a-/AOh14GgGQ2ijZliaBz2TDDcO_VcMyvg0gC4fDSXa1giCfw=s64",
      "userId": "07482213745940841366"
     },
     "user_tz": -330
    },
    "id": "1837ccc4"
   },
   "outputs": [],
   "source": [
    "# Combining all the files in one Dataset file.\n",
    "\n",
    "dataframes = [file1, file2, file3, file4, file5, file6, file7, file8, file9, file10, file11]"
   ]
  },
  {
   "cell_type": "code",
   "execution_count": 21,
   "id": "fb42a3a2",
   "metadata": {
    "executionInfo": {
     "elapsed": 1017,
     "status": "ok",
     "timestamp": 1629119010929,
     "user": {
      "displayName": "akshay narake",
      "photoUrl": "https://lh3.googleusercontent.com/a-/AOh14GgGQ2ijZliaBz2TDDcO_VcMyvg0gC4fDSXa1giCfw=s64",
      "userId": "07482213745940841366"
     },
     "user_tz": -330
    },
    "id": "fb42a3a2"
   },
   "outputs": [],
   "source": [
    "merge_df = pd.concat(dataframes, ignore_index=True)"
   ]
  },
  {
   "cell_type": "code",
   "execution_count": 22,
   "id": "294fccf4",
   "metadata": {
    "colab": {
     "base_uri": "https://localhost:8080/"
    },
    "executionInfo": {
     "elapsed": 87,
     "status": "ok",
     "timestamp": 1629119010931,
     "user": {
      "displayName": "akshay narake",
      "photoUrl": "https://lh3.googleusercontent.com/a-/AOh14GgGQ2ijZliaBz2TDDcO_VcMyvg0gC4fDSXa1giCfw=s64",
      "userId": "07482213745940841366"
     },
     "user_tz": -330
    },
    "id": "294fccf4",
    "outputId": "37e188e1-9dbc-48eb-836c-7d6219b79041"
   },
   "outputs": [
    {
     "data": {
      "text/plain": [
       "(817550, 42)"
      ]
     },
     "execution_count": 22,
     "metadata": {},
     "output_type": "execute_result"
    }
   ],
   "source": [
    "merge_df.shape"
   ]
  },
  {
   "cell_type": "code",
   "execution_count": 23,
   "id": "0a997dac",
   "metadata": {
    "executionInfo": {
     "elapsed": 83,
     "status": "ok",
     "timestamp": 1629119010933,
     "user": {
      "displayName": "akshay narake",
      "photoUrl": "https://lh3.googleusercontent.com/a-/AOh14GgGQ2ijZliaBz2TDDcO_VcMyvg0gC4fDSXa1giCfw=s64",
      "userId": "07482213745940841366"
     },
     "user_tz": -330
    },
    "id": "0a997dac"
   },
   "outputs": [],
   "source": [
    "cyber = merge_df.copy()"
   ]
  },
  {
   "cell_type": "code",
   "execution_count": 24,
   "id": "df9dbc59",
   "metadata": {
    "colab": {
     "base_uri": "https://localhost:8080/"
    },
    "executionInfo": {
     "elapsed": 83,
     "status": "ok",
     "timestamp": 1629119010935,
     "user": {
      "displayName": "akshay narake",
      "photoUrl": "https://lh3.googleusercontent.com/a-/AOh14GgGQ2ijZliaBz2TDDcO_VcMyvg0gC4fDSXa1giCfw=s64",
      "userId": "07482213745940841366"
     },
     "user_tz": -330
    },
    "id": "df9dbc59",
    "outputId": "21ee606a-419a-4adb-fd80-0f5aa8220576"
   },
   "outputs": [
    {
     "data": {
      "text/plain": [
       "(817550, 42)"
      ]
     },
     "execution_count": 24,
     "metadata": {},
     "output_type": "execute_result"
    }
   ],
   "source": [
    "cyber.shape"
   ]
  },
  {
   "cell_type": "code",
   "execution_count": 25,
   "id": "edf1f5a8",
   "metadata": {
    "colab": {
     "base_uri": "https://localhost:8080/"
    },
    "executionInfo": {
     "elapsed": 73,
     "status": "ok",
     "timestamp": 1629119010936,
     "user": {
      "displayName": "akshay narake",
      "photoUrl": "https://lh3.googleusercontent.com/a-/AOh14GgGQ2ijZliaBz2TDDcO_VcMyvg0gC4fDSXa1giCfw=s64",
      "userId": "07482213745940841366"
     },
     "user_tz": -330
    },
    "id": "edf1f5a8",
    "outputId": "9d56b76d-0366-4e40-99ae-2e7c4578d381"
   },
   "outputs": [
    {
     "data": {
      "text/plain": [
       "Index(['duration', ' protocol_type', ' service', ' flag', ' src_bytes',\n",
       "       ' dst_bytes', ' land', ' wrong_fragment', ' urgent', ' hot',\n",
       "       ' num_failed_logins', ' logged_in', ' num_compromised', ' root_shell',\n",
       "       ' su_attempted', ' num_root', ' num_file_creations', ' num_shells',\n",
       "       ' num_access_files', ' num_outbound_cmds', ' is_host_login',\n",
       "       ' is_guest_login', ' count', ' srv_count', ' serror_rate',\n",
       "       ' srv_error_rate', ' rerror_rate', ' srv_rerror_rate', ' same_srv_rate',\n",
       "       ' diff_srv_rate', ' srv_diff_host_rate', ' dst_host_count',\n",
       "       ' dst_host_srv_count', ' dst_host_same_srv_rate',\n",
       "       ' dst_host_diff_srv_rate', ' dst_host_same_src_port_rate',\n",
       "       ' dst_host_srv_diff_host_rate', ' dst_host_serror_rate',\n",
       "       ' dst_host_srv_serror_rate', ' dst_host_rerror_rate',\n",
       "       ' dst_host_srv_rerror_rate', 'B_Target'],\n",
       "      dtype='object')"
      ]
     },
     "execution_count": 25,
     "metadata": {},
     "output_type": "execute_result"
    }
   ],
   "source": [
    "cyber.columns"
   ]
  },
  {
   "cell_type": "code",
   "execution_count": 26,
   "id": "e021204b",
   "metadata": {
    "executionInfo": {
     "elapsed": 66,
     "status": "ok",
     "timestamp": 1629119010938,
     "user": {
      "displayName": "akshay narake",
      "photoUrl": "https://lh3.googleusercontent.com/a-/AOh14GgGQ2ijZliaBz2TDDcO_VcMyvg0gC4fDSXa1giCfw=s64",
      "userId": "07482213745940841366"
     },
     "user_tz": -330
    },
    "id": "e021204b"
   },
   "outputs": [],
   "source": [
    "cyber.columns = cyber.columns.str.replace(\" \", \"\")"
   ]
  },
  {
   "cell_type": "code",
   "execution_count": 27,
   "id": "c0e7620c",
   "metadata": {
    "colab": {
     "base_uri": "https://localhost:8080/"
    },
    "executionInfo": {
     "elapsed": 65,
     "status": "ok",
     "timestamp": 1629119010939,
     "user": {
      "displayName": "akshay narake",
      "photoUrl": "https://lh3.googleusercontent.com/a-/AOh14GgGQ2ijZliaBz2TDDcO_VcMyvg0gC4fDSXa1giCfw=s64",
      "userId": "07482213745940841366"
     },
     "user_tz": -330
    },
    "id": "c0e7620c",
    "outputId": "26550c5e-e0eb-4204-db2d-bed80764c1cb"
   },
   "outputs": [
    {
     "data": {
      "text/plain": [
       "Index(['duration', 'protocol_type', 'service', 'flag', 'src_bytes',\n",
       "       'dst_bytes', 'land', 'wrong_fragment', 'urgent', 'hot',\n",
       "       'num_failed_logins', 'logged_in', 'num_compromised', 'root_shell',\n",
       "       'su_attempted', 'num_root', 'num_file_creations', 'num_shells',\n",
       "       'num_access_files', 'num_outbound_cmds', 'is_host_login',\n",
       "       'is_guest_login', 'count', 'srv_count', 'serror_rate', 'srv_error_rate',\n",
       "       'rerror_rate', 'srv_rerror_rate', 'same_srv_rate', 'diff_srv_rate',\n",
       "       'srv_diff_host_rate', 'dst_host_count', 'dst_host_srv_count',\n",
       "       'dst_host_same_srv_rate', 'dst_host_diff_srv_rate',\n",
       "       'dst_host_same_src_port_rate', 'dst_host_srv_diff_host_rate',\n",
       "       'dst_host_serror_rate', 'dst_host_srv_serror_rate',\n",
       "       'dst_host_rerror_rate', 'dst_host_srv_rerror_rate', 'B_Target'],\n",
       "      dtype='object')"
      ]
     },
     "execution_count": 27,
     "metadata": {},
     "output_type": "execute_result"
    }
   ],
   "source": [
    "cyber.columns"
   ]
  },
  {
   "cell_type": "markdown",
   "id": "96c0369a",
   "metadata": {
    "id": "96c0369a"
   },
   "source": [
    "### Resampling strategies for imbalanced datasets\n",
    "\n",
    "Implementing Undersampling for Handling Imbalanced"
   ]
  },
  {
   "cell_type": "code",
   "execution_count": 28,
   "id": "8b6920d5",
   "metadata": {
    "executionInfo": {
     "elapsed": 56,
     "status": "ok",
     "timestamp": 1629119010942,
     "user": {
      "displayName": "akshay narake",
      "photoUrl": "https://lh3.googleusercontent.com/a-/AOh14GgGQ2ijZliaBz2TDDcO_VcMyvg0gC4fDSXa1giCfw=s64",
      "userId": "07482213745940841366"
     },
     "user_tz": -330
    },
    "id": "8b6920d5"
   },
   "outputs": [],
   "source": [
    "# Class count\n",
    "count_class_0, count_class_1 = cyber.B_Target.value_counts()"
   ]
  },
  {
   "cell_type": "code",
   "execution_count": 29,
   "id": "bde678ff",
   "metadata": {
    "colab": {
     "base_uri": "https://localhost:8080/"
    },
    "executionInfo": {
     "elapsed": 57,
     "status": "ok",
     "timestamp": 1629119010944,
     "user": {
      "displayName": "akshay narake",
      "photoUrl": "https://lh3.googleusercontent.com/a-/AOh14GgGQ2ijZliaBz2TDDcO_VcMyvg0gC4fDSXa1giCfw=s64",
      "userId": "07482213745940841366"
     },
     "user_tz": -330
    },
    "id": "bde678ff",
    "outputId": "095c76ee-4c6c-4d99-ab82-bb64b3252eaa"
   },
   "outputs": [
    {
     "data": {
      "text/plain": [
       "(576710, 240840)"
      ]
     },
     "execution_count": 29,
     "metadata": {},
     "output_type": "execute_result"
    }
   ],
   "source": [
    "count_class_0, count_class_1"
   ]
  },
  {
   "cell_type": "code",
   "execution_count": 30,
   "id": "98c4551a",
   "metadata": {
    "executionInfo": {
     "elapsed": 47,
     "status": "ok",
     "timestamp": 1629119010945,
     "user": {
      "displayName": "akshay narake",
      "photoUrl": "https://lh3.googleusercontent.com/a-/AOh14GgGQ2ijZliaBz2TDDcO_VcMyvg0gC4fDSXa1giCfw=s64",
      "userId": "07482213745940841366"
     },
     "user_tz": -330
    },
    "id": "98c4551a"
   },
   "outputs": [],
   "source": [
    "## Get the dependent & independent dataset by dividing class.\n",
    "\n",
    "df_class_0 = cyber[cyber['B_Target'] == 0]\n",
    "df_class_1 = cyber[cyber['B_Target'] == 1]"
   ]
  },
  {
   "cell_type": "code",
   "execution_count": 31,
   "id": "4155eddb",
   "metadata": {
    "colab": {
     "base_uri": "https://localhost:8080/"
    },
    "executionInfo": {
     "elapsed": 48,
     "status": "ok",
     "timestamp": 1629119010947,
     "user": {
      "displayName": "akshay narake",
      "photoUrl": "https://lh3.googleusercontent.com/a-/AOh14GgGQ2ijZliaBz2TDDcO_VcMyvg0gC4fDSXa1giCfw=s64",
      "userId": "07482213745940841366"
     },
     "user_tz": -330
    },
    "id": "4155eddb",
    "outputId": "506ae1e1-629d-4b2a-e12a-af396c535d9d"
   },
   "outputs": [
    {
     "data": {
      "text/plain": [
       "((576710, 42), (240840, 42))"
      ]
     },
     "execution_count": 31,
     "metadata": {},
     "output_type": "execute_result"
    }
   ],
   "source": [
    "df_class_0.shape, df_class_1.shape"
   ]
  },
  {
   "cell_type": "code",
   "execution_count": 32,
   "id": "c51a2437",
   "metadata": {
    "colab": {
     "base_uri": "https://localhost:8080/",
     "height": 351
    },
    "executionInfo": {
     "elapsed": 611,
     "status": "ok",
     "timestamp": 1629119011519,
     "user": {
      "displayName": "akshay narake",
      "photoUrl": "https://lh3.googleusercontent.com/a-/AOh14GgGQ2ijZliaBz2TDDcO_VcMyvg0gC4fDSXa1giCfw=s64",
      "userId": "07482213745940841366"
     },
     "user_tz": -330
    },
    "id": "c51a2437",
    "outputId": "48c93094-3721-415c-ad9b-44b24016781c"
   },
   "outputs": [
    {
     "name": "stdout",
     "output_type": "stream",
     "text": [
      "Random under-sampling:\n",
      "0    240840\n",
      "1    240840\n",
      "Name: B_Target, dtype: int64\n"
     ]
    },
    {
     "data": {
      "image/png": "[encoded data removed]",
      "text/plain": [
       "<Figure size 432x288 with 1 Axes>"
      ]
     },
     "metadata": {
      "needs_background": "light"
     },
     "output_type": "display_data"
    }
   ],
   "source": [
    "df_class_0_under = df_class_0.sample(count_class_1)\n",
    "df_test_under = pd.concat([df_class_0_under, df_class_1], axis=0)\n",
    "\n",
    "print('Random under-sampling:')\n",
    "print(df_test_under.B_Target.value_counts())\n",
    "\n",
    "df_test_under.B_Target.value_counts().plot(kind='bar', title='Count (target)');"
   ]
  },
  {
   "cell_type": "code",
   "execution_count": 33,
   "id": "a0ba6be2",
   "metadata": {
    "colab": {
     "base_uri": "https://localhost:8080/"
    },
    "executionInfo": {
     "elapsed": 41,
     "status": "ok",
     "timestamp": 1629119011523,
     "user": {
      "displayName": "akshay narake",
      "photoUrl": "https://lh3.googleusercontent.com/a-/AOh14GgGQ2ijZliaBz2TDDcO_VcMyvg0gC4fDSXa1giCfw=s64",
      "userId": "07482213745940841366"
     },
     "user_tz": -330
    },
    "id": "a0ba6be2",
    "outputId": "e4ee1c0c-13cf-4832-f84d-0f3f4c0f01e1"
   },
   "outputs": [
    {
     "data": {
      "text/plain": [
       "(481680, 42)"
      ]
     },
     "execution_count": 33,
     "metadata": {},
     "output_type": "execute_result"
    }
   ],
   "source": [
    "df_test_under.shape"
   ]
  },
  {
   "cell_type": "code",
   "execution_count": 34,
   "id": "4e078acf",
   "metadata": {
    "executionInfo": {
     "elapsed": 42,
     "status": "ok",
     "timestamp": 1629119011529,
     "user": {
      "displayName": "akshay narake",
      "photoUrl": "https://lh3.googleusercontent.com/a-/AOh14GgGQ2ijZliaBz2TDDcO_VcMyvg0gC4fDSXa1giCfw=s64",
      "userId": "07482213745940841366"
     },
     "user_tz": -330
    },
    "id": "4e078acf"
   },
   "outputs": [],
   "source": [
    "cyber = df_test_under.copy()"
   ]
  },
  {
   "cell_type": "code",
   "execution_count": 35,
   "id": "75e71d82",
   "metadata": {
    "colab": {
     "base_uri": "https://localhost:8080/"
    },
    "executionInfo": {
     "elapsed": 43,
     "status": "ok",
     "timestamp": 1629119011531,
     "user": {
      "displayName": "akshay narake",
      "photoUrl": "https://lh3.googleusercontent.com/a-/AOh14GgGQ2ijZliaBz2TDDcO_VcMyvg0gC4fDSXa1giCfw=s64",
      "userId": "07482213745940841366"
     },
     "user_tz": -330
    },
    "id": "75e71d82",
    "outputId": "35219ea1-276b-4fb1-eeef-5f8a928ed123"
   },
   "outputs": [
    {
     "data": {
      "text/plain": [
       "(481680, 42)"
      ]
     },
     "execution_count": 35,
     "metadata": {},
     "output_type": "execute_result"
    }
   ],
   "source": [
    "cyber.shape"
   ]
  },
  {
   "cell_type": "code",
   "execution_count": 36,
   "id": "ae36a895",
   "metadata": {
    "colab": {
     "base_uri": "https://localhost:8080/"
    },
    "executionInfo": {
     "elapsed": 40,
     "status": "ok",
     "timestamp": 1629119011534,
     "user": {
      "displayName": "akshay narake",
      "photoUrl": "https://lh3.googleusercontent.com/a-/AOh14GgGQ2ijZliaBz2TDDcO_VcMyvg0gC4fDSXa1giCfw=s64",
      "userId": "07482213745940841366"
     },
     "user_tz": -330
    },
    "id": "ae36a895",
    "outputId": "a702d363-7932-43fe-eb0f-e753c385dcfe"
   },
   "outputs": [
    {
     "data": {
      "text/plain": [
       "False"
      ]
     },
     "execution_count": 36,
     "metadata": {},
     "output_type": "execute_result"
    }
   ],
   "source": [
    "cyber.isnull().values.any()"
   ]
  },
  {
   "cell_type": "markdown",
   "id": "703944d9",
   "metadata": {
    "id": "703944d9"
   },
   "source": [
    "## Exploratory Data Analysis"
   ]
  },
  {
   "cell_type": "markdown",
   "id": "056e2a9e",
   "metadata": {
    "id": "056e2a9e"
   },
   "source": [
    "#### identifying relationships (between Y & numerical independent variables by comparing means)"
   ]
  },
  {
   "cell_type": "code",
   "execution_count": 37,
   "id": "90461d23",
   "metadata": {
    "colab": {
     "base_uri": "https://localhost:8080/"
    },
    "executionInfo": {
     "elapsed": 40,
     "status": "ok",
     "timestamp": 1629119011539,
     "user": {
      "displayName": "akshay narake",
      "photoUrl": "https://lh3.googleusercontent.com/a-/AOh14GgGQ2ijZliaBz2TDDcO_VcMyvg0gC4fDSXa1giCfw=s64",
      "userId": "07482213745940841366"
     },
     "user_tz": -330
    },
    "id": "90461d23",
    "outputId": "df538a9d-0eeb-416b-f603-a34b88c18a93"
   },
   "outputs": [
    {
     "data": {
      "text/plain": [
       "0    240840\n",
       "1    240840\n",
       "Name: B_Target, dtype: int64"
      ]
     },
     "execution_count": 37,
     "metadata": {},
     "output_type": "execute_result"
    }
   ],
   "source": [
    "# Distribution of Y\n",
    "cyber.B_Target.value_counts()"
   ]
  },
  {
   "cell_type": "code",
   "execution_count": 38,
   "id": "69d50aa3",
   "metadata": {
    "colab": {
     "base_uri": "https://localhost:8080/"
    },
    "executionInfo": {
     "elapsed": 39,
     "status": "ok",
     "timestamp": 1629119011543,
     "user": {
      "displayName": "akshay narake",
      "photoUrl": "https://lh3.googleusercontent.com/a-/AOh14GgGQ2ijZliaBz2TDDcO_VcMyvg0gC4fDSXa1giCfw=s64",
      "userId": "07482213745940841366"
     },
     "user_tz": -330
    },
    "id": "69d50aa3",
    "outputId": "0afa53ef-03bf-40b8-f302-7bafe49d3c3d"
   },
   "outputs": [
    {
     "data": {
      "text/plain": [
       "0    0.5\n",
       "1    0.5\n",
       "Name: B_Target, dtype: float64"
      ]
     },
     "execution_count": 38,
     "metadata": {},
     "output_type": "execute_result"
    }
   ],
   "source": [
    "cyber.B_Target.value_counts()/cyber.B_Target.count()"
   ]
  },
  {
   "cell_type": "code",
   "execution_count": 39,
   "id": "6d1d519c",
   "metadata": {
    "colab": {
     "base_uri": "https://localhost:8080/",
     "height": 290
    },
    "executionInfo": {
     "elapsed": 2556,
     "status": "ok",
     "timestamp": 1629119014065,
     "user": {
      "displayName": "akshay narake",
      "photoUrl": "https://lh3.googleusercontent.com/a-/AOh14GgGQ2ijZliaBz2TDDcO_VcMyvg0gC4fDSXa1giCfw=s64",
      "userId": "07482213745940841366"
     },
     "user_tz": -330
    },
    "id": "6d1d519c",
    "outputId": "a1e61a52-217f-446b-eed6-f5087870e104"
   },
   "outputs": [
    {
     "data": {
      "image/png": "[encoded data removed]",
      "text/plain": [
       "<Figure size 432x288 with 1 Axes>"
      ]
     },
     "metadata": {
      "needs_background": "light"
     },
     "output_type": "display_data"
    }
   ],
   "source": [
    "sns.countplot(x = \"B_Target\", data=cyber)\n",
    "plt.show()"
   ]
  },
  {
   "cell_type": "code",
   "execution_count": 40,
   "id": "dee1a74c",
   "metadata": {
    "colab": {
     "base_uri": "https://localhost:8080/",
     "height": 162
    },
    "executionInfo": {
     "elapsed": 64,
     "status": "ok",
     "timestamp": 1629119014070,
     "user": {
      "displayName": "akshay narake",
      "photoUrl": "https://lh3.googleusercontent.com/a-/AOh14GgGQ2ijZliaBz2TDDcO_VcMyvg0gC4fDSXa1giCfw=s64",
      "userId": "07482213745940841366"
     },
     "user_tz": -330
    },
    "id": "dee1a74c",
    "outputId": "bfcfc678-8533-4910-8b1a-91295f8d8c32"
   },
   "outputs": [
    {
     "data": {
      "text/html": [
       "<div>\n",
       "<style scoped>\n",
       "    .dataframe tbody tr th:only-of-type {\n",
       "        vertical-align: middle;\n",
       "    }\n",
       "\n",
       "    .dataframe tbody tr th {\n",
       "        vertical-align: top;\n",
       "    }\n",
       "\n",
       "    .dataframe thead th {\n",
       "        text-align: right;\n",
       "    }\n",
       "</style>\n",
       "<table border=\"1\" class=\"dataframe\">\n",
       "  <thead>\n",
       "    <tr style=\"text-align: right;\">\n",
       "      <th></th>\n",
       "      <th>duration</th>\n",
       "      <th>protocol_type</th>\n",
       "      <th>service</th>\n",
       "      <th>flag</th>\n",
       "      <th>src_bytes</th>\n",
       "      <th>dst_bytes</th>\n",
       "      <th>land</th>\n",
       "      <th>wrong_fragment</th>\n",
       "      <th>urgent</th>\n",
       "      <th>hot</th>\n",
       "      <th>num_failed_logins</th>\n",
       "      <th>logged_in</th>\n",
       "      <th>num_compromised</th>\n",
       "      <th>root_shell</th>\n",
       "      <th>su_attempted</th>\n",
       "      <th>num_root</th>\n",
       "      <th>num_file_creations</th>\n",
       "      <th>num_shells</th>\n",
       "      <th>num_access_files</th>\n",
       "      <th>num_outbound_cmds</th>\n",
       "      <th>is_host_login</th>\n",
       "      <th>is_guest_login</th>\n",
       "      <th>count</th>\n",
       "      <th>srv_count</th>\n",
       "      <th>serror_rate</th>\n",
       "      <th>srv_error_rate</th>\n",
       "      <th>rerror_rate</th>\n",
       "      <th>srv_rerror_rate</th>\n",
       "      <th>same_srv_rate</th>\n",
       "      <th>diff_srv_rate</th>\n",
       "      <th>srv_diff_host_rate</th>\n",
       "      <th>dst_host_count</th>\n",
       "      <th>dst_host_srv_count</th>\n",
       "      <th>dst_host_same_srv_rate</th>\n",
       "      <th>dst_host_diff_srv_rate</th>\n",
       "      <th>dst_host_same_src_port_rate</th>\n",
       "      <th>dst_host_srv_diff_host_rate</th>\n",
       "      <th>dst_host_serror_rate</th>\n",
       "      <th>dst_host_srv_serror_rate</th>\n",
       "      <th>dst_host_rerror_rate</th>\n",
       "      <th>dst_host_srv_rerror_rate</th>\n",
       "    </tr>\n",
       "    <tr>\n",
       "      <th>B_Target</th>\n",
       "      <th></th>\n",
       "      <th></th>\n",
       "      <th></th>\n",
       "      <th></th>\n",
       "      <th></th>\n",
       "      <th></th>\n",
       "      <th></th>\n",
       "      <th></th>\n",
       "      <th></th>\n",
       "      <th></th>\n",
       "      <th></th>\n",
       "      <th></th>\n",
       "      <th></th>\n",
       "      <th></th>\n",
       "      <th></th>\n",
       "      <th></th>\n",
       "      <th></th>\n",
       "      <th></th>\n",
       "      <th></th>\n",
       "      <th></th>\n",
       "      <th></th>\n",
       "      <th></th>\n",
       "      <th></th>\n",
       "      <th></th>\n",
       "      <th></th>\n",
       "      <th></th>\n",
       "      <th></th>\n",
       "      <th></th>\n",
       "      <th></th>\n",
       "      <th></th>\n",
       "      <th></th>\n",
       "      <th></th>\n",
       "      <th></th>\n",
       "      <th></th>\n",
       "      <th></th>\n",
       "      <th></th>\n",
       "      <th></th>\n",
       "      <th></th>\n",
       "      <th></th>\n",
       "      <th></th>\n",
       "      <th></th>\n",
       "    </tr>\n",
       "  </thead>\n",
       "  <tbody>\n",
       "    <tr>\n",
       "      <th>0</th>\n",
       "      <td>0.000661</td>\n",
       "      <td>0.000628</td>\n",
       "      <td>0.008493</td>\n",
       "      <td>0.001109</td>\n",
       "      <td>0.006044</td>\n",
       "      <td>0.035201</td>\n",
       "      <td>0</td>\n",
       "      <td>0.000000</td>\n",
       "      <td>0.000003</td>\n",
       "      <td>0.003117</td>\n",
       "      <td>0.000007</td>\n",
       "      <td>0.090365</td>\n",
       "      <td>0.000232</td>\n",
       "      <td>0.000037</td>\n",
       "      <td>0.000013</td>\n",
       "      <td>0.002023</td>\n",
       "      <td>0.000419</td>\n",
       "      <td>0.000029</td>\n",
       "      <td>5.019930e-04</td>\n",
       "      <td>0</td>\n",
       "      <td>4.152134e-07</td>\n",
       "      <td>0.000390</td>\n",
       "      <td>0.010205</td>\n",
       "      <td>0.013695</td>\n",
       "      <td>0.000142</td>\n",
       "      <td>0.000184</td>\n",
       "      <td>0.002123</td>\n",
       "      <td>0.002135</td>\n",
       "      <td>0.099565</td>\n",
       "      <td>0.000679</td>\n",
       "      <td>0.014058</td>\n",
       "      <td>0.131170</td>\n",
       "      <td>0.223415</td>\n",
       "      <td>0.092173</td>\n",
       "      <td>0.001174</td>\n",
       "      <td>0.007581</td>\n",
       "      <td>0.002326</td>\n",
       "      <td>0.000174</td>\n",
       "      <td>0.000078</td>\n",
       "      <td>0.002248</td>\n",
       "      <td>0.002100</td>\n",
       "    </tr>\n",
       "    <tr>\n",
       "      <th>1</th>\n",
       "      <td>0.001382</td>\n",
       "      <td>0.000418</td>\n",
       "      <td>0.159174</td>\n",
       "      <td>0.065755</td>\n",
       "      <td>0.002309</td>\n",
       "      <td>0.000353</td>\n",
       "      <td>0</td>\n",
       "      <td>0.000001</td>\n",
       "      <td>0.000002</td>\n",
       "      <td>0.000829</td>\n",
       "      <td>0.000025</td>\n",
       "      <td>0.000443</td>\n",
       "      <td>0.000397</td>\n",
       "      <td>0.000008</td>\n",
       "      <td>0.000000</td>\n",
       "      <td>0.000014</td>\n",
       "      <td>0.000010</td>\n",
       "      <td>0.000000</td>\n",
       "      <td>8.304268e-07</td>\n",
       "      <td>0</td>\n",
       "      <td>0.000000e+00</td>\n",
       "      <td>0.000001</td>\n",
       "      <td>0.178760</td>\n",
       "      <td>0.015068</td>\n",
       "      <td>0.083945</td>\n",
       "      <td>0.084188</td>\n",
       "      <td>0.013052</td>\n",
       "      <td>0.012863</td>\n",
       "      <td>0.010984</td>\n",
       "      <td>0.008354</td>\n",
       "      <td>0.000496</td>\n",
       "      <td>0.251674</td>\n",
       "      <td>0.014088</td>\n",
       "      <td>0.006126</td>\n",
       "      <td>0.008673</td>\n",
       "      <td>0.002815</td>\n",
       "      <td>0.000122</td>\n",
       "      <td>0.083989</td>\n",
       "      <td>0.084180</td>\n",
       "      <td>0.012781</td>\n",
       "      <td>0.012817</td>\n",
       "    </tr>\n",
       "  </tbody>\n",
       "</table>\n",
       "</div>"
      ],
      "text/plain": [
       "          duration  protocol_type   service      flag  src_bytes  dst_bytes  \\\n",
       "B_Target                                                                      \n",
       "0         0.000661       0.000628  0.008493  0.001109   0.006044   0.035201   \n",
       "1         0.001382       0.000418  0.159174  0.065755   0.002309   0.000353   \n",
       "\n",
       "          land  wrong_fragment    urgent       hot  num_failed_logins  \\\n",
       "B_Target                                                                \n",
       "0            0        0.000000  0.000003  0.003117           0.000007   \n",
       "1            0        0.000001  0.000002  0.000829           0.000025   \n",
       "\n",
       "          logged_in  num_compromised  root_shell  su_attempted  num_root  \\\n",
       "B_Target                                                                   \n",
       "0          0.090365         0.000232    0.000037      0.000013  0.002023   \n",
       "1          0.000443         0.000397    0.000008      0.000000  0.000014   \n",
       "\n",
       "          num_file_creations  num_shells  num_access_files  num_outbound_cmds  \\\n",
       "B_Target                                                                        \n",
       "0                   0.000419    0.000029      5.019930e-04                  0   \n",
       "1                   0.000010    0.000000      8.304268e-07                  0   \n",
       "\n",
       "          is_host_login  is_guest_login     count  srv_count  serror_rate  \\\n",
       "B_Target                                                                    \n",
       "0          4.152134e-07        0.000390  0.010205   0.013695     0.000142   \n",
       "1          0.000000e+00        0.000001  0.178760   0.015068     0.083945   \n",
       "\n",
       "          srv_error_rate  rerror_rate  srv_rerror_rate  same_srv_rate  \\\n",
       "B_Target                                                                \n",
       "0               0.000184     0.002123         0.002135       0.099565   \n",
       "1               0.084188     0.013052         0.012863       0.010984   \n",
       "\n",
       "          diff_srv_rate  srv_diff_host_rate  dst_host_count  \\\n",
       "B_Target                                                      \n",
       "0              0.000679            0.014058        0.131170   \n",
       "1              0.008354            0.000496        0.251674   \n",
       "\n",
       "          dst_host_srv_count  dst_host_same_srv_rate  dst_host_diff_srv_rate  \\\n",
       "B_Target                                                                       \n",
       "0                   0.223415                0.092173                0.001174   \n",
       "1                   0.014088                0.006126                0.008673   \n",
       "\n",
       "          dst_host_same_src_port_rate  dst_host_srv_diff_host_rate  \\\n",
       "B_Target                                                             \n",
       "0                            0.007581                     0.002326   \n",
       "1                            0.002815                     0.000122   \n",
       "\n",
       "          dst_host_serror_rate  dst_host_srv_serror_rate  \\\n",
       "B_Target                                                   \n",
       "0                     0.000174                  0.000078   \n",
       "1                     0.083989                  0.084180   \n",
       "\n",
       "          dst_host_rerror_rate  dst_host_srv_rerror_rate  \n",
       "B_Target                                                  \n",
       "0                     0.002248                  0.002100  \n",
       "1                     0.012781                  0.012817  "
      ]
     },
     "execution_count": 40,
     "metadata": {},
     "output_type": "execute_result"
    }
   ],
   "source": [
    "cyber.groupby('B_Target').mean()"
   ]
  },
  {
   "cell_type": "markdown",
   "id": "c9f57659",
   "metadata": {
    "id": "c9f57659"
   },
   "source": [
    "#### Dropping the variables based on the data audit report (near zero variance, high missing, higly correlated variables, business logic)"
   ]
  },
  {
   "cell_type": "code",
   "execution_count": 41,
   "id": "619d9145",
   "metadata": {
    "executionInfo": {
     "elapsed": 61,
     "status": "ok",
     "timestamp": 1629119014073,
     "user": {
      "displayName": "akshay narake",
      "photoUrl": "https://lh3.googleusercontent.com/a-/AOh14GgGQ2ijZliaBz2TDDcO_VcMyvg0gC4fDSXa1giCfw=s64",
      "userId": "07482213745940841366"
     },
     "user_tz": -330
    },
    "id": "619d9145"
   },
   "outputs": [],
   "source": [
    "cyber.drop(['hot', 'srv_count', 'num_compromised', 'diff_srv_rate', 'dst_host_srv_diff_host_rate'], axis=1, inplace=True)"
   ]
  },
  {
   "cell_type": "code",
   "execution_count": 42,
   "id": "bc82c284",
   "metadata": {
    "colab": {
     "base_uri": "https://localhost:8080/"
    },
    "executionInfo": {
     "elapsed": 64,
     "status": "ok",
     "timestamp": 1629119014077,
     "user": {
      "displayName": "akshay narake",
      "photoUrl": "https://lh3.googleusercontent.com/a-/AOh14GgGQ2ijZliaBz2TDDcO_VcMyvg0gC4fDSXa1giCfw=s64",
      "userId": "07482213745940841366"
     },
     "user_tz": -330
    },
    "id": "bc82c284",
    "outputId": "d804552c-79b7-4e5b-f843-2a862283f0eb"
   },
   "outputs": [
    {
     "data": {
      "text/plain": [
       "(481680, 37)"
      ]
     },
     "execution_count": 42,
     "metadata": {},
     "output_type": "execute_result"
    }
   ],
   "source": [
    "cyber.shape"
   ]
  },
  {
   "cell_type": "markdown",
   "id": "ee899f69",
   "metadata": {
    "id": "ee899f69"
   },
   "source": [
    "#### Missing Value Treatment"
   ]
  },
  {
   "cell_type": "code",
   "execution_count": 43,
   "id": "0e7c04c0",
   "metadata": {
    "executionInfo": {
     "elapsed": 10,
     "status": "ok",
     "timestamp": 1629119014599,
     "user": {
      "displayName": "akshay narake",
      "photoUrl": "https://lh3.googleusercontent.com/a-/AOh14GgGQ2ijZliaBz2TDDcO_VcMyvg0gC4fDSXa1giCfw=s64",
      "userId": "07482213745940841366"
     },
     "user_tz": -330
    },
    "id": "0e7c04c0"
   },
   "outputs": [],
   "source": [
    "data_cat = cyber[['protocol_type', 'land', 'wrong_fragment', 'urgent', 'logged_in', 'root_shell', 'su_attempted', 'num_shells', 'num_outbound_cmds', 'is_host_login', 'is_guest_login', 'B_Target']]"
   ]
  },
  {
   "cell_type": "code",
   "execution_count": 44,
   "id": "f4efc6bc",
   "metadata": {
    "executionInfo": {
     "elapsed": 8,
     "status": "ok",
     "timestamp": 1629119014599,
     "user": {
      "displayName": "akshay narake",
      "photoUrl": "https://lh3.googleusercontent.com/a-/AOh14GgGQ2ijZliaBz2TDDcO_VcMyvg0gC4fDSXa1giCfw=s64",
      "userId": "07482213745940841366"
     },
     "user_tz": -330
    },
    "id": "f4efc6bc"
   },
   "outputs": [],
   "source": [
    "data_num = cyber[['duration','service','flag','src_bytes','dst_bytes','num_failed_logins','num_root','num_file_creations','num_access_files','count','serror_rate','srv_error_rate','rerror_rate','srv_rerror_rate','same_srv_rate','srv_diff_host_rate','dst_host_count','dst_host_srv_count','dst_host_same_srv_rate','dst_host_diff_srv_rate','dst_host_same_src_port_rate','dst_host_serror_rate','dst_host_srv_serror_rate','dst_host_rerror_rate','dst_host_srv_rerror_rate']]"
   ]
  },
  {
   "cell_type": "code",
   "execution_count": 45,
   "id": "847b9fd7",
   "metadata": {
    "executionInfo": {
     "elapsed": 1649,
     "status": "ok",
     "timestamp": 1629119016241,
     "user": {
      "displayName": "akshay narake",
      "photoUrl": "https://lh3.googleusercontent.com/a-/AOh14GgGQ2ijZliaBz2TDDcO_VcMyvg0gC4fDSXa1giCfw=s64",
      "userId": "07482213745940841366"
     },
     "user_tz": -330
    },
    "id": "847b9fd7"
   },
   "outputs": [],
   "source": [
    "# Creating Data audit Report by using a general function that returns multiple values\n",
    "def var_summary(x):\n",
    "    return pd.Series([x.count(), x.isnull().sum(), x.sum(), x.mean(), x.median(),  x.std(), x.var(), x.min(), x.dropna().quantile(0.01), x.dropna().quantile(0.05),x.dropna().quantile(0.10),x.dropna().quantile(0.25),x.dropna().quantile(0.50),x.dropna().quantile(0.75), x.dropna().quantile(0.90),x.dropna().quantile(0.95), x.dropna().quantile(0.99),x.max()], \n",
    "                  index=['N', 'NMISS', 'SUM', 'MEAN','MEDIAN', 'STD', 'VAR', 'MIN', 'P1' , 'P5' ,'P10' ,'P25' ,'P50' ,'P75' ,'P90' ,'P95' ,'P99' ,'MAX'])\n",
    "\n",
    "num_summary=data_num.apply(lambda x: var_summary(x)).T"
   ]
  },
  {
   "cell_type": "code",
   "execution_count": 46,
   "id": "ebd54584",
   "metadata": {
    "colab": {
     "base_uri": "https://localhost:8080/",
     "height": 839
    },
    "executionInfo": {
     "elapsed": 30,
     "status": "ok",
     "timestamp": 1629119016247,
     "user": {
      "displayName": "akshay narake",
      "photoUrl": "https://lh3.googleusercontent.com/a-/AOh14GgGQ2ijZliaBz2TDDcO_VcMyvg0gC4fDSXa1giCfw=s64",
      "userId": "07482213745940841366"
     },
     "user_tz": -330
    },
    "id": "ebd54584",
    "outputId": "25ea1c8f-1d97-408c-987c-ce09327b9267"
   },
   "outputs": [
    {
     "data": {
      "text/html": [
       "<div>\n",
       "<style scoped>\n",
       "    .dataframe tbody tr th:only-of-type {\n",
       "        vertical-align: middle;\n",
       "    }\n",
       "\n",
       "    .dataframe tbody tr th {\n",
       "        vertical-align: top;\n",
       "    }\n",
       "\n",
       "    .dataframe thead th {\n",
       "        text-align: right;\n",
       "    }\n",
       "</style>\n",
       "<table border=\"1\" class=\"dataframe\">\n",
       "  <thead>\n",
       "    <tr style=\"text-align: right;\">\n",
       "      <th></th>\n",
       "      <th>N</th>\n",
       "      <th>NMISS</th>\n",
       "      <th>SUM</th>\n",
       "      <th>MEAN</th>\n",
       "      <th>MEDIAN</th>\n",
       "      <th>STD</th>\n",
       "      <th>VAR</th>\n",
       "      <th>MIN</th>\n",
       "      <th>P1</th>\n",
       "      <th>P5</th>\n",
       "      <th>P10</th>\n",
       "      <th>P25</th>\n",
       "      <th>P50</th>\n",
       "      <th>P75</th>\n",
       "      <th>P90</th>\n",
       "      <th>P95</th>\n",
       "      <th>P99</th>\n",
       "      <th>MAX</th>\n",
       "    </tr>\n",
       "  </thead>\n",
       "  <tbody>\n",
       "    <tr>\n",
       "      <th>duration</th>\n",
       "      <td>481680.0</td>\n",
       "      <td>0.0</td>\n",
       "      <td>492.21390</td>\n",
       "      <td>0.001022</td>\n",
       "      <td>0.00000</td>\n",
       "      <td>0.029373</td>\n",
       "      <td>0.000863</td>\n",
       "      <td>0.0</td>\n",
       "      <td>0.000</td>\n",
       "      <td>0.000</td>\n",
       "      <td>0.000</td>\n",
       "      <td>0.000</td>\n",
       "      <td>0.00000</td>\n",
       "      <td>0.00000</td>\n",
       "      <td>0.00000</td>\n",
       "      <td>0.00000</td>\n",
       "      <td>0.000900</td>\n",
       "      <td>1.000</td>\n",
       "    </tr>\n",
       "    <tr>\n",
       "      <th>service</th>\n",
       "      <td>481680.0</td>\n",
       "      <td>0.0</td>\n",
       "      <td>40381.06000</td>\n",
       "      <td>0.083834</td>\n",
       "      <td>0.07000</td>\n",
       "      <td>0.113167</td>\n",
       "      <td>0.012807</td>\n",
       "      <td>0.0</td>\n",
       "      <td>0.000</td>\n",
       "      <td>0.000</td>\n",
       "      <td>0.000</td>\n",
       "      <td>0.000</td>\n",
       "      <td>0.07000</td>\n",
       "      <td>0.12000</td>\n",
       "      <td>0.14000</td>\n",
       "      <td>0.33000</td>\n",
       "      <td>0.560000</td>\n",
       "      <td>0.670</td>\n",
       "    </tr>\n",
       "    <tr>\n",
       "      <th>flag</th>\n",
       "      <td>481680.0</td>\n",
       "      <td>0.0</td>\n",
       "      <td>16103.50000</td>\n",
       "      <td>0.033432</td>\n",
       "      <td>0.00000</td>\n",
       "      <td>0.034043</td>\n",
       "      <td>0.001159</td>\n",
       "      <td>0.0</td>\n",
       "      <td>0.000</td>\n",
       "      <td>0.000</td>\n",
       "      <td>0.000</td>\n",
       "      <td>0.000</td>\n",
       "      <td>0.00000</td>\n",
       "      <td>0.07000</td>\n",
       "      <td>0.07000</td>\n",
       "      <td>0.07000</td>\n",
       "      <td>0.070000</td>\n",
       "      <td>0.100</td>\n",
       "    </tr>\n",
       "    <tr>\n",
       "      <th>src_bytes</th>\n",
       "      <td>481680.0</td>\n",
       "      <td>0.0</td>\n",
       "      <td>2011.67334</td>\n",
       "      <td>0.004176</td>\n",
       "      <td>0.00007</td>\n",
       "      <td>0.033566</td>\n",
       "      <td>0.001127</td>\n",
       "      <td>0.0</td>\n",
       "      <td>0.000</td>\n",
       "      <td>0.000</td>\n",
       "      <td>0.000</td>\n",
       "      <td>0.000</td>\n",
       "      <td>0.00007</td>\n",
       "      <td>0.00255</td>\n",
       "      <td>0.00334</td>\n",
       "      <td>0.00923</td>\n",
       "      <td>0.045390</td>\n",
       "      <td>1.000</td>\n",
       "    </tr>\n",
       "    <tr>\n",
       "      <th>dst_bytes</th>\n",
       "      <td>481680.0</td>\n",
       "      <td>0.0</td>\n",
       "      <td>8562.74502</td>\n",
       "      <td>0.017777</td>\n",
       "      <td>0.00000</td>\n",
       "      <td>0.057374</td>\n",
       "      <td>0.003292</td>\n",
       "      <td>0.0</td>\n",
       "      <td>0.000</td>\n",
       "      <td>0.000</td>\n",
       "      <td>0.000</td>\n",
       "      <td>0.000</td>\n",
       "      <td>0.00000</td>\n",
       "      <td>0.01108</td>\n",
       "      <td>0.04391</td>\n",
       "      <td>0.09216</td>\n",
       "      <td>0.261229</td>\n",
       "      <td>1.000</td>\n",
       "    </tr>\n",
       "    <tr>\n",
       "      <th>num_failed_logins</th>\n",
       "      <td>481680.0</td>\n",
       "      <td>0.0</td>\n",
       "      <td>7.90000</td>\n",
       "      <td>0.000016</td>\n",
       "      <td>0.00000</td>\n",
       "      <td>0.001572</td>\n",
       "      <td>0.000002</td>\n",
       "      <td>0.0</td>\n",
       "      <td>0.000</td>\n",
       "      <td>0.000</td>\n",
       "      <td>0.000</td>\n",
       "      <td>0.000</td>\n",
       "      <td>0.00000</td>\n",
       "      <td>0.00000</td>\n",
       "      <td>0.00000</td>\n",
       "      <td>0.00000</td>\n",
       "      <td>0.000000</td>\n",
       "      <td>0.500</td>\n",
       "    </tr>\n",
       "    <tr>\n",
       "      <th>num_root</th>\n",
       "      <td>481680.0</td>\n",
       "      <td>0.0</td>\n",
       "      <td>490.50000</td>\n",
       "      <td>0.001018</td>\n",
       "      <td>0.00000</td>\n",
       "      <td>0.026389</td>\n",
       "      <td>0.000696</td>\n",
       "      <td>0.0</td>\n",
       "      <td>0.000</td>\n",
       "      <td>0.000</td>\n",
       "      <td>0.000</td>\n",
       "      <td>0.000</td>\n",
       "      <td>0.00000</td>\n",
       "      <td>0.00000</td>\n",
       "      <td>0.00000</td>\n",
       "      <td>0.00000</td>\n",
       "      <td>0.000000</td>\n",
       "      <td>1.000</td>\n",
       "    </tr>\n",
       "    <tr>\n",
       "      <th>num_file_creations</th>\n",
       "      <td>481680.0</td>\n",
       "      <td>0.0</td>\n",
       "      <td>103.40000</td>\n",
       "      <td>0.000215</td>\n",
       "      <td>0.00000</td>\n",
       "      <td>0.009986</td>\n",
       "      <td>0.000100</td>\n",
       "      <td>0.0</td>\n",
       "      <td>0.000</td>\n",
       "      <td>0.000</td>\n",
       "      <td>0.000</td>\n",
       "      <td>0.000</td>\n",
       "      <td>0.00000</td>\n",
       "      <td>0.00000</td>\n",
       "      <td>0.00000</td>\n",
       "      <td>0.00000</td>\n",
       "      <td>0.000000</td>\n",
       "      <td>1.000</td>\n",
       "    </tr>\n",
       "    <tr>\n",
       "      <th>num_access_files</th>\n",
       "      <td>481680.0</td>\n",
       "      <td>0.0</td>\n",
       "      <td>121.10000</td>\n",
       "      <td>0.000251</td>\n",
       "      <td>0.00000</td>\n",
       "      <td>0.005505</td>\n",
       "      <td>0.000030</td>\n",
       "      <td>0.0</td>\n",
       "      <td>0.000</td>\n",
       "      <td>0.000</td>\n",
       "      <td>0.000</td>\n",
       "      <td>0.000</td>\n",
       "      <td>0.00000</td>\n",
       "      <td>0.00000</td>\n",
       "      <td>0.00000</td>\n",
       "      <td>0.00000</td>\n",
       "      <td>0.000000</td>\n",
       "      <td>0.700</td>\n",
       "    </tr>\n",
       "    <tr>\n",
       "      <th>count</th>\n",
       "      <td>481680.0</td>\n",
       "      <td>0.0</td>\n",
       "      <td>45510.54600</td>\n",
       "      <td>0.094483</td>\n",
       "      <td>0.02900</td>\n",
       "      <td>0.105737</td>\n",
       "      <td>0.011180</td>\n",
       "      <td>0.0</td>\n",
       "      <td>0.001</td>\n",
       "      <td>0.001</td>\n",
       "      <td>0.001</td>\n",
       "      <td>0.005</td>\n",
       "      <td>0.02900</td>\n",
       "      <td>0.17800</td>\n",
       "      <td>0.25600</td>\n",
       "      <td>0.27900</td>\n",
       "      <td>0.300000</td>\n",
       "      <td>0.511</td>\n",
       "    </tr>\n",
       "    <tr>\n",
       "      <th>serror_rate</th>\n",
       "      <td>481680.0</td>\n",
       "      <td>0.0</td>\n",
       "      <td>20251.28600</td>\n",
       "      <td>0.042043</td>\n",
       "      <td>0.00000</td>\n",
       "      <td>0.049226</td>\n",
       "      <td>0.002423</td>\n",
       "      <td>0.0</td>\n",
       "      <td>0.000</td>\n",
       "      <td>0.000</td>\n",
       "      <td>0.000</td>\n",
       "      <td>0.000</td>\n",
       "      <td>0.00000</td>\n",
       "      <td>0.10000</td>\n",
       "      <td>0.10000</td>\n",
       "      <td>0.10000</td>\n",
       "      <td>0.100000</td>\n",
       "      <td>0.100</td>\n",
       "    </tr>\n",
       "    <tr>\n",
       "      <th>srv_error_rate</th>\n",
       "      <td>481680.0</td>\n",
       "      <td>0.0</td>\n",
       "      <td>20320.10000</td>\n",
       "      <td>0.042186</td>\n",
       "      <td>0.00000</td>\n",
       "      <td>0.049309</td>\n",
       "      <td>0.002431</td>\n",
       "      <td>0.0</td>\n",
       "      <td>0.000</td>\n",
       "      <td>0.000</td>\n",
       "      <td>0.000</td>\n",
       "      <td>0.000</td>\n",
       "      <td>0.00000</td>\n",
       "      <td>0.10000</td>\n",
       "      <td>0.10000</td>\n",
       "      <td>0.10000</td>\n",
       "      <td>0.100000</td>\n",
       "      <td>0.100</td>\n",
       "    </tr>\n",
       "    <tr>\n",
       "      <th>rerror_rate</th>\n",
       "      <td>481680.0</td>\n",
       "      <td>0.0</td>\n",
       "      <td>3654.58600</td>\n",
       "      <td>0.007587</td>\n",
       "      <td>0.00000</td>\n",
       "      <td>0.026260</td>\n",
       "      <td>0.000690</td>\n",
       "      <td>0.0</td>\n",
       "      <td>0.000</td>\n",
       "      <td>0.000</td>\n",
       "      <td>0.000</td>\n",
       "      <td>0.000</td>\n",
       "      <td>0.00000</td>\n",
       "      <td>0.00000</td>\n",
       "      <td>0.00000</td>\n",
       "      <td>0.10000</td>\n",
       "      <td>0.100000</td>\n",
       "      <td>0.100</td>\n",
       "    </tr>\n",
       "    <tr>\n",
       "      <th>srv_rerror_rate</th>\n",
       "      <td>481680.0</td>\n",
       "      <td>0.0</td>\n",
       "      <td>3612.22200</td>\n",
       "      <td>0.007499</td>\n",
       "      <td>0.00000</td>\n",
       "      <td>0.026182</td>\n",
       "      <td>0.000685</td>\n",
       "      <td>0.0</td>\n",
       "      <td>0.000</td>\n",
       "      <td>0.000</td>\n",
       "      <td>0.000</td>\n",
       "      <td>0.000</td>\n",
       "      <td>0.00000</td>\n",
       "      <td>0.00000</td>\n",
       "      <td>0.00000</td>\n",
       "      <td>0.10000</td>\n",
       "      <td>0.100000</td>\n",
       "      <td>0.100</td>\n",
       "    </tr>\n",
       "    <tr>\n",
       "      <th>same_srv_rate</th>\n",
       "      <td>481680.0</td>\n",
       "      <td>0.0</td>\n",
       "      <td>26624.59400</td>\n",
       "      <td>0.055274</td>\n",
       "      <td>0.10000</td>\n",
       "      <td>0.046300</td>\n",
       "      <td>0.002144</td>\n",
       "      <td>0.0</td>\n",
       "      <td>0.000</td>\n",
       "      <td>0.001</td>\n",
       "      <td>0.003</td>\n",
       "      <td>0.006</td>\n",
       "      <td>0.10000</td>\n",
       "      <td>0.10000</td>\n",
       "      <td>0.10000</td>\n",
       "      <td>0.10000</td>\n",
       "      <td>0.100000</td>\n",
       "      <td>0.100</td>\n",
       "    </tr>\n",
       "    <tr>\n",
       "      <th>srv_diff_host_rate</th>\n",
       "      <td>481680.0</td>\n",
       "      <td>0.0</td>\n",
       "      <td>3505.18000</td>\n",
       "      <td>0.007277</td>\n",
       "      <td>0.00000</td>\n",
       "      <td>0.020622</td>\n",
       "      <td>0.000425</td>\n",
       "      <td>0.0</td>\n",
       "      <td>0.000</td>\n",
       "      <td>0.000</td>\n",
       "      <td>0.000</td>\n",
       "      <td>0.000</td>\n",
       "      <td>0.00000</td>\n",
       "      <td>0.00000</td>\n",
       "      <td>0.02100</td>\n",
       "      <td>0.05000</td>\n",
       "      <td>0.100000</td>\n",
       "      <td>0.100</td>\n",
       "    </tr>\n",
       "    <tr>\n",
       "      <th>dst_host_count</th>\n",
       "      <td>481680.0</td>\n",
       "      <td>0.0</td>\n",
       "      <td>92204.09600</td>\n",
       "      <td>0.191422</td>\n",
       "      <td>0.25500</td>\n",
       "      <td>0.095267</td>\n",
       "      <td>0.009076</td>\n",
       "      <td>0.0</td>\n",
       "      <td>0.002</td>\n",
       "      <td>0.008</td>\n",
       "      <td>0.021</td>\n",
       "      <td>0.104</td>\n",
       "      <td>0.25500</td>\n",
       "      <td>0.25500</td>\n",
       "      <td>0.25500</td>\n",
       "      <td>0.25500</td>\n",
       "      <td>0.255000</td>\n",
       "      <td>0.255</td>\n",
       "    </tr>\n",
       "    <tr>\n",
       "      <th>dst_host_srv_count</th>\n",
       "      <td>481680.0</td>\n",
       "      <td>0.0</td>\n",
       "      <td>57200.21700</td>\n",
       "      <td>0.118751</td>\n",
       "      <td>0.02900</td>\n",
       "      <td>0.116318</td>\n",
       "      <td>0.013530</td>\n",
       "      <td>0.0</td>\n",
       "      <td>0.001</td>\n",
       "      <td>0.002</td>\n",
       "      <td>0.004</td>\n",
       "      <td>0.010</td>\n",
       "      <td>0.02900</td>\n",
       "      <td>0.25500</td>\n",
       "      <td>0.25500</td>\n",
       "      <td>0.25500</td>\n",
       "      <td>0.255000</td>\n",
       "      <td>0.255</td>\n",
       "    </tr>\n",
       "    <tr>\n",
       "      <th>dst_host_same_srv_rate</th>\n",
       "      <td>481680.0</td>\n",
       "      <td>0.0</td>\n",
       "      <td>23674.34300</td>\n",
       "      <td>0.049150</td>\n",
       "      <td>0.02300</td>\n",
       "      <td>0.046320</td>\n",
       "      <td>0.002146</td>\n",
       "      <td>0.0</td>\n",
       "      <td>0.000</td>\n",
       "      <td>0.001</td>\n",
       "      <td>0.002</td>\n",
       "      <td>0.004</td>\n",
       "      <td>0.02300</td>\n",
       "      <td>0.10000</td>\n",
       "      <td>0.10000</td>\n",
       "      <td>0.10000</td>\n",
       "      <td>0.100000</td>\n",
       "      <td>0.100</td>\n",
       "    </tr>\n",
       "    <tr>\n",
       "      <th>dst_host_diff_srv_rate</th>\n",
       "      <td>481680.0</td>\n",
       "      <td>0.0</td>\n",
       "      <td>2371.62800</td>\n",
       "      <td>0.004924</td>\n",
       "      <td>0.00500</td>\n",
       "      <td>0.010035</td>\n",
       "      <td>0.000101</td>\n",
       "      <td>0.0</td>\n",
       "      <td>0.000</td>\n",
       "      <td>0.000</td>\n",
       "      <td>0.000</td>\n",
       "      <td>0.000</td>\n",
       "      <td>0.00500</td>\n",
       "      <td>0.00700</td>\n",
       "      <td>0.00800</td>\n",
       "      <td>0.00900</td>\n",
       "      <td>0.062000</td>\n",
       "      <td>0.100</td>\n",
       "    </tr>\n",
       "    <tr>\n",
       "      <th>dst_host_same_src_port_rate</th>\n",
       "      <td>481680.0</td>\n",
       "      <td>0.0</td>\n",
       "      <td>2503.77700</td>\n",
       "      <td>0.005198</td>\n",
       "      <td>0.00000</td>\n",
       "      <td>0.016957</td>\n",
       "      <td>0.000288</td>\n",
       "      <td>0.0</td>\n",
       "      <td>0.000</td>\n",
       "      <td>0.000</td>\n",
       "      <td>0.000</td>\n",
       "      <td>0.000</td>\n",
       "      <td>0.00000</td>\n",
       "      <td>0.00100</td>\n",
       "      <td>0.01000</td>\n",
       "      <td>0.03300</td>\n",
       "      <td>0.100000</td>\n",
       "      <td>0.100</td>\n",
       "    </tr>\n",
       "    <tr>\n",
       "      <th>dst_host_serror_rate</th>\n",
       "      <td>481680.0</td>\n",
       "      <td>0.0</td>\n",
       "      <td>20269.70900</td>\n",
       "      <td>0.042081</td>\n",
       "      <td>0.00000</td>\n",
       "      <td>0.049209</td>\n",
       "      <td>0.002422</td>\n",
       "      <td>0.0</td>\n",
       "      <td>0.000</td>\n",
       "      <td>0.000</td>\n",
       "      <td>0.000</td>\n",
       "      <td>0.000</td>\n",
       "      <td>0.00000</td>\n",
       "      <td>0.10000</td>\n",
       "      <td>0.10000</td>\n",
       "      <td>0.10000</td>\n",
       "      <td>0.100000</td>\n",
       "      <td>0.100</td>\n",
       "    </tr>\n",
       "    <tr>\n",
       "      <th>dst_host_srv_serror_rate</th>\n",
       "      <td>481680.0</td>\n",
       "      <td>0.0</td>\n",
       "      <td>20292.78300</td>\n",
       "      <td>0.042129</td>\n",
       "      <td>0.00000</td>\n",
       "      <td>0.049327</td>\n",
       "      <td>0.002433</td>\n",
       "      <td>0.0</td>\n",
       "      <td>0.000</td>\n",
       "      <td>0.000</td>\n",
       "      <td>0.000</td>\n",
       "      <td>0.000</td>\n",
       "      <td>0.00000</td>\n",
       "      <td>0.10000</td>\n",
       "      <td>0.10000</td>\n",
       "      <td>0.10000</td>\n",
       "      <td>0.100000</td>\n",
       "      <td>0.100</td>\n",
       "    </tr>\n",
       "    <tr>\n",
       "      <th>dst_host_rerror_rate</th>\n",
       "      <td>481680.0</td>\n",
       "      <td>0.0</td>\n",
       "      <td>3619.43300</td>\n",
       "      <td>0.007514</td>\n",
       "      <td>0.00000</td>\n",
       "      <td>0.025739</td>\n",
       "      <td>0.000663</td>\n",
       "      <td>0.0</td>\n",
       "      <td>0.000</td>\n",
       "      <td>0.000</td>\n",
       "      <td>0.000</td>\n",
       "      <td>0.000</td>\n",
       "      <td>0.00000</td>\n",
       "      <td>0.00000</td>\n",
       "      <td>0.00000</td>\n",
       "      <td>0.10000</td>\n",
       "      <td>0.100000</td>\n",
       "      <td>0.100</td>\n",
       "    </tr>\n",
       "    <tr>\n",
       "      <th>dst_host_srv_rerror_rate</th>\n",
       "      <td>481680.0</td>\n",
       "      <td>0.0</td>\n",
       "      <td>3592.61900</td>\n",
       "      <td>0.007459</td>\n",
       "      <td>0.00000</td>\n",
       "      <td>0.026081</td>\n",
       "      <td>0.000680</td>\n",
       "      <td>0.0</td>\n",
       "      <td>0.000</td>\n",
       "      <td>0.000</td>\n",
       "      <td>0.000</td>\n",
       "      <td>0.000</td>\n",
       "      <td>0.00000</td>\n",
       "      <td>0.00000</td>\n",
       "      <td>0.00000</td>\n",
       "      <td>0.10000</td>\n",
       "      <td>0.100000</td>\n",
       "      <td>0.100</td>\n",
       "    </tr>\n",
       "  </tbody>\n",
       "</table>\n",
       "</div>"
      ],
      "text/plain": [
       "                                    N  NMISS          SUM      MEAN   MEDIAN  \\\n",
       "duration                     481680.0    0.0    492.21390  0.001022  0.00000   \n",
       "service                      481680.0    0.0  40381.06000  0.083834  0.07000   \n",
       "flag                         481680.0    0.0  16103.50000  0.033432  0.00000   \n",
       "src_bytes                    481680.0    0.0   2011.67334  0.004176  0.00007   \n",
       "dst_bytes                    481680.0    0.0   8562.74502  0.017777  0.00000   \n",
       "num_failed_logins            481680.0    0.0      7.90000  0.000016  0.00000   \n",
       "num_root                     481680.0    0.0    490.50000  0.001018  0.00000   \n",
       "num_file_creations           481680.0    0.0    103.40000  0.000215  0.00000   \n",
       "num_access_files             481680.0    0.0    121.10000  0.000251  0.00000   \n",
       "count                        481680.0    0.0  45510.54600  0.094483  0.02900   \n",
       "serror_rate                  481680.0    0.0  20251.28600  0.042043  0.00000   \n",
       "srv_error_rate               481680.0    0.0  20320.10000  0.042186  0.00000   \n",
       "rerror_rate                  481680.0    0.0   3654.58600  0.007587  0.00000   \n",
       "srv_rerror_rate              481680.0    0.0   3612.22200  0.007499  0.00000   \n",
       "same_srv_rate                481680.0    0.0  26624.59400  0.055274  0.10000   \n",
       "srv_diff_host_rate           481680.0    0.0   3505.18000  0.007277  0.00000   \n",
       "dst_host_count               481680.0    0.0  92204.09600  0.191422  0.25500   \n",
       "dst_host_srv_count           481680.0    0.0  57200.21700  0.118751  0.02900   \n",
       "dst_host_same_srv_rate       481680.0    0.0  23674.34300  0.049150  0.02300   \n",
       "dst_host_diff_srv_rate       481680.0    0.0   2371.62800  0.004924  0.00500   \n",
       "dst_host_same_src_port_rate  481680.0    0.0   2503.77700  0.005198  0.00000   \n",
       "dst_host_serror_rate         481680.0    0.0  20269.70900  0.042081  0.00000   \n",
       "dst_host_srv_serror_rate     481680.0    0.0  20292.78300  0.042129  0.00000   \n",
       "dst_host_rerror_rate         481680.0    0.0   3619.43300  0.007514  0.00000   \n",
       "dst_host_srv_rerror_rate     481680.0    0.0   3592.61900  0.007459  0.00000   \n",
       "\n",
       "                                  STD       VAR  MIN     P1     P5    P10  \\\n",
       "duration                     0.029373  0.000863  0.0  0.000  0.000  0.000   \n",
       "service                      0.113167  0.012807  0.0  0.000  0.000  0.000   \n",
       "flag                         0.034043  0.001159  0.0  0.000  0.000  0.000   \n",
       "src_bytes                    0.033566  0.001127  0.0  0.000  0.000  0.000   \n",
       "dst_bytes                    0.057374  0.003292  0.0  0.000  0.000  0.000   \n",
       "num_failed_logins            0.001572  0.000002  0.0  0.000  0.000  0.000   \n",
       "num_root                     0.026389  0.000696  0.0  0.000  0.000  0.000   \n",
       "num_file_creations           0.009986  0.000100  0.0  0.000  0.000  0.000   \n",
       "num_access_files             0.005505  0.000030  0.0  0.000  0.000  0.000   \n",
       "count                        0.105737  0.011180  0.0  0.001  0.001  0.001   \n",
       "serror_rate                  0.049226  0.002423  0.0  0.000  0.000  0.000   \n",
       "srv_error_rate               0.049309  0.002431  0.0  0.000  0.000  0.000   \n",
       "rerror_rate                  0.026260  0.000690  0.0  0.000  0.000  0.000   \n",
       "srv_rerror_rate              0.026182  0.000685  0.0  0.000  0.000  0.000   \n",
       "same_srv_rate                0.046300  0.002144  0.0  0.000  0.001  0.003   \n",
       "srv_diff_host_rate           0.020622  0.000425  0.0  0.000  0.000  0.000   \n",
       "dst_host_count               0.095267  0.009076  0.0  0.002  0.008  0.021   \n",
       "dst_host_srv_count           0.116318  0.013530  0.0  0.001  0.002  0.004   \n",
       "dst_host_same_srv_rate       0.046320  0.002146  0.0  0.000  0.001  0.002   \n",
       "dst_host_diff_srv_rate       0.010035  0.000101  0.0  0.000  0.000  0.000   \n",
       "dst_host_same_src_port_rate  0.016957  0.000288  0.0  0.000  0.000  0.000   \n",
       "dst_host_serror_rate         0.049209  0.002422  0.0  0.000  0.000  0.000   \n",
       "dst_host_srv_serror_rate     0.049327  0.002433  0.0  0.000  0.000  0.000   \n",
       "dst_host_rerror_rate         0.025739  0.000663  0.0  0.000  0.000  0.000   \n",
       "dst_host_srv_rerror_rate     0.026081  0.000680  0.0  0.000  0.000  0.000   \n",
       "\n",
       "                               P25      P50      P75      P90      P95  \\\n",
       "duration                     0.000  0.00000  0.00000  0.00000  0.00000   \n",
       "service                      0.000  0.07000  0.12000  0.14000  0.33000   \n",
       "flag                         0.000  0.00000  0.07000  0.07000  0.07000   \n",
       "src_bytes                    0.000  0.00007  0.00255  0.00334  0.00923   \n",
       "dst_bytes                    0.000  0.00000  0.01108  0.04391  0.09216   \n",
       "num_failed_logins            0.000  0.00000  0.00000  0.00000  0.00000   \n",
       "num_root                     0.000  0.00000  0.00000  0.00000  0.00000   \n",
       "num_file_creations           0.000  0.00000  0.00000  0.00000  0.00000   \n",
       "num_access_files             0.000  0.00000  0.00000  0.00000  0.00000   \n",
       "count                        0.005  0.02900  0.17800  0.25600  0.27900   \n",
       "serror_rate                  0.000  0.00000  0.10000  0.10000  0.10000   \n",
       "srv_error_rate               0.000  0.00000  0.10000  0.10000  0.10000   \n",
       "rerror_rate                  0.000  0.00000  0.00000  0.00000  0.10000   \n",
       "srv_rerror_rate              0.000  0.00000  0.00000  0.00000  0.10000   \n",
       "same_srv_rate                0.006  0.10000  0.10000  0.10000  0.10000   \n",
       "srv_diff_host_rate           0.000  0.00000  0.00000  0.02100  0.05000   \n",
       "dst_host_count               0.104  0.25500  0.25500  0.25500  0.25500   \n",
       "dst_host_srv_count           0.010  0.02900  0.25500  0.25500  0.25500   \n",
       "dst_host_same_srv_rate       0.004  0.02300  0.10000  0.10000  0.10000   \n",
       "dst_host_diff_srv_rate       0.000  0.00500  0.00700  0.00800  0.00900   \n",
       "dst_host_same_src_port_rate  0.000  0.00000  0.00100  0.01000  0.03300   \n",
       "dst_host_serror_rate         0.000  0.00000  0.10000  0.10000  0.10000   \n",
       "dst_host_srv_serror_rate     0.000  0.00000  0.10000  0.10000  0.10000   \n",
       "dst_host_rerror_rate         0.000  0.00000  0.00000  0.00000  0.10000   \n",
       "dst_host_srv_rerror_rate     0.000  0.00000  0.00000  0.00000  0.10000   \n",
       "\n",
       "                                  P99    MAX  \n",
       "duration                     0.000900  1.000  \n",
       "service                      0.560000  0.670  \n",
       "flag                         0.070000  0.100  \n",
       "src_bytes                    0.045390  1.000  \n",
       "dst_bytes                    0.261229  1.000  \n",
       "num_failed_logins            0.000000  0.500  \n",
       "num_root                     0.000000  1.000  \n",
       "num_file_creations           0.000000  1.000  \n",
       "num_access_files             0.000000  0.700  \n",
       "count                        0.300000  0.511  \n",
       "serror_rate                  0.100000  0.100  \n",
       "srv_error_rate               0.100000  0.100  \n",
       "rerror_rate                  0.100000  0.100  \n",
       "srv_rerror_rate              0.100000  0.100  \n",
       "same_srv_rate                0.100000  0.100  \n",
       "srv_diff_host_rate           0.100000  0.100  \n",
       "dst_host_count               0.255000  0.255  \n",
       "dst_host_srv_count           0.255000  0.255  \n",
       "dst_host_same_srv_rate       0.100000  0.100  \n",
       "dst_host_diff_srv_rate       0.062000  0.100  \n",
       "dst_host_same_src_port_rate  0.100000  0.100  \n",
       "dst_host_serror_rate         0.100000  0.100  \n",
       "dst_host_srv_serror_rate     0.100000  0.100  \n",
       "dst_host_rerror_rate         0.100000  0.100  \n",
       "dst_host_srv_rerror_rate     0.100000  0.100  "
      ]
     },
     "execution_count": 46,
     "metadata": {},
     "output_type": "execute_result"
    }
   ],
   "source": [
    "num_summary"
   ]
  },
  {
   "cell_type": "code",
   "execution_count": 47,
   "id": "f48cbdc4",
   "metadata": {
    "executionInfo": {
     "elapsed": 784,
     "status": "ok",
     "timestamp": 1629119017010,
     "user": {
      "displayName": "akshay narake",
      "photoUrl": "https://lh3.googleusercontent.com/a-/AOh14GgGQ2ijZliaBz2TDDcO_VcMyvg0gC4fDSXa1giCfw=s64",
      "userId": "07482213745940841366"
     },
     "user_tz": -330
    },
    "id": "f48cbdc4"
   },
   "outputs": [],
   "source": [
    "def cat_summary(x):\n",
    "    return pd.Series([x.count(), x.isnull().sum(), x.value_counts()], \n",
    "                  index=['N', 'NMISS', 'ColumnsNames'])\n",
    "\n",
    "cat_summary=data_cat.apply(cat_summary)"
   ]
  },
  {
   "cell_type": "code",
   "execution_count": 48,
   "id": "bb10f805",
   "metadata": {
    "colab": {
     "base_uri": "https://localhost:8080/",
     "height": 262
    },
    "executionInfo": {
     "elapsed": 36,
     "status": "ok",
     "timestamp": 1629119017018,
     "user": {
      "displayName": "akshay narake",
      "photoUrl": "https://lh3.googleusercontent.com/a-/AOh14GgGQ2ijZliaBz2TDDcO_VcMyvg0gC4fDSXa1giCfw=s64",
      "userId": "07482213745940841366"
     },
     "user_tz": -330
    },
    "id": "bb10f805",
    "outputId": "e0ad70ce-7c91-4617-b272-a15401a61644"
   },
   "outputs": [
    {
     "data": {
      "text/html": [
       "<div>\n",
       "<style scoped>\n",
       "    .dataframe tbody tr th:only-of-type {\n",
       "        vertical-align: middle;\n",
       "    }\n",
       "\n",
       "    .dataframe tbody tr th {\n",
       "        vertical-align: top;\n",
       "    }\n",
       "\n",
       "    .dataframe thead th {\n",
       "        text-align: right;\n",
       "    }\n",
       "</style>\n",
       "<table border=\"1\" class=\"dataframe\">\n",
       "  <thead>\n",
       "    <tr style=\"text-align: right;\">\n",
       "      <th></th>\n",
       "      <th>protocol_type</th>\n",
       "      <th>land</th>\n",
       "      <th>wrong_fragment</th>\n",
       "      <th>urgent</th>\n",
       "      <th>logged_in</th>\n",
       "      <th>root_shell</th>\n",
       "      <th>su_attempted</th>\n",
       "      <th>num_shells</th>\n",
       "      <th>num_outbound_cmds</th>\n",
       "      <th>is_host_login</th>\n",
       "      <th>is_guest_login</th>\n",
       "      <th>B_Target</th>\n",
       "    </tr>\n",
       "  </thead>\n",
       "  <tbody>\n",
       "    <tr>\n",
       "      <th>N</th>\n",
       "      <td>481680</td>\n",
       "      <td>481680</td>\n",
       "      <td>481680</td>\n",
       "      <td>481680</td>\n",
       "      <td>481680</td>\n",
       "      <td>481680</td>\n",
       "      <td>481680</td>\n",
       "      <td>481680</td>\n",
       "      <td>481680</td>\n",
       "      <td>481680</td>\n",
       "      <td>481680</td>\n",
       "      <td>481680</td>\n",
       "    </tr>\n",
       "    <tr>\n",
       "      <th>NMISS</th>\n",
       "      <td>0</td>\n",
       "      <td>0</td>\n",
       "      <td>0</td>\n",
       "      <td>0</td>\n",
       "      <td>0</td>\n",
       "      <td>0</td>\n",
       "      <td>0</td>\n",
       "      <td>0</td>\n",
       "      <td>0</td>\n",
       "      <td>0</td>\n",
       "      <td>0</td>\n",
       "      <td>0</td>\n",
       "    </tr>\n",
       "    <tr>\n",
       "      <th>ColumnsNames</th>\n",
       "      <td>0.00    461175\n",
       "0.01     15823\n",
       "0.02      4682\n",
       "N...</td>\n",
       "      <td>0    481680\n",
       "Name: land, dtype: int64</td>\n",
       "      <td>0.0    481679\n",
       "0.3         1\n",
       "Name: wrong_fragme...</td>\n",
       "      <td>0.0    481674\n",
       "0.1         3\n",
       "0.2         2\n",
       "0.5 ...</td>\n",
       "      <td>0.0    262976\n",
       "0.1    218704\n",
       "Name: logged_in, d...</td>\n",
       "      <td>0.0    481570\n",
       "0.1       110\n",
       "Name: root_shell, ...</td>\n",
       "      <td>0.0    481660\n",
       "0.2        11\n",
       "0.1         9\n",
       "Name...</td>\n",
       "      <td>0.0    481611\n",
       "0.1        68\n",
       "0.2         1\n",
       "Name...</td>\n",
       "      <td>0    481680\n",
       "Name: num_outbound_cmds, dtype: int64</td>\n",
       "      <td>0.0    481679\n",
       "0.1         1\n",
       "Name: is_host_logi...</td>\n",
       "      <td>0.0    480738\n",
       "0.1       942\n",
       "Name: is_guest_log...</td>\n",
       "      <td>0    240840\n",
       "1    240840\n",
       "Name: B_Target, dtype:...</td>\n",
       "    </tr>\n",
       "  </tbody>\n",
       "</table>\n",
       "</div>"
      ],
      "text/plain": [
       "                                                  protocol_type  \\\n",
       "N                                                        481680   \n",
       "NMISS                                                         0   \n",
       "ColumnsNames  0.00    461175\n",
       "0.01     15823\n",
       "0.02      4682\n",
       "N...   \n",
       "\n",
       "                                              land  \\\n",
       "N                                           481680   \n",
       "NMISS                                            0   \n",
       "ColumnsNames  0    481680\n",
       "Name: land, dtype: int64   \n",
       "\n",
       "                                                 wrong_fragment  \\\n",
       "N                                                        481680   \n",
       "NMISS                                                         0   \n",
       "ColumnsNames  0.0    481679\n",
       "0.3         1\n",
       "Name: wrong_fragme...   \n",
       "\n",
       "                                                         urgent  \\\n",
       "N                                                        481680   \n",
       "NMISS                                                         0   \n",
       "ColumnsNames  0.0    481674\n",
       "0.1         3\n",
       "0.2         2\n",
       "0.5 ...   \n",
       "\n",
       "                                                      logged_in  \\\n",
       "N                                                        481680   \n",
       "NMISS                                                         0   \n",
       "ColumnsNames  0.0    262976\n",
       "0.1    218704\n",
       "Name: logged_in, d...   \n",
       "\n",
       "                                                     root_shell  \\\n",
       "N                                                        481680   \n",
       "NMISS                                                         0   \n",
       "ColumnsNames  0.0    481570\n",
       "0.1       110\n",
       "Name: root_shell, ...   \n",
       "\n",
       "                                                   su_attempted  \\\n",
       "N                                                        481680   \n",
       "NMISS                                                         0   \n",
       "ColumnsNames  0.0    481660\n",
       "0.2        11\n",
       "0.1         9\n",
       "Name...   \n",
       "\n",
       "                                                     num_shells  \\\n",
       "N                                                        481680   \n",
       "NMISS                                                         0   \n",
       "ColumnsNames  0.0    481611\n",
       "0.1        68\n",
       "0.2         1\n",
       "Name...   \n",
       "\n",
       "                                              num_outbound_cmds  \\\n",
       "N                                                        481680   \n",
       "NMISS                                                         0   \n",
       "ColumnsNames  0    481680\n",
       "Name: num_outbound_cmds, dtype: int64   \n",
       "\n",
       "                                                  is_host_login  \\\n",
       "N                                                        481680   \n",
       "NMISS                                                         0   \n",
       "ColumnsNames  0.0    481679\n",
       "0.1         1\n",
       "Name: is_host_logi...   \n",
       "\n",
       "                                                 is_guest_login  \\\n",
       "N                                                        481680   \n",
       "NMISS                                                         0   \n",
       "ColumnsNames  0.0    480738\n",
       "0.1       942\n",
       "Name: is_guest_log...   \n",
       "\n",
       "                                                       B_Target  \n",
       "N                                                        481680  \n",
       "NMISS                                                         0  \n",
       "ColumnsNames  0    240840\n",
       "1    240840\n",
       "Name: B_Target, dtype:...  "
      ]
     },
     "execution_count": 48,
     "metadata": {},
     "output_type": "execute_result"
    }
   ],
   "source": [
    "cat_summary"
   ]
  },
  {
   "cell_type": "markdown",
   "id": "d4379651",
   "metadata": {
    "id": "d4379651"
   },
   "source": [
    "#### HANDLING MISSING AND OUTLIERS"
   ]
  },
  {
   "cell_type": "code",
   "execution_count": 49,
   "id": "4a6a7ca6",
   "metadata": {
    "executionInfo": {
     "elapsed": 44,
     "status": "ok",
     "timestamp": 1629119017030,
     "user": {
      "displayName": "akshay narake",
      "photoUrl": "https://lh3.googleusercontent.com/a-/AOh14GgGQ2ijZliaBz2TDDcO_VcMyvg0gC4fDSXa1giCfw=s64",
      "userId": "07482213745940841366"
     },
     "user_tz": -330
    },
    "id": "4a6a7ca6"
   },
   "outputs": [],
   "source": [
    "def missing_cat(x):\n",
    "    t = x.value_counts()\n",
    "    x[x=='unknown'] = t.index[0]\n",
    "    return x\n",
    "\n",
    "def missing_num(x):\n",
    "    x[x==999] = np.nan\n",
    "    x = x.fillna(x.median())\n",
    "    return x\n",
    "\n",
    "def outlier_capping(x):\n",
    "    x = x.clip(lower = x.quantile(0.01), upper=x.quantile(0.25))\n",
    "    return x"
   ]
  },
  {
   "cell_type": "code",
   "execution_count": 50,
   "id": "b40d03dc",
   "metadata": {
    "executionInfo": {
     "elapsed": 219097,
     "status": "ok",
     "timestamp": 1629119236084,
     "user": {
      "displayName": "akshay narake",
      "photoUrl": "https://lh3.googleusercontent.com/a-/AOh14GgGQ2ijZliaBz2TDDcO_VcMyvg0gC4fDSXa1giCfw=s64",
      "userId": "07482213745940841366"
     },
     "user_tz": -330
    },
    "id": "b40d03dc"
   },
   "outputs": [],
   "source": [
    "data_cat=data_cat.apply(missing_cat)\n",
    "data_num=data_num.apply(missing_num)\n",
    "data_num=data_num.apply(outlier_capping)"
   ]
  },
  {
   "cell_type": "code",
   "execution_count": 51,
   "id": "7d8793bc",
   "metadata": {
    "executionInfo": {
     "elapsed": 16,
     "status": "ok",
     "timestamp": 1629119236090,
     "user": {
      "displayName": "akshay narake",
      "photoUrl": "https://lh3.googleusercontent.com/a-/AOh14GgGQ2ijZliaBz2TDDcO_VcMyvg0gC4fDSXa1giCfw=s64",
      "userId": "07482213745940841366"
     },
     "user_tz": -330
    },
    "id": "7d8793bc"
   },
   "outputs": [],
   "source": [
    "data_new = pd.concat([data_num, data_cat], axis=1)"
   ]
  },
  {
   "cell_type": "code",
   "execution_count": 52,
   "id": "1a745ff5",
   "metadata": {
    "colab": {
     "base_uri": "https://localhost:8080/"
    },
    "executionInfo": {
     "elapsed": 14,
     "status": "ok",
     "timestamp": 1629119236092,
     "user": {
      "displayName": "akshay narake",
      "photoUrl": "https://lh3.googleusercontent.com/a-/AOh14GgGQ2ijZliaBz2TDDcO_VcMyvg0gC4fDSXa1giCfw=s64",
      "userId": "07482213745940841366"
     },
     "user_tz": -330
    },
    "id": "1a745ff5",
    "outputId": "73532907-06b2-436b-9361-267877ff124e"
   },
   "outputs": [
    {
     "data": {
      "text/plain": [
       "(481680, 37)"
      ]
     },
     "execution_count": 52,
     "metadata": {},
     "output_type": "execute_result"
    }
   ],
   "source": [
    "data_new.shape"
   ]
  },
  {
   "cell_type": "code",
   "execution_count": 53,
   "id": "8464ec01",
   "metadata": {
    "colab": {
     "base_uri": "https://localhost:8080/",
     "height": 481
    },
    "executionInfo": {
     "elapsed": 1535,
     "status": "ok",
     "timestamp": 1629119237617,
     "user": {
      "displayName": "akshay narake",
      "photoUrl": "https://lh3.googleusercontent.com/a-/AOh14GgGQ2ijZliaBz2TDDcO_VcMyvg0gC4fDSXa1giCfw=s64",
      "userId": "07482213745940841366"
     },
     "user_tz": -330
    },
    "id": "8464ec01",
    "outputId": "127ae8e9-eab1-41e5-a804-5a977c40b16c"
   },
   "outputs": [
    {
     "data": {
      "text/plain": [
       "<AxesSubplot:>"
      ]
     },
     "execution_count": 53,
     "metadata": {},
     "output_type": "execute_result"
    },
    {
     "data": {
      "image/png": "[encoded data removed]",
      "text/plain": [
       "<Figure size 432x288 with 2 Axes>"
      ]
     },
     "metadata": {
      "needs_background": "light"
     },
     "output_type": "display_data"
    }
   ],
   "source": [
    "# visualize correlation matrix in Seaborn using a heatmap\n",
    "sns.heatmap(data_num.corr())"
   ]
  },
  {
   "cell_type": "code",
   "execution_count": 54,
   "id": "e44688bb",
   "metadata": {
    "colab": {
     "base_uri": "https://localhost:8080/",
     "height": 481
    },
    "executionInfo": {
     "elapsed": 2051,
     "status": "ok",
     "timestamp": 1629119239653,
     "user": {
      "displayName": "akshay narake",
      "photoUrl": "https://lh3.googleusercontent.com/a-/AOh14GgGQ2ijZliaBz2TDDcO_VcMyvg0gC4fDSXa1giCfw=s64",
      "userId": "07482213745940841366"
     },
     "user_tz": -330
    },
    "id": "e44688bb",
    "outputId": "cb536e44-ceb6-4c7c-c04c-eb12cceae549"
   },
   "outputs": [
    {
     "data": {
      "text/plain": [
       "<AxesSubplot:>"
      ]
     },
     "execution_count": 54,
     "metadata": {},
     "output_type": "execute_result"
    },
    {
     "data": {
      "image/png": "[encoded data removed]",
      "text/plain": [
       "<Figure size 432x288 with 2 Axes>"
      ]
     },
     "metadata": {
      "needs_background": "light"
     },
     "output_type": "display_data"
    }
   ],
   "source": [
    "# visualize correlation matrix in Seaborn using a heatmap\n",
    "sns.heatmap(data_new.corr())"
   ]
  },
  {
   "cell_type": "code",
   "execution_count": 55,
   "id": "38cd772f",
   "metadata": {
    "executionInfo": {
     "elapsed": 1471,
     "status": "ok",
     "timestamp": 1629119241109,
     "user": {
      "displayName": "akshay narake",
      "photoUrl": "https://lh3.googleusercontent.com/a-/AOh14GgGQ2ijZliaBz2TDDcO_VcMyvg0gC4fDSXa1giCfw=s64",
      "userId": "07482213745940841366"
     },
     "user_tz": -330
    },
    "id": "38cd772f"
   },
   "outputs": [],
   "source": [
    "corr = data_new.corr()\n",
    "corr.to_csv('corr.csv')"
   ]
  },
  {
   "cell_type": "markdown",
   "id": "aecf481a",
   "metadata": {
    "id": "aecf481a"
   },
   "source": [
    "### Split the data into Train & Test data."
   ]
  },
  {
   "cell_type": "code",
   "execution_count": 56,
   "id": "8183339a",
   "metadata": {
    "executionInfo": {
     "elapsed": 8,
     "status": "ok",
     "timestamp": 1629119241110,
     "user": {
      "displayName": "akshay narake",
      "photoUrl": "https://lh3.googleusercontent.com/a-/AOh14GgGQ2ijZliaBz2TDDcO_VcMyvg0gC4fDSXa1giCfw=s64",
      "userId": "07482213745940841366"
     },
     "user_tz": -330
    },
    "id": "8183339a"
   },
   "outputs": [],
   "source": [
    "X = data_new.drop(labels=['B_Target'], axis=1)\n",
    "y = data_new['B_Target']"
   ]
  },
  {
   "cell_type": "code",
   "execution_count": 57,
   "id": "ac94a253",
   "metadata": {
    "colab": {
     "base_uri": "https://localhost:8080/"
    },
    "executionInfo": {
     "elapsed": 474,
     "status": "ok",
     "timestamp": 1629119241576,
     "user": {
      "displayName": "akshay narake",
      "photoUrl": "https://lh3.googleusercontent.com/a-/AOh14GgGQ2ijZliaBz2TDDcO_VcMyvg0gC4fDSXa1giCfw=s64",
      "userId": "07482213745940841366"
     },
     "user_tz": -330
    },
    "id": "ac94a253",
    "outputId": "09f29869-56d1-4177-c2f4-bb7fa8918c66"
   },
   "outputs": [
    {
     "data": {
      "text/plain": [
       "((337176, 36), (144504, 36))"
      ]
     },
     "execution_count": 57,
     "metadata": {},
     "output_type": "execute_result"
    }
   ],
   "source": [
    "### It is always a good practice to split train and test data to avoid overfitting problem.\n",
    "\n",
    "from sklearn.model_selection import train_test_split\n",
    "\n",
    "# separate dataset into train and test split.\n",
    "\n",
    "X_train, X_test, y_train, y_test = train_test_split(\n",
    "    data_new.drop(labels=['B_Target'], axis=1),\n",
    "    data_new['B_Target'],\n",
    "    test_size=0.3,\n",
    "    random_state=0)\n",
    "\n",
    "X_train.shape, X_test.shape"
   ]
  },
  {
   "cell_type": "code",
   "execution_count": 58,
   "id": "E5yIB7A4MmrZ",
   "metadata": {
    "colab": {
     "base_uri": "https://localhost:8080/"
    },
    "executionInfo": {
     "elapsed": 774,
     "status": "ok",
     "timestamp": 1629121314656,
     "user": {
      "displayName": "akshay narake",
      "photoUrl": "https://lh3.googleusercontent.com/a-/AOh14GgGQ2ijZliaBz2TDDcO_VcMyvg0gC4fDSXa1giCfw=s64",
      "userId": "07482213745940841366"
     },
     "user_tz": -330
    },
    "id": "E5yIB7A4MmrZ",
    "outputId": "d1186758-ecf9-4339-9b88-3bec8786aee4"
   },
   "outputs": [
    {
     "data": {
      "text/plain": [
       "((337176,), (144504,))"
      ]
     },
     "execution_count": 58,
     "metadata": {},
     "output_type": "execute_result"
    }
   ],
   "source": [
    "y_train.shape, y_test.shape"
   ]
  },
  {
   "cell_type": "markdown",
   "id": "3c440c23",
   "metadata": {
    "id": "3c440c23"
   },
   "source": [
    "### variable reduction (feature selection/reduction)\n",
    "- INFORMATION GAIN\n",
    "- RFE\n",
    "- SelectKBest\n",
    "- VIF\n"
   ]
  },
  {
   "cell_type": "markdown",
   "id": "df3d6799",
   "metadata": {
    "id": "df3d6799"
   },
   "source": [
    "### `Mutual Information`\n",
    "MI Estimate mutual information for a discrete target variable.\n",
    "\n",
    "Mutual information (MI) between two random variables is a non-negative value, which measures the dependency between the variables. It is equal to zero if and only if two random variables are independent, and higher values mean higher dependency."
   ]
  },
  {
   "cell_type": "code",
   "execution_count": 59,
   "id": "55edb1ec",
   "metadata": {
    "executionInfo": {
     "elapsed": 10,
     "status": "ok",
     "timestamp": 1629119241577,
     "user": {
      "displayName": "akshay narake",
      "photoUrl": "https://lh3.googleusercontent.com/a-/AOh14GgGQ2ijZliaBz2TDDcO_VcMyvg0gC4fDSXa1giCfw=s64",
      "userId": "07482213745940841366"
     },
     "user_tz": -330
    },
    "id": "55edb1ec"
   },
   "outputs": [],
   "source": [
    "#Moudles related to feature selection\n",
    "from sklearn.feature_selection import RFE, RFECV, SelectKBest, chi2, SelectPercentile, f_classif, mutual_info_classif, f_regression, VarianceThreshold"
   ]
  },
  {
   "cell_type": "code",
   "execution_count": 60,
   "id": "ae2b6fbc",
   "metadata": {
    "colab": {
     "base_uri": "https://localhost:8080/"
    },
    "executionInfo": {
     "elapsed": 181703,
     "status": "ok",
     "timestamp": 1629119423272,
     "user": {
      "displayName": "akshay narake",
      "photoUrl": "https://lh3.googleusercontent.com/a-/AOh14GgGQ2ijZliaBz2TDDcO_VcMyvg0gC4fDSXa1giCfw=s64",
      "userId": "07482213745940841366"
     },
     "user_tz": -330
    },
    "id": "ae2b6fbc",
    "outputId": "42d0ed58-5a38-4e00-9fb3-d594fe2787bf"
   },
   "outputs": [
    {
     "data": {
      "text/plain": [
       "array([0.00000000e+00, 0.00000000e+00, 0.00000000e+00, 1.28636239e-03,\n",
       "       0.00000000e+00, 0.00000000e+00, 2.92898922e-04, 8.96435740e-04,\n",
       "       7.68850152e-04, 1.54088001e-01, 0.00000000e+00, 7.15829074e-04,\n",
       "       0.00000000e+00, 1.18020151e-03, 1.84877733e-01, 0.00000000e+00,\n",
       "       1.88119301e-01, 1.67351360e-01, 1.55618398e-01, 0.00000000e+00,\n",
       "       3.30097867e-04, 1.19313218e-03, 8.33666916e-06, 5.19583861e-04,\n",
       "       1.49475337e-03, 1.49270076e-02, 0.00000000e+00, 3.12458109e-04,\n",
       "       0.00000000e+00, 5.18111766e-01, 0.00000000e+00, 1.28483087e-03,\n",
       "       0.00000000e+00, 1.23987787e-03, 1.22569213e-04, 1.51410818e-03])"
      ]
     },
     "execution_count": 60,
     "metadata": {},
     "output_type": "execute_result"
    }
   ],
   "source": [
    "# determine the mutual information\n",
    "mutual_info = mutual_info_classif(X_train, y_train)\n",
    "mutual_info"
   ]
  },
  {
   "cell_type": "code",
   "execution_count": 61,
   "id": "1e596641",
   "metadata": {
    "colab": {
     "base_uri": "https://localhost:8080/"
    },
    "executionInfo": {
     "elapsed": 57,
     "status": "ok",
     "timestamp": 1629119423275,
     "user": {
      "displayName": "akshay narake",
      "photoUrl": "https://lh3.googleusercontent.com/a-/AOh14GgGQ2ijZliaBz2TDDcO_VcMyvg0gC4fDSXa1giCfw=s64",
      "userId": "07482213745940841366"
     },
     "user_tz": -330
    },
    "id": "1e596641",
    "outputId": "a8718547-4578-4e70-e88a-ae0b3e16c8a2"
   },
   "outputs": [
    {
     "data": {
      "text/plain": [
       "logged_in                      0.518112\n",
       "dst_host_count                 0.188119\n",
       "same_srv_rate                  0.184878\n",
       "dst_host_srv_count             0.167351\n",
       "dst_host_same_srv_rate         0.155618\n",
       "count                          0.154088\n",
       "protocol_type                  0.014927\n",
       "is_guest_login                 0.001514\n",
       "dst_host_srv_rerror_rate       0.001495\n",
       "src_bytes                      0.001286\n",
       "su_attempted                   0.001285\n",
       "num_outbound_cmds              0.001240\n",
       "dst_host_serror_rate           0.001193\n",
       "srv_rerror_rate                0.001180\n",
       "num_file_creations             0.000896\n",
       "num_access_files               0.000769\n",
       "srv_error_rate                 0.000716\n",
       "dst_host_rerror_rate           0.000520\n",
       "dst_host_same_src_port_rate    0.000330\n",
       "wrong_fragment                 0.000312\n",
       "num_root                       0.000293\n",
       "is_host_login                  0.000123\n",
       "dst_host_srv_serror_rate       0.000008\n",
       "dst_host_diff_srv_rate         0.000000\n",
       "service                        0.000000\n",
       "dst_bytes                      0.000000\n",
       "land                           0.000000\n",
       "num_failed_logins              0.000000\n",
       "urgent                         0.000000\n",
       "flag                           0.000000\n",
       "root_shell                     0.000000\n",
       "srv_diff_host_rate             0.000000\n",
       "num_shells                     0.000000\n",
       "rerror_rate                    0.000000\n",
       "serror_rate                    0.000000\n",
       "duration                       0.000000\n",
       "dtype: float64"
      ]
     },
     "execution_count": 61,
     "metadata": {},
     "output_type": "execute_result"
    }
   ],
   "source": [
    "mutual_info = pd.Series(mutual_info)\n",
    "mutual_info.index = X_train.columns\n",
    "mutual_info.sort_values(ascending=False)"
   ]
  },
  {
   "cell_type": "code",
   "execution_count": 62,
   "id": "96a9fc15",
   "metadata": {
    "colab": {
     "base_uri": "https://localhost:8080/",
     "height": 586
    },
    "executionInfo": {
     "elapsed": 54,
     "status": "ok",
     "timestamp": 1629119423280,
     "user": {
      "displayName": "akshay narake",
      "photoUrl": "https://lh3.googleusercontent.com/a-/AOh14GgGQ2ijZliaBz2TDDcO_VcMyvg0gC4fDSXa1giCfw=s64",
      "userId": "07482213745940841366"
     },
     "user_tz": -330
    },
    "id": "96a9fc15",
    "outputId": "f604a2a6-f543-4900-f314-54f57fb6988c"
   },
   "outputs": [
    {
     "data": {
      "text/plain": [
       "<AxesSubplot:>"
      ]
     },
     "execution_count": 62,
     "metadata": {},
     "output_type": "execute_result"
    },
    {
     "data": {
      "image/png": "[encoded data removed]",
      "text/plain": [
       "<Figure size 1440x576 with 1 Axes>"
      ]
     },
     "metadata": {
      "needs_background": "light"
     },
     "output_type": "display_data"
    }
   ],
   "source": [
    "#let's plot the ordered mutual_info values per feature\n",
    "mutual_info.sort_values(ascending=False).plot.bar(figsize=(20, 8))"
   ]
  },
  {
   "cell_type": "code",
   "execution_count": 63,
   "id": "453fad87",
   "metadata": {
    "colab": {
     "base_uri": "https://localhost:8080/"
    },
    "executionInfo": {
     "elapsed": 179474,
     "status": "ok",
     "timestamp": 1629119602727,
     "user": {
      "displayName": "akshay narake",
      "photoUrl": "https://lh3.googleusercontent.com/a-/AOh14GgGQ2ijZliaBz2TDDcO_VcMyvg0gC4fDSXa1giCfw=s64",
      "userId": "07482213745940841366"
     },
     "user_tz": -330
    },
    "id": "453fad87",
    "outputId": "05035e8f-8d2a-4605-eff8-a7771a409f7e"
   },
   "outputs": [
    {
     "data": {
      "text/plain": [
       "Index(['same_srv_rate', 'dst_host_count', 'dst_host_srv_count',\n",
       "       'dst_host_same_srv_rate', 'logged_in'],\n",
       "      dtype='object')"
      ]
     },
     "execution_count": 63,
     "metadata": {},
     "output_type": "execute_result"
    }
   ],
   "source": [
    "#No we Will select the top 5 important features.\n",
    "sel_five_cols = SelectKBest(mutual_info_classif, k=5)\n",
    "sel_five_cols.fit(X_train, y_train)\n",
    "X_train.columns[sel_five_cols.get_support()]"
   ]
  },
  {
   "cell_type": "code",
   "execution_count": 64,
   "id": "ef3c976e",
   "metadata": {
    "executionInfo": {
     "elapsed": 17,
     "status": "ok",
     "timestamp": 1629119602728,
     "user": {
      "displayName": "akshay narake",
      "photoUrl": "https://lh3.googleusercontent.com/a-/AOh14GgGQ2ijZliaBz2TDDcO_VcMyvg0gC4fDSXa1giCfw=s64",
      "userId": "07482213745940841366"
     },
     "user_tz": -330
    },
    "id": "ef3c976e"
   },
   "outputs": [],
   "source": [
    "imp_vars_MI = list(X_train.columns[sel_five_cols.get_support()])"
   ]
  },
  {
   "cell_type": "code",
   "execution_count": 65,
   "id": "7560d90e",
   "metadata": {
    "colab": {
     "base_uri": "https://localhost:8080/"
    },
    "executionInfo": {
     "elapsed": 15,
     "status": "ok",
     "timestamp": 1629119602729,
     "user": {
      "displayName": "akshay narake",
      "photoUrl": "https://lh3.googleusercontent.com/a-/AOh14GgGQ2ijZliaBz2TDDcO_VcMyvg0gC4fDSXa1giCfw=s64",
      "userId": "07482213745940841366"
     },
     "user_tz": -330
    },
    "id": "7560d90e",
    "outputId": "65c4c576-308e-4839-806f-e7de75dc0603"
   },
   "outputs": [
    {
     "data": {
      "text/plain": [
       "['same_srv_rate',\n",
       " 'dst_host_count',\n",
       " 'dst_host_srv_count',\n",
       " 'dst_host_same_srv_rate',\n",
       " 'logged_in']"
      ]
     },
     "execution_count": 65,
     "metadata": {},
     "output_type": "execute_result"
    }
   ],
   "source": [
    "imp_vars_MI"
   ]
  },
  {
   "cell_type": "code",
   "execution_count": 66,
   "id": "rGi1btFvMYJU",
   "metadata": {
    "colab": {
     "base_uri": "https://localhost:8080/"
    },
    "executionInfo": {
     "elapsed": 459,
     "status": "ok",
     "timestamp": 1629121261761,
     "user": {
      "displayName": "akshay narake",
      "photoUrl": "https://lh3.googleusercontent.com/a-/AOh14GgGQ2ijZliaBz2TDDcO_VcMyvg0gC4fDSXa1giCfw=s64",
      "userId": "07482213745940841366"
     },
     "user_tz": -330
    },
    "id": "rGi1btFvMYJU",
    "outputId": "432803c7-4245-46ba-d643-ee01055c29f7"
   },
   "outputs": [
    {
     "data": {
      "text/plain": [
       "(337176, 36)"
      ]
     },
     "execution_count": 66,
     "metadata": {},
     "output_type": "execute_result"
    }
   ],
   "source": [
    "X_train.shape"
   ]
  },
  {
   "cell_type": "markdown",
   "id": "50cfce30",
   "metadata": {
    "id": "50cfce30"
   },
   "source": [
    "## `RFE`"
   ]
  },
  {
   "cell_type": "code",
   "execution_count": 67,
   "id": "2d8a477f",
   "metadata": {
    "executionInfo": {
     "elapsed": 8,
     "status": "ok",
     "timestamp": 1629119602730,
     "user": {
      "displayName": "akshay narake",
      "photoUrl": "https://lh3.googleusercontent.com/a-/AOh14GgGQ2ijZliaBz2TDDcO_VcMyvg0gC4fDSXa1giCfw=s64",
      "userId": "07482213745940841366"
     },
     "user_tz": -330
    },
    "id": "2d8a477f"
   },
   "outputs": [],
   "source": [
    "from sklearn.ensemble import RandomForestClassifier\n",
    "from sklearn.feature_selection import RFE"
   ]
  },
  {
   "cell_type": "code",
   "execution_count": 68,
   "id": "3785e9eb",
   "metadata": {
    "executionInfo": {
     "elapsed": 354874,
     "status": "ok",
     "timestamp": 1629119957596,
     "user": {
      "displayName": "akshay narake",
      "photoUrl": "https://lh3.googleusercontent.com/a-/AOh14GgGQ2ijZliaBz2TDDcO_VcMyvg0gC4fDSXa1giCfw=s64",
      "userId": "07482213745940841366"
     },
     "user_tz": -330
    },
    "id": "3785e9eb"
   },
   "outputs": [],
   "source": [
    "classifier = RandomForestClassifier()\n",
    "rfe = RFE(classifier, 15)\n",
    "rfe = rfe.fit(X_train, y_train)"
   ]
  },
  {
   "cell_type": "code",
   "execution_count": 69,
   "id": "d59b563d",
   "metadata": {
    "executionInfo": {
     "elapsed": 62,
     "status": "ok",
     "timestamp": 1629119957598,
     "user": {
      "displayName": "akshay narake",
      "photoUrl": "https://lh3.googleusercontent.com/a-/AOh14GgGQ2ijZliaBz2TDDcO_VcMyvg0gC4fDSXa1giCfw=s64",
      "userId": "07482213745940841366"
     },
     "user_tz": -330
    },
    "id": "d59b563d"
   },
   "outputs": [],
   "source": [
    "imp_vars_RFE = list(X_train.columns[rfe.get_support()])"
   ]
  },
  {
   "cell_type": "code",
   "execution_count": 70,
   "id": "a6729501",
   "metadata": {
    "colab": {
     "base_uri": "https://localhost:8080/"
    },
    "executionInfo": {
     "elapsed": 622,
     "status": "ok",
     "timestamp": 1629120059889,
     "user": {
      "displayName": "akshay narake",
      "photoUrl": "https://lh3.googleusercontent.com/a-/AOh14GgGQ2ijZliaBz2TDDcO_VcMyvg0gC4fDSXa1giCfw=s64",
      "userId": "07482213745940841366"
     },
     "user_tz": -330
    },
    "id": "a6729501",
    "outputId": "0672e193-23a6-4fd4-bb28-8d78ddcdbc75"
   },
   "outputs": [
    {
     "data": {
      "text/plain": [
       "['count',\n",
       " 'same_srv_rate',\n",
       " 'dst_host_count',\n",
       " 'dst_host_srv_count',\n",
       " 'dst_host_same_srv_rate',\n",
       " 'protocol_type',\n",
       " 'wrong_fragment',\n",
       " 'urgent',\n",
       " 'logged_in',\n",
       " 'root_shell',\n",
       " 'su_attempted',\n",
       " 'num_shells',\n",
       " 'num_outbound_cmds',\n",
       " 'is_host_login',\n",
       " 'is_guest_login']"
      ]
     },
     "execution_count": 70,
     "metadata": {},
     "output_type": "execute_result"
    }
   ],
   "source": [
    "imp_vars_RFE"
   ]
  },
  {
   "cell_type": "markdown",
   "id": "89f382cf",
   "metadata": {
    "id": "89f382cf"
   },
   "source": [
    "## `selectKBest`"
   ]
  },
  {
   "cell_type": "code",
   "execution_count": 71,
   "id": "a367c096",
   "metadata": {
    "executionInfo": {
     "elapsed": 1688,
     "status": "ok",
     "timestamp": 1629120070783,
     "user": {
      "displayName": "akshay narake",
      "photoUrl": "https://lh3.googleusercontent.com/a-/AOh14GgGQ2ijZliaBz2TDDcO_VcMyvg0gC4fDSXa1giCfw=s64",
      "userId": "07482213745940841366"
     },
     "user_tz": -330
    },
    "id": "a367c096"
   },
   "outputs": [],
   "source": [
    "SKB = SelectKBest(f_classif, k = 15).fit(X_train, y_train)\n",
    "skb = X_train.columns[SKB.get_support()]"
   ]
  },
  {
   "cell_type": "code",
   "execution_count": 72,
   "id": "8fe9ef5a",
   "metadata": {
    "executionInfo": {
     "elapsed": 655,
     "status": "ok",
     "timestamp": 1629120081015,
     "user": {
      "displayName": "akshay narake",
      "photoUrl": "https://lh3.googleusercontent.com/a-/AOh14GgGQ2ijZliaBz2TDDcO_VcMyvg0gC4fDSXa1giCfw=s64",
      "userId": "07482213745940841366"
     },
     "user_tz": -330
    },
    "id": "8fe9ef5a"
   },
   "outputs": [],
   "source": [
    "imp_vars_SKB = list(X_train.columns[SKB.get_support()])"
   ]
  },
  {
   "cell_type": "code",
   "execution_count": 73,
   "id": "c9d4ae8e",
   "metadata": {
    "colab": {
     "base_uri": "https://localhost:8080/"
    },
    "executionInfo": {
     "elapsed": 43,
     "status": "ok",
     "timestamp": 1629120085112,
     "user": {
      "displayName": "akshay narake",
      "photoUrl": "https://lh3.googleusercontent.com/a-/AOh14GgGQ2ijZliaBz2TDDcO_VcMyvg0gC4fDSXa1giCfw=s64",
      "userId": "07482213745940841366"
     },
     "user_tz": -330
    },
    "id": "c9d4ae8e",
    "outputId": "1cc1f371-3892-4642-e70c-4494c48a58c6"
   },
   "outputs": [
    {
     "data": {
      "text/plain": [
       "['count',\n",
       " 'same_srv_rate',\n",
       " 'dst_host_count',\n",
       " 'dst_host_srv_count',\n",
       " 'dst_host_same_srv_rate',\n",
       " 'protocol_type',\n",
       " 'wrong_fragment',\n",
       " 'urgent',\n",
       " 'logged_in',\n",
       " 'root_shell',\n",
       " 'su_attempted',\n",
       " 'num_shells',\n",
       " 'num_outbound_cmds',\n",
       " 'is_host_login',\n",
       " 'is_guest_login']"
      ]
     },
     "execution_count": 73,
     "metadata": {},
     "output_type": "execute_result"
    }
   ],
   "source": [
    "imp_vars_SKB"
   ]
  },
  {
   "cell_type": "code",
   "execution_count": 74,
   "id": "hjRFXz-_IHIF",
   "metadata": {
    "id": "hjRFXz-_IHIF"
   },
   "outputs": [],
   "source": [
    "#Final List (from Mutual Info, RFE, SelectKbest)"
   ]
  },
  {
   "cell_type": "code",
   "execution_count": 75,
   "id": "iDblo8P1IHTd",
   "metadata": {
    "executionInfo": {
     "elapsed": 619,
     "status": "ok",
     "timestamp": 1629120212258,
     "user": {
      "displayName": "akshay narake",
      "photoUrl": "https://lh3.googleusercontent.com/a-/AOh14GgGQ2ijZliaBz2TDDcO_VcMyvg0gC4fDSXa1giCfw=s64",
      "userId": "07482213745940841366"
     },
     "user_tz": -330
    },
    "id": "iDblo8P1IHTd"
   },
   "outputs": [],
   "source": [
    "final_list = list(set(imp_vars_MI + imp_vars_RFE + imp_vars_SKB))"
   ]
  },
  {
   "cell_type": "code",
   "execution_count": 76,
   "id": "1ByfZHH7IHWD",
   "metadata": {
    "colab": {
     "base_uri": "https://localhost:8080/"
    },
    "executionInfo": {
     "elapsed": 11,
     "status": "ok",
     "timestamp": 1629120217407,
     "user": {
      "displayName": "akshay narake",
      "photoUrl": "https://lh3.googleusercontent.com/a-/AOh14GgGQ2ijZliaBz2TDDcO_VcMyvg0gC4fDSXa1giCfw=s64",
      "userId": "07482213745940841366"
     },
     "user_tz": -330
    },
    "id": "1ByfZHH7IHWD",
    "outputId": "84c32c50-cc0f-49a5-d04e-1ab27270bf03"
   },
   "outputs": [
    {
     "data": {
      "text/plain": [
       "['is_guest_login',\n",
       " 'wrong_fragment',\n",
       " 'dst_host_same_srv_rate',\n",
       " 'root_shell',\n",
       " 'same_srv_rate',\n",
       " 'su_attempted',\n",
       " 'num_outbound_cmds',\n",
       " 'count',\n",
       " 'urgent',\n",
       " 'dst_host_count',\n",
       " 'protocol_type',\n",
       " 'is_host_login',\n",
       " 'logged_in',\n",
       " 'dst_host_srv_count',\n",
       " 'num_shells']"
      ]
     },
     "execution_count": 76,
     "metadata": {},
     "output_type": "execute_result"
    }
   ],
   "source": [
    "final_list"
   ]
  },
  {
   "cell_type": "code",
   "execution_count": 77,
   "id": "e76iOW-rInCO",
   "metadata": {
    "executionInfo": {
     "elapsed": 493,
     "status": "ok",
     "timestamp": 1629120295759,
     "user": {
      "displayName": "akshay narake",
      "photoUrl": "https://lh3.googleusercontent.com/a-/AOh14GgGQ2ijZliaBz2TDDcO_VcMyvg0gC4fDSXa1giCfw=s64",
      "userId": "07482213745940841366"
     },
     "user_tz": -330
    },
    "id": "e76iOW-rInCO"
   },
   "outputs": [],
   "source": [
    "X_train = cyber[final_list]"
   ]
  },
  {
   "cell_type": "code",
   "execution_count": 78,
   "id": "XzluNF_3IwDc",
   "metadata": {
    "colab": {
     "base_uri": "https://localhost:8080/",
     "height": 223
    },
    "executionInfo": {
     "elapsed": 544,
     "status": "ok",
     "timestamp": 1629120338676,
     "user": {
      "displayName": "akshay narake",
      "photoUrl": "https://lh3.googleusercontent.com/a-/AOh14GgGQ2ijZliaBz2TDDcO_VcMyvg0gC4fDSXa1giCfw=s64",
      "userId": "07482213745940841366"
     },
     "user_tz": -330
    },
    "id": "XzluNF_3IwDc",
    "outputId": "3faf16f0-9789-416c-f838-f31f3590e4c8"
   },
   "outputs": [
    {
     "data": {
      "text/html": [
       "<div>\n",
       "<style scoped>\n",
       "    .dataframe tbody tr th:only-of-type {\n",
       "        vertical-align: middle;\n",
       "    }\n",
       "\n",
       "    .dataframe tbody tr th {\n",
       "        vertical-align: top;\n",
       "    }\n",
       "\n",
       "    .dataframe thead th {\n",
       "        text-align: right;\n",
       "    }\n",
       "</style>\n",
       "<table border=\"1\" class=\"dataframe\">\n",
       "  <thead>\n",
       "    <tr style=\"text-align: right;\">\n",
       "      <th></th>\n",
       "      <th>is_guest_login</th>\n",
       "      <th>wrong_fragment</th>\n",
       "      <th>dst_host_same_srv_rate</th>\n",
       "      <th>root_shell</th>\n",
       "      <th>same_srv_rate</th>\n",
       "      <th>su_attempted</th>\n",
       "      <th>num_outbound_cmds</th>\n",
       "      <th>count</th>\n",
       "      <th>urgent</th>\n",
       "      <th>dst_host_count</th>\n",
       "      <th>protocol_type</th>\n",
       "      <th>is_host_login</th>\n",
       "      <th>logged_in</th>\n",
       "      <th>dst_host_srv_count</th>\n",
       "      <th>num_shells</th>\n",
       "    </tr>\n",
       "  </thead>\n",
       "  <tbody>\n",
       "    <tr>\n",
       "      <th>605197</th>\n",
       "      <td>0.0</td>\n",
       "      <td>0.0</td>\n",
       "      <td>0.093</td>\n",
       "      <td>0.0</td>\n",
       "      <td>0.1</td>\n",
       "      <td>0.0</td>\n",
       "      <td>0</td>\n",
       "      <td>0.001</td>\n",
       "      <td>0.0</td>\n",
       "      <td>0.255</td>\n",
       "      <td>0.0</td>\n",
       "      <td>0.0</td>\n",
       "      <td>0.1</td>\n",
       "      <td>0.238</td>\n",
       "      <td>0.0</td>\n",
       "    </tr>\n",
       "    <tr>\n",
       "      <th>264591</th>\n",
       "      <td>0.0</td>\n",
       "      <td>0.0</td>\n",
       "      <td>0.100</td>\n",
       "      <td>0.0</td>\n",
       "      <td>0.1</td>\n",
       "      <td>0.0</td>\n",
       "      <td>0</td>\n",
       "      <td>0.009</td>\n",
       "      <td>0.0</td>\n",
       "      <td>0.246</td>\n",
       "      <td>0.0</td>\n",
       "      <td>0.0</td>\n",
       "      <td>0.1</td>\n",
       "      <td>0.255</td>\n",
       "      <td>0.0</td>\n",
       "    </tr>\n",
       "    <tr>\n",
       "      <th>689267</th>\n",
       "      <td>0.0</td>\n",
       "      <td>0.0</td>\n",
       "      <td>0.100</td>\n",
       "      <td>0.0</td>\n",
       "      <td>0.1</td>\n",
       "      <td>0.0</td>\n",
       "      <td>0</td>\n",
       "      <td>0.006</td>\n",
       "      <td>0.0</td>\n",
       "      <td>0.012</td>\n",
       "      <td>0.0</td>\n",
       "      <td>0.0</td>\n",
       "      <td>0.1</td>\n",
       "      <td>0.255</td>\n",
       "      <td>0.0</td>\n",
       "    </tr>\n",
       "    <tr>\n",
       "      <th>547865</th>\n",
       "      <td>0.0</td>\n",
       "      <td>0.0</td>\n",
       "      <td>0.100</td>\n",
       "      <td>0.0</td>\n",
       "      <td>0.1</td>\n",
       "      <td>0.0</td>\n",
       "      <td>0</td>\n",
       "      <td>0.001</td>\n",
       "      <td>0.0</td>\n",
       "      <td>0.255</td>\n",
       "      <td>0.0</td>\n",
       "      <td>0.0</td>\n",
       "      <td>0.1</td>\n",
       "      <td>0.255</td>\n",
       "      <td>0.0</td>\n",
       "    </tr>\n",
       "    <tr>\n",
       "      <th>567275</th>\n",
       "      <td>0.0</td>\n",
       "      <td>0.0</td>\n",
       "      <td>0.100</td>\n",
       "      <td>0.0</td>\n",
       "      <td>0.1</td>\n",
       "      <td>0.0</td>\n",
       "      <td>0</td>\n",
       "      <td>0.010</td>\n",
       "      <td>0.0</td>\n",
       "      <td>0.031</td>\n",
       "      <td>0.0</td>\n",
       "      <td>0.0</td>\n",
       "      <td>0.1</td>\n",
       "      <td>0.255</td>\n",
       "      <td>0.0</td>\n",
       "    </tr>\n",
       "  </tbody>\n",
       "</table>\n",
       "</div>"
      ],
      "text/plain": [
       "        is_guest_login  wrong_fragment  dst_host_same_srv_rate  root_shell  \\\n",
       "605197             0.0             0.0                   0.093         0.0   \n",
       "264591             0.0             0.0                   0.100         0.0   \n",
       "689267             0.0             0.0                   0.100         0.0   \n",
       "547865             0.0             0.0                   0.100         0.0   \n",
       "567275             0.0             0.0                   0.100         0.0   \n",
       "\n",
       "        same_srv_rate  su_attempted  num_outbound_cmds  count  urgent  \\\n",
       "605197            0.1           0.0                  0  0.001     0.0   \n",
       "264591            0.1           0.0                  0  0.009     0.0   \n",
       "689267            0.1           0.0                  0  0.006     0.0   \n",
       "547865            0.1           0.0                  0  0.001     0.0   \n",
       "567275            0.1           0.0                  0  0.010     0.0   \n",
       "\n",
       "        dst_host_count  protocol_type  is_host_login  logged_in  \\\n",
       "605197           0.255            0.0            0.0        0.1   \n",
       "264591           0.246            0.0            0.0        0.1   \n",
       "689267           0.012            0.0            0.0        0.1   \n",
       "547865           0.255            0.0            0.0        0.1   \n",
       "567275           0.031            0.0            0.0        0.1   \n",
       "\n",
       "        dst_host_srv_count  num_shells  \n",
       "605197               0.238         0.0  \n",
       "264591               0.255         0.0  \n",
       "689267               0.255         0.0  \n",
       "547865               0.255         0.0  \n",
       "567275               0.255         0.0  "
      ]
     },
     "execution_count": 78,
     "metadata": {},
     "output_type": "execute_result"
    }
   ],
   "source": [
    "X_train.head()"
   ]
  },
  {
   "cell_type": "markdown",
   "id": "26fe1c65",
   "metadata": {
    "executionInfo": {
     "elapsed": 23,
     "status": "ok",
     "timestamp": 1629111216081,
     "user": {
      "displayName": "akshay narake",
      "photoUrl": "https://lh3.googleusercontent.com/a-/AOh14GgGQ2ijZliaBz2TDDcO_VcMyvg0gC4fDSXa1giCfw=s64",
      "userId": "07482213745940841366"
     },
     "user_tz": -330
    },
    "id": "23ddb709"
   },
   "source": [
    "### `VIF` Variance Inflation Factor"
   ]
  },
  {
   "cell_type": "code",
   "execution_count": 79,
   "id": "v2C0a-vcJJKA",
   "metadata": {
    "executionInfo": {
     "elapsed": 687,
     "status": "ok",
     "timestamp": 1629120407902,
     "user": {
      "displayName": "akshay narake",
      "photoUrl": "https://lh3.googleusercontent.com/a-/AOh14GgGQ2ijZliaBz2TDDcO_VcMyvg0gC4fDSXa1giCfw=s64",
      "userId": "07482213745940841366"
     },
     "user_tz": -330
    },
    "id": "v2C0a-vcJJKA"
   },
   "outputs": [],
   "source": [
    "from statsmodels.stats.outliers_influence import variance_inflation_factor"
   ]
  },
  {
   "cell_type": "code",
   "execution_count": 80,
   "id": "b35c0be7",
   "metadata": {
    "colab": {
     "base_uri": "https://localhost:8080/"
    },
    "executionInfo": {
     "elapsed": 11736,
     "status": "ok",
     "timestamp": 1629120421837,
     "user": {
      "displayName": "akshay narake",
      "photoUrl": "https://lh3.googleusercontent.com/a-/AOh14GgGQ2ijZliaBz2TDDcO_VcMyvg0gC4fDSXa1giCfw=s64",
      "userId": "07482213745940841366"
     },
     "user_tz": -330
    },
    "id": "b35c0be7",
    "outputId": "43b182ff-b3a5-4d51-b776-f00d92209bcd"
   },
   "outputs": [
    {
     "name": "stdout",
     "output_type": "stream",
     "text": [
      "    VIF Factor                features\n",
      "0     1.043833          is_guest_login\n",
      "1     1.000085          wrong_fragment\n",
      "2    50.435627  dst_host_same_srv_rate\n",
      "3     1.143843              root_shell\n",
      "4    26.646820           same_srv_rate\n",
      "5     1.133369            su_attempted\n",
      "6          NaN       num_outbound_cmds\n",
      "7     3.550562                   count\n",
      "8     1.010599                  urgent\n",
      "9     4.843717          dst_host_count\n",
      "10    2.111821           protocol_type\n",
      "11    1.000077           is_host_login\n",
      "12   17.908731               logged_in\n",
      "13   31.557954      dst_host_srv_count\n",
      "14    1.002271              num_shells\n"
     ]
    }
   ],
   "source": [
    "vif = pd.DataFrame()\n",
    "vif[\"VIF Factor\"] = [variance_inflation_factor(X_train.values, i) for i in range(X_train.shape[1])]\n",
    "vif[\"features\"] = X_train.columns\n",
    "\n",
    "print(vif)"
   ]
  },
  {
   "cell_type": "code",
   "execution_count": 81,
   "id": "0fLJrPIQJZ80",
   "metadata": {
    "executionInfo": {
     "elapsed": 454,
     "status": "ok",
     "timestamp": 1629120682699,
     "user": {
      "displayName": "akshay narake",
      "photoUrl": "https://lh3.googleusercontent.com/a-/AOh14GgGQ2ijZliaBz2TDDcO_VcMyvg0gC4fDSXa1giCfw=s64",
      "userId": "07482213745940841366"
     },
     "user_tz": -330
    },
    "id": "0fLJrPIQJZ80"
   },
   "outputs": [],
   "source": [
    "X_train = X_train.drop(['dst_host_same_srv_rate','same_srv_rate', 'dst_host_srv_count', 'logged_in'], axis=1)"
   ]
  },
  {
   "cell_type": "code",
   "execution_count": 82,
   "id": "rUkWJ2g1MzUy",
   "metadata": {
    "colab": {
     "base_uri": "https://localhost:8080/"
    },
    "executionInfo": {
     "elapsed": 813,
     "status": "ok",
     "timestamp": 1629121365493,
     "user": {
      "displayName": "akshay narake",
      "photoUrl": "https://lh3.googleusercontent.com/a-/AOh14GgGQ2ijZliaBz2TDDcO_VcMyvg0gC4fDSXa1giCfw=s64",
      "userId": "07482213745940841366"
     },
     "user_tz": -330
    },
    "id": "rUkWJ2g1MzUy",
    "outputId": "e48c5e34-98e4-4c9d-c5a3-593533578a50"
   },
   "outputs": [
    {
     "data": {
      "text/plain": [
       "((337176, 36), (144504, 36))"
      ]
     },
     "execution_count": 82,
     "metadata": {},
     "output_type": "execute_result"
    }
   ],
   "source": [
    "### It is always a good practice to split train and test data to avoid overfitting problem.\n",
    "\n",
    "from sklearn.model_selection import train_test_split\n",
    "\n",
    "# separate dataset into train and test split.\n",
    "\n",
    "X_train, X_test, y_train, y_test = train_test_split(\n",
    "    data_new.drop(labels=['B_Target'], axis=1),\n",
    "    data_new['B_Target'],\n",
    "    test_size=0.3,\n",
    "    random_state=0)\n",
    "\n",
    "X_train.shape, X_test.shape"
   ]
  },
  {
   "cell_type": "markdown",
   "id": "12f36768",
   "metadata": {
    "executionInfo": {
     "elapsed": 457,
     "status": "ok",
     "timestamp": 1629121374944,
     "user": {
      "displayName": "akshay narake",
      "photoUrl": "https://lh3.googleusercontent.com/a-/AOh14GgGQ2ijZliaBz2TDDcO_VcMyvg0gC4fDSXa1giCfw=s64",
      "userId": "07482213745940841366"
     },
     "user_tz": -330
    },
    "id": "8fe892e9"
   },
   "source": [
    "### Logistic Regression Using Stats Models (Traiditional Approach)"
   ]
  },
  {
   "cell_type": "code",
   "execution_count": 83,
   "id": "UqJn-vHRKZXk",
   "metadata": {
    "executionInfo": {
     "elapsed": 8,
     "status": "ok",
     "timestamp": 1629121375489,
     "user": {
      "displayName": "akshay narake",
      "photoUrl": "https://lh3.googleusercontent.com/a-/AOh14GgGQ2ijZliaBz2TDDcO_VcMyvg0gC4fDSXa1giCfw=s64",
      "userId": "07482213745940841366"
     },
     "user_tz": -330
    },
    "id": "UqJn-vHRKZXk"
   },
   "outputs": [],
   "source": [
    "import statsmodels.formula.api as smf"
   ]
  },
  {
   "cell_type": "code",
   "execution_count": 84,
   "id": "8c7cbce6",
   "metadata": {
    "colab": {
     "base_uri": "https://localhost:8080/"
    },
    "executionInfo": {
     "elapsed": 3492,
     "status": "ok",
     "timestamp": 1629122693041,
     "user": {
      "displayName": "akshay narake",
      "photoUrl": "https://lh3.googleusercontent.com/a-/AOh14GgGQ2ijZliaBz2TDDcO_VcMyvg0gC4fDSXa1giCfw=s64",
      "userId": "07482213745940841366"
     },
     "user_tz": -330
    },
    "id": "8c7cbce6",
    "outputId": "5709300a-f226-45cb-a19c-d76ac5f364d7"
   },
   "outputs": [
    {
     "name": "stdout",
     "output_type": "stream",
     "text": [
      "Warning: Maximum number of iterations has been exceeded.\n",
      "         Current function value: 0.552232\n",
      "         Iterations: 35\n"
     ]
    },
    {
     "name": "stderr",
     "output_type": "stream",
     "text": [
      "C:\\ProgramData\\Anaconda3\\lib\\site-packages\\statsmodels\\base\\model.py:566: ConvergenceWarning: Maximum Likelihood optimization failed to converge. Check mle_retvals\n",
      "  warnings.warn(\"Maximum Likelihood optimization failed to \"\n"
     ]
    }
   ],
   "source": [
    "logistic_reg = smf.logit('y_train~+wrong_fragment+root_shell+su_attempted+count+urgent+is_guest_login+num_shells', data = X_train)\n",
    "result = logistic_reg.fit()"
   ]
  },
  {
   "cell_type": "code",
   "execution_count": 85,
   "id": "51b13930",
   "metadata": {
    "colab": {
     "base_uri": "https://localhost:8080/",
     "height": 367
    },
    "executionInfo": {
     "elapsed": 896,
     "status": "ok",
     "timestamp": 1629122699800,
     "user": {
      "displayName": "akshay narake",
      "photoUrl": "https://lh3.googleusercontent.com/a-/AOh14GgGQ2ijZliaBz2TDDcO_VcMyvg0gC4fDSXa1giCfw=s64",
      "userId": "07482213745940841366"
     },
     "user_tz": -330
    },
    "id": "51b13930",
    "outputId": "713c3f25-481e-4853-c2a3-f95414348efc"
   },
   "outputs": [
    {
     "data": {
      "text/html": [
       "<table class=\"simpletable\">\n",
       "<tr>\n",
       "        <td>Model:</td>              <td>Logit</td>      <td>Pseudo R-squared:</td>    <td>0.203</td>   \n",
       "</tr>\n",
       "<tr>\n",
       "  <td>Dependent Variable:</td>      <td>y_train</td>           <td>AIC:</td>        <td>372414.8526</td>\n",
       "</tr>\n",
       "<tr>\n",
       "         <td>Date:</td>        <td>2021-09-21 11:32</td>       <td>BIC:</td>        <td>372500.6795</td>\n",
       "</tr>\n",
       "<tr>\n",
       "   <td>No. Observations:</td>       <td>337176</td>       <td>Log-Likelihood:</td>  <td>-1.8620e+05</td>\n",
       "</tr>\n",
       "<tr>\n",
       "       <td>Df Model:</td>              <td>7</td>            <td>LL-Null:</td>      <td>-2.3371e+05</td>\n",
       "</tr>\n",
       "<tr>\n",
       "     <td>Df Residuals:</td>         <td>337168</td>        <td>LLR p-value:</td>      <td>0.0000</td>   \n",
       "</tr>\n",
       "<tr>\n",
       "      <td>Converged:</td>           <td>0.0000</td>           <td>Scale:</td>         <td>1.0000</td>   \n",
       "</tr>\n",
       "<tr>\n",
       "    <td>No. Iterations:</td>        <td>35.0000</td>             <td></td>               <td></td>      \n",
       "</tr>\n",
       "</table>\n",
       "<table class=\"simpletable\">\n",
       "<tr>\n",
       "         <td></td>          <th>Coef.</th>       <th>Std.Err.</th>          <th>z</th>      <th>P>|z|</th>       <th>[0.025</th>            <th>0.975]</th>      \n",
       "</tr>\n",
       "<tr>\n",
       "  <th>Intercept</th>       <td>-5.2882</td>       <td>0.0317</td>       <td>-166.8242</td> <td>0.0000</td>       <td>-5.3503</td>           <td>-5.2260</td>     \n",
       "</tr>\n",
       "<tr>\n",
       "  <th>wrong_fragment</th>  <td>29.4139</td>      <td>360.6223</td>       <td>0.0816</td>   <td>0.9350</td>      <td>-677.3929</td>         <td>736.2207</td>     \n",
       "</tr>\n",
       "<tr>\n",
       "  <th>root_shell</th>     <td>-12.9026</td>       <td>3.8502</td>        <td>-3.3512</td>  <td>0.0008</td>      <td>-20.4489</td>           <td>-5.3564</td>     \n",
       "</tr>\n",
       "<tr>\n",
       "  <th>su_attempted</th>   <td>-127.0084</td>    <td>21085.2021</td>      <td>-0.0060</td>  <td>0.9952</td>     <td>-41453.2450</td>       <td>41199.2282</td>    \n",
       "</tr>\n",
       "<tr>\n",
       "  <th>count</th>          <td>1166.3126</td>      <td>6.4894</td>       <td>179.7251</td>  <td>0.0000</td>      <td>1153.5936</td>         <td>1179.0317</td>    \n",
       "</tr>\n",
       "<tr>\n",
       "  <th>urgent</th>          <td>7.5021</td>        <td>5.2673</td>        <td>1.4243</td>   <td>0.1544</td>       <td>-2.8216</td>           <td>17.8257</td>     \n",
       "</tr>\n",
       "<tr>\n",
       "  <th>is_guest_login</th> <td>-14.4978</td>       <td>5.8079</td>        <td>-2.4962</td>  <td>0.0126</td>      <td>-25.8811</td>           <td>-3.1144</td>     \n",
       "</tr>\n",
       "<tr>\n",
       "  <th>num_shells</th>     <td>-507.5065</td> <td>122279307219.6946</td>  <td>-0.0000</td>  <td>1.0000</td> <td>-239663038712.6166</td> <td>239663037697.6036</td>\n",
       "</tr>\n",
       "</table>"
      ],
      "text/plain": [
       "<class 'statsmodels.iolib.summary2.Summary'>\n",
       "\"\"\"\n",
       "                                         Results: Logit\n",
       "================================================================================================\n",
       "Model:                        Logit                      Pseudo R-squared:           0.203      \n",
       "Dependent Variable:           y_train                    AIC:                        372414.8526\n",
       "Date:                         2021-09-21 11:32           BIC:                        372500.6795\n",
       "No. Observations:             337176                     Log-Likelihood:             -1.8620e+05\n",
       "Df Model:                     7                          LL-Null:                    -2.3371e+05\n",
       "Df Residuals:                 337168                     LLR p-value:                0.0000     \n",
       "Converged:                    0.0000                     Scale:                      1.0000     \n",
       "No. Iterations:               35.0000                                                           \n",
       "------------------------------------------------------------------------------------------------\n",
       "                 Coef.        Std.Err.         z     P>|z|        [0.025             0.975]     \n",
       "------------------------------------------------------------------------------------------------\n",
       "Intercept        -5.2882            0.0317 -166.8242 0.0000            -5.3503           -5.2260\n",
       "wrong_fragment   29.4139          360.6223    0.0816 0.9350          -677.3929          736.2207\n",
       "root_shell      -12.9026            3.8502   -3.3512 0.0008           -20.4489           -5.3564\n",
       "su_attempted   -127.0084        21085.2021   -0.0060 0.9952        -41453.2450        41199.2282\n",
       "count          1166.3126            6.4894  179.7251 0.0000          1153.5936         1179.0317\n",
       "urgent            7.5021            5.2673    1.4243 0.1544            -2.8216           17.8257\n",
       "is_guest_login  -14.4978            5.8079   -2.4962 0.0126           -25.8811           -3.1144\n",
       "num_shells     -507.5065 122279307219.6946   -0.0000 1.0000 -239663038712.6166 239663037697.6036\n",
       "================================================================================================\n",
       "\n",
       "\"\"\""
      ]
     },
     "execution_count": 85,
     "metadata": {},
     "output_type": "execute_result"
    }
   ],
   "source": [
    "result.summary2()"
   ]
  },
  {
   "cell_type": "markdown",
   "id": "0f1cd7e9",
   "metadata": {
    "executionInfo": {
     "elapsed": 442,
     "status": "ok",
     "timestamp": 1629122758707,
     "user": {
      "displayName": "akshay narake",
      "photoUrl": "https://lh3.googleusercontent.com/a-/AOh14GgGQ2ijZliaBz2TDDcO_VcMyvg0gC4fDSXa1giCfw=s64",
      "userId": "07482213745940841366"
     },
     "user_tz": -330
    },
    "id": "320b9305"
   },
   "source": [
    "### Accuracy Metrics"
   ]
  },
  {
   "cell_type": "code",
   "execution_count": 86,
   "id": "FUpCYDosSKHg",
   "metadata": {
    "executionInfo": {
     "elapsed": 4,
     "status": "ok",
     "timestamp": 1629122987268,
     "user": {
      "displayName": "akshay narake",
      "photoUrl": "https://lh3.googleusercontent.com/a-/AOh14GgGQ2ijZliaBz2TDDcO_VcMyvg0gC4fDSXa1giCfw=s64",
      "userId": "07482213745940841366"
     },
     "user_tz": -330
    },
    "id": "FUpCYDosSKHg"
   },
   "outputs": [],
   "source": [
    "#Module related to calculation of metrics\n",
    "import sklearn.metrics as metrics"
   ]
  },
  {
   "cell_type": "code",
   "execution_count": 87,
   "id": "GxeE5F16EeZD",
   "metadata": {
    "colab": {
     "base_uri": "https://localhost:8080/"
    },
    "executionInfo": {
     "elapsed": 524,
     "status": "ok",
     "timestamp": 1629122988251,
     "user": {
      "displayName": "akshay narake",
      "photoUrl": "https://lh3.googleusercontent.com/a-/AOh14GgGQ2ijZliaBz2TDDcO_VcMyvg0gC4fDSXa1giCfw=s64",
      "userId": "07482213745940841366"
     },
     "user_tz": -330
    },
    "id": "GxeE5F16EeZD",
    "outputId": "63291209-dd9d-4a11-ead6-d85d9cfe4c23"
   },
   "outputs": [
    {
     "name": "stdout",
     "output_type": "stream",
     "text": [
      "The AUC for the model built on the Train Data is :  0.7180211998829422\n",
      "The AUC for the model built on the Test Data is :  0.7184348779199852\n"
     ]
    }
   ],
   "source": [
    "train_auc = metrics.roc_auc_score(y_train, result.predict(X_train))\n",
    "test_auc = metrics.roc_auc_score(y_test, result.predict(X_test))\n",
    "\n",
    "print(\"The AUC for the model built on the Train Data is : \", train_auc)\n",
    "print(\"The AUC for the model built on the Test Data is : \", test_auc)"
   ]
  },
  {
   "cell_type": "code",
   "execution_count": 88,
   "id": "Qm4sm_4XEeWE",
   "metadata": {
    "colab": {
     "base_uri": "https://localhost:8080/",
     "height": 203
    },
    "executionInfo": {
     "elapsed": 692,
     "status": "ok",
     "timestamp": 1629122995191,
     "user": {
      "displayName": "akshay narake",
      "photoUrl": "https://lh3.googleusercontent.com/a-/AOh14GgGQ2ijZliaBz2TDDcO_VcMyvg0gC4fDSXa1giCfw=s64",
      "userId": "07482213745940841366"
     },
     "user_tz": -330
    },
    "id": "Qm4sm_4XEeWE",
    "outputId": "0a850814-1daf-4b4e-c067-9f397061ab82"
   },
   "outputs": [
    {
     "data": {
      "text/html": [
       "<div>\n",
       "<style scoped>\n",
       "    .dataframe tbody tr th:only-of-type {\n",
       "        vertical-align: middle;\n",
       "    }\n",
       "\n",
       "    .dataframe tbody tr th {\n",
       "        vertical-align: top;\n",
       "    }\n",
       "\n",
       "    .dataframe thead th {\n",
       "        text-align: right;\n",
       "    }\n",
       "</style>\n",
       "<table border=\"1\" class=\"dataframe\">\n",
       "  <thead>\n",
       "    <tr style=\"text-align: right;\">\n",
       "      <th></th>\n",
       "      <th>actual</th>\n",
       "      <th>prob</th>\n",
       "    </tr>\n",
       "  </thead>\n",
       "  <tbody>\n",
       "    <tr>\n",
       "      <th>37113</th>\n",
       "      <td>1</td>\n",
       "      <td>0.6326</td>\n",
       "    </tr>\n",
       "    <tr>\n",
       "      <th>150293</th>\n",
       "      <td>1</td>\n",
       "      <td>0.6326</td>\n",
       "    </tr>\n",
       "    <tr>\n",
       "      <th>378768</th>\n",
       "      <td>0</td>\n",
       "      <td>0.6326</td>\n",
       "    </tr>\n",
       "    <tr>\n",
       "      <th>213120</th>\n",
       "      <td>1</td>\n",
       "      <td>0.6326</td>\n",
       "    </tr>\n",
       "    <tr>\n",
       "      <th>653757</th>\n",
       "      <td>0</td>\n",
       "      <td>0.6326</td>\n",
       "    </tr>\n",
       "  </tbody>\n",
       "</table>\n",
       "</div>"
      ],
      "text/plain": [
       "        actual    prob\n",
       "37113        1  0.6326\n",
       "150293       1  0.6326\n",
       "378768       0  0.6326\n",
       "213120       1  0.6326\n",
       "653757       0  0.6326"
      ]
     },
     "execution_count": 88,
     "metadata": {},
     "output_type": "execute_result"
    }
   ],
   "source": [
    "## Intuition behind ROC curve - predicted probability as a tool for separating the '1's and '0's on the Train dataset.\n",
    "\n",
    "train_predicted_prob = pd.DataFrame(result.predict(X_train))\n",
    "train_predicted_prob.columns = ['prob']\n",
    "train_actual = y_train\n",
    "\n",
    "# making a DataFrame with actual and prob columns for Train dataset.\n",
    "\n",
    "train_predict = pd.concat([train_actual, train_predicted_prob], axis=1)\n",
    "train_predict.columns = ['actual','prob']\n",
    "train_predict.head()"
   ]
  },
  {
   "cell_type": "code",
   "execution_count": 89,
   "id": "uXoTJRm6EeTH",
   "metadata": {
    "colab": {
     "base_uri": "https://localhost:8080/",
     "height": 203
    },
    "executionInfo": {
     "elapsed": 500,
     "status": "ok",
     "timestamp": 1629123008072,
     "user": {
      "displayName": "akshay narake",
      "photoUrl": "https://lh3.googleusercontent.com/a-/AOh14GgGQ2ijZliaBz2TDDcO_VcMyvg0gC4fDSXa1giCfw=s64",
      "userId": "07482213745940841366"
     },
     "user_tz": -330
    },
    "id": "uXoTJRm6EeTH",
    "outputId": "2b0d5273-cba6-493e-91ed-a488375e17c1"
   },
   "outputs": [
    {
     "data": {
      "text/html": [
       "<div>\n",
       "<style scoped>\n",
       "    .dataframe tbody tr th:only-of-type {\n",
       "        vertical-align: middle;\n",
       "    }\n",
       "\n",
       "    .dataframe tbody tr th {\n",
       "        vertical-align: top;\n",
       "    }\n",
       "\n",
       "    .dataframe thead th {\n",
       "        text-align: right;\n",
       "    }\n",
       "</style>\n",
       "<table border=\"1\" class=\"dataframe\">\n",
       "  <thead>\n",
       "    <tr style=\"text-align: right;\">\n",
       "      <th></th>\n",
       "      <th>actual</th>\n",
       "      <th>prob</th>\n",
       "    </tr>\n",
       "  </thead>\n",
       "  <tbody>\n",
       "    <tr>\n",
       "      <th>544776</th>\n",
       "      <td>0</td>\n",
       "      <td>0.015956</td>\n",
       "    </tr>\n",
       "    <tr>\n",
       "      <th>2231</th>\n",
       "      <td>1</td>\n",
       "      <td>0.632600</td>\n",
       "    </tr>\n",
       "    <tr>\n",
       "      <th>781981</th>\n",
       "      <td>0</td>\n",
       "      <td>0.632600</td>\n",
       "    </tr>\n",
       "    <tr>\n",
       "      <th>462438</th>\n",
       "      <td>0</td>\n",
       "      <td>0.349116</td>\n",
       "    </tr>\n",
       "    <tr>\n",
       "      <th>736113</th>\n",
       "      <td>0</td>\n",
       "      <td>0.049475</td>\n",
       "    </tr>\n",
       "  </tbody>\n",
       "</table>\n",
       "</div>"
      ],
      "text/plain": [
       "        actual      prob\n",
       "544776       0  0.015956\n",
       "2231         1  0.632600\n",
       "781981       0  0.632600\n",
       "462438       0  0.349116\n",
       "736113       0  0.049475"
      ]
     },
     "execution_count": 89,
     "metadata": {},
     "output_type": "execute_result"
    }
   ],
   "source": [
    "## Intuition behind ROC curve - predicted probability as a tool for separating the '1's and '0's on the Test dataset.\n",
    "\n",
    "test_predicted_prob = pd.DataFrame(result.predict(X_test))\n",
    "test_predicted_prob.columns = ['prob']\n",
    "test_actual = y_test\n",
    "\n",
    "# making a DataFrame with actual and prob columns for Test dataset.\n",
    "\n",
    "test_predict = pd.concat([test_actual, test_predicted_prob], axis=1)\n",
    "test_predict.columns = ['actual','prob']\n",
    "test_predict.head()"
   ]
  },
  {
   "cell_type": "code",
   "execution_count": 90,
   "id": "R65lHDOpEeQM",
   "metadata": {
    "executionInfo": {
     "elapsed": 780549,
     "status": "ok",
     "timestamp": 1629124086313,
     "user": {
      "displayName": "akshay narake",
      "photoUrl": "https://lh3.googleusercontent.com/a-/AOh14GgGQ2ijZliaBz2TDDcO_VcMyvg0gC4fDSXa1giCfw=s64",
      "userId": "07482213745940841366"
     },
     "user_tz": -330
    },
    "id": "R65lHDOpEeQM"
   },
   "outputs": [],
   "source": [
    "## Intuition behind ROC curve - confusion matrix for each different cut-off shows trade off in sensitivity and specificity.\n",
    "\n",
    "roc_like_df = pd.DataFrame()\n",
    "train_temp = train_predict.copy()\n",
    "\n",
    "for cut_off in np.linspace(0,1,50):\n",
    "    train_temp['cut_off'] = cut_off\n",
    "    train_temp['predicted'] = train_temp['prob'].apply(lambda x: 0.0 if x < cut_off else 1.0)\n",
    "    train_temp['tp'] = train_temp.apply(lambda x: 1.0 if x['actual']==1.0 and x['predicted']==1 else 0.0, axis=1)\n",
    "    train_temp['fp'] = train_temp.apply(lambda x: 1.0 if x['actual']==0.0 and x['predicted']==1 else 0.0, axis=1)\n",
    "    train_temp['tn'] = train_temp.apply(lambda x: 1.0 if x['actual']==0.0 and x['predicted']==0 else 0.0, axis=1)\n",
    "    train_temp['fn'] = train_temp.apply(lambda x: 1.0 if x['actual']==1.0 and x['predicted']==0 else 0.0, axis=1)\n",
    "    sensitivity = train_temp['tp'].sum() / (train_temp['tp'].sum() + train_temp['fn'].sum())\n",
    "    specificity = train_temp['tn'].sum() / (train_temp['tn'].sum() + train_temp['fp'].sum())\n",
    "    accuracy = (train_temp['tp'].sum()  + train_temp['tn'].sum() ) / (train_temp['tp'].sum() + train_temp['fn'].sum() + train_temp['tn'].sum() + train_temp['fp'].sum())\n",
    "    roc_like_table = pd.DataFrame([cut_off, sensitivity, specificity, accuracy]).T\n",
    "    roc_like_table.columns = ['cutoff', 'sensitivity', 'specificity', 'accuracy']\n",
    "    roc_like_df = pd.concat([roc_like_df, roc_like_table], axis=0)\n"
   ]
  },
  {
   "cell_type": "code",
   "execution_count": 91,
   "id": "odQ3d3NiEeLB",
   "metadata": {
    "colab": {
     "base_uri": "https://localhost:8080/",
     "height": 203
    },
    "executionInfo": {
     "elapsed": 608,
     "status": "ok",
     "timestamp": 1629124136455,
     "user": {
      "displayName": "akshay narake",
      "photoUrl": "https://lh3.googleusercontent.com/a-/AOh14GgGQ2ijZliaBz2TDDcO_VcMyvg0gC4fDSXa1giCfw=s64",
      "userId": "07482213745940841366"
     },
     "user_tz": -330
    },
    "id": "odQ3d3NiEeLB",
    "outputId": "9fbd37a9-3a3a-4fdc-dd11-5401ba44eb1b"
   },
   "outputs": [
    {
     "data": {
      "text/html": [
       "<div>\n",
       "<style scoped>\n",
       "    .dataframe tbody tr th:only-of-type {\n",
       "        vertical-align: middle;\n",
       "    }\n",
       "\n",
       "    .dataframe tbody tr th {\n",
       "        vertical-align: top;\n",
       "    }\n",
       "\n",
       "    .dataframe thead th {\n",
       "        text-align: right;\n",
       "    }\n",
       "</style>\n",
       "<table border=\"1\" class=\"dataframe\">\n",
       "  <thead>\n",
       "    <tr style=\"text-align: right;\">\n",
       "      <th></th>\n",
       "      <th>cutoff</th>\n",
       "      <th>sensitivity</th>\n",
       "      <th>specificity</th>\n",
       "      <th>accuracy</th>\n",
       "    </tr>\n",
       "  </thead>\n",
       "  <tbody>\n",
       "    <tr>\n",
       "      <th>0</th>\n",
       "      <td>0.000000</td>\n",
       "      <td>1.000000</td>\n",
       "      <td>0.000000</td>\n",
       "      <td>0.500400</td>\n",
       "    </tr>\n",
       "    <tr>\n",
       "      <th>0</th>\n",
       "      <td>0.020408</td>\n",
       "      <td>0.988502</td>\n",
       "      <td>0.248669</td>\n",
       "      <td>0.618882</td>\n",
       "    </tr>\n",
       "    <tr>\n",
       "      <th>0</th>\n",
       "      <td>0.040816</td>\n",
       "      <td>0.988496</td>\n",
       "      <td>0.248693</td>\n",
       "      <td>0.618890</td>\n",
       "    </tr>\n",
       "    <tr>\n",
       "      <th>0</th>\n",
       "      <td>0.061224</td>\n",
       "      <td>0.982658</td>\n",
       "      <td>0.338053</td>\n",
       "      <td>0.660613</td>\n",
       "    </tr>\n",
       "    <tr>\n",
       "      <th>0</th>\n",
       "      <td>0.081633</td>\n",
       "      <td>0.982658</td>\n",
       "      <td>0.338059</td>\n",
       "      <td>0.660616</td>\n",
       "    </tr>\n",
       "  </tbody>\n",
       "</table>\n",
       "</div>"
      ],
      "text/plain": [
       "     cutoff  sensitivity  specificity  accuracy\n",
       "0  0.000000     1.000000     0.000000  0.500400\n",
       "0  0.020408     0.988502     0.248669  0.618882\n",
       "0  0.040816     0.988496     0.248693  0.618890\n",
       "0  0.061224     0.982658     0.338053  0.660613\n",
       "0  0.081633     0.982658     0.338059  0.660616"
      ]
     },
     "execution_count": 91,
     "metadata": {},
     "output_type": "execute_result"
    }
   ],
   "source": [
    "roc_like_df.head()"
   ]
  },
  {
   "cell_type": "code",
   "execution_count": 92,
   "id": "YUV5oKV9EeHd",
   "metadata": {
    "executionInfo": {
     "elapsed": 447,
     "status": "ok",
     "timestamp": 1629124155279,
     "user": {
      "displayName": "akshay narake",
      "photoUrl": "https://lh3.googleusercontent.com/a-/AOh14GgGQ2ijZliaBz2TDDcO_VcMyvg0gC4fDSXa1giCfw=s64",
      "userId": "07482213745940841366"
     },
     "user_tz": -330
    },
    "id": "YUV5oKV9EeHd"
   },
   "outputs": [],
   "source": [
    "## Finding ideal cut-off for checking if this remains same in OOS validation.\n",
    "\n",
    "roc_like_df['total'] = roc_like_df['sensitivity'] + roc_like_df['specificity']"
   ]
  },
  {
   "cell_type": "code",
   "execution_count": 93,
   "id": "S1wfGi-WEeEK",
   "metadata": {
    "colab": {
     "base_uri": "https://localhost:8080/",
     "height": 203
    },
    "executionInfo": {
     "elapsed": 15,
     "status": "ok",
     "timestamp": 1629124157535,
     "user": {
      "displayName": "akshay narake",
      "photoUrl": "https://lh3.googleusercontent.com/a-/AOh14GgGQ2ijZliaBz2TDDcO_VcMyvg0gC4fDSXa1giCfw=s64",
      "userId": "07482213745940841366"
     },
     "user_tz": -330
    },
    "id": "S1wfGi-WEeEK",
    "outputId": "de0636f2-f3dd-4e76-8348-0fd7791cba71"
   },
   "outputs": [
    {
     "data": {
      "text/html": [
       "<div>\n",
       "<style scoped>\n",
       "    .dataframe tbody tr th:only-of-type {\n",
       "        vertical-align: middle;\n",
       "    }\n",
       "\n",
       "    .dataframe tbody tr th {\n",
       "        vertical-align: top;\n",
       "    }\n",
       "\n",
       "    .dataframe thead th {\n",
       "        text-align: right;\n",
       "    }\n",
       "</style>\n",
       "<table border=\"1\" class=\"dataframe\">\n",
       "  <thead>\n",
       "    <tr style=\"text-align: right;\">\n",
       "      <th></th>\n",
       "      <th>cutoff</th>\n",
       "      <th>sensitivity</th>\n",
       "      <th>specificity</th>\n",
       "      <th>accuracy</th>\n",
       "      <th>total</th>\n",
       "    </tr>\n",
       "  </thead>\n",
       "  <tbody>\n",
       "    <tr>\n",
       "      <th>0</th>\n",
       "      <td>0.000000</td>\n",
       "      <td>1.000000</td>\n",
       "      <td>0.000000</td>\n",
       "      <td>0.500400</td>\n",
       "      <td>1.000000</td>\n",
       "    </tr>\n",
       "    <tr>\n",
       "      <th>0</th>\n",
       "      <td>0.020408</td>\n",
       "      <td>0.988502</td>\n",
       "      <td>0.248669</td>\n",
       "      <td>0.618882</td>\n",
       "      <td>1.237171</td>\n",
       "    </tr>\n",
       "    <tr>\n",
       "      <th>0</th>\n",
       "      <td>0.040816</td>\n",
       "      <td>0.988496</td>\n",
       "      <td>0.248693</td>\n",
       "      <td>0.618890</td>\n",
       "      <td>1.237188</td>\n",
       "    </tr>\n",
       "    <tr>\n",
       "      <th>0</th>\n",
       "      <td>0.061224</td>\n",
       "      <td>0.982658</td>\n",
       "      <td>0.338053</td>\n",
       "      <td>0.660613</td>\n",
       "      <td>1.320711</td>\n",
       "    </tr>\n",
       "    <tr>\n",
       "      <th>0</th>\n",
       "      <td>0.081633</td>\n",
       "      <td>0.982658</td>\n",
       "      <td>0.338059</td>\n",
       "      <td>0.660616</td>\n",
       "      <td>1.320717</td>\n",
       "    </tr>\n",
       "  </tbody>\n",
       "</table>\n",
       "</div>"
      ],
      "text/plain": [
       "     cutoff  sensitivity  specificity  accuracy     total\n",
       "0  0.000000     1.000000     0.000000  0.500400  1.000000\n",
       "0  0.020408     0.988502     0.248669  0.618882  1.237171\n",
       "0  0.040816     0.988496     0.248693  0.618890  1.237188\n",
       "0  0.061224     0.982658     0.338053  0.660613  1.320711\n",
       "0  0.081633     0.982658     0.338059  0.660616  1.320717"
      ]
     },
     "execution_count": 93,
     "metadata": {},
     "output_type": "execute_result"
    }
   ],
   "source": [
    "roc_like_df.head()"
   ]
  },
  {
   "cell_type": "code",
   "execution_count": 94,
   "id": "9RqOG8gMEeBX",
   "metadata": {
    "colab": {
     "base_uri": "https://localhost:8080/",
     "height": 480
    },
    "executionInfo": {
     "elapsed": 625,
     "status": "ok",
     "timestamp": 1629124197879,
     "user": {
      "displayName": "akshay narake",
      "photoUrl": "https://lh3.googleusercontent.com/a-/AOh14GgGQ2ijZliaBz2TDDcO_VcMyvg0gC4fDSXa1giCfw=s64",
      "userId": "07482213745940841366"
     },
     "user_tz": -330
    },
    "id": "9RqOG8gMEeBX",
    "outputId": "3954f332-f95a-4a3d-ee82-cb4c0dc89ce5"
   },
   "outputs": [
    {
     "data": {
      "text/html": [
       "<div>\n",
       "<style scoped>\n",
       "    .dataframe tbody tr th:only-of-type {\n",
       "        vertical-align: middle;\n",
       "    }\n",
       "\n",
       "    .dataframe tbody tr th {\n",
       "        vertical-align: top;\n",
       "    }\n",
       "\n",
       "    .dataframe thead th {\n",
       "        text-align: right;\n",
       "    }\n",
       "</style>\n",
       "<table border=\"1\" class=\"dataframe\">\n",
       "  <thead>\n",
       "    <tr style=\"text-align: right;\">\n",
       "      <th></th>\n",
       "      <th>cutoff</th>\n",
       "      <th>sensitivity</th>\n",
       "      <th>specificity</th>\n",
       "      <th>accuracy</th>\n",
       "      <th>total</th>\n",
       "    </tr>\n",
       "  </thead>\n",
       "  <tbody>\n",
       "    <tr>\n",
       "      <th>0</th>\n",
       "      <td>0.367347</td>\n",
       "      <td>0.978746</td>\n",
       "      <td>0.457558</td>\n",
       "      <td>0.718361</td>\n",
       "      <td>1.436304</td>\n",
       "    </tr>\n",
       "    <tr>\n",
       "      <th>0</th>\n",
       "      <td>0.387755</td>\n",
       "      <td>0.978746</td>\n",
       "      <td>0.457558</td>\n",
       "      <td>0.718361</td>\n",
       "      <td>1.436304</td>\n",
       "    </tr>\n",
       "    <tr>\n",
       "      <th>0</th>\n",
       "      <td>0.408163</td>\n",
       "      <td>0.978746</td>\n",
       "      <td>0.457558</td>\n",
       "      <td>0.718361</td>\n",
       "      <td>1.436304</td>\n",
       "    </tr>\n",
       "    <tr>\n",
       "      <th>0</th>\n",
       "      <td>0.428571</td>\n",
       "      <td>0.978746</td>\n",
       "      <td>0.457558</td>\n",
       "      <td>0.718361</td>\n",
       "      <td>1.436304</td>\n",
       "    </tr>\n",
       "    <tr>\n",
       "      <th>0</th>\n",
       "      <td>0.448980</td>\n",
       "      <td>0.978746</td>\n",
       "      <td>0.457558</td>\n",
       "      <td>0.718361</td>\n",
       "      <td>1.436304</td>\n",
       "    </tr>\n",
       "    <tr>\n",
       "      <th>0</th>\n",
       "      <td>0.469388</td>\n",
       "      <td>0.978746</td>\n",
       "      <td>0.457558</td>\n",
       "      <td>0.718361</td>\n",
       "      <td>1.436304</td>\n",
       "    </tr>\n",
       "    <tr>\n",
       "      <th>0</th>\n",
       "      <td>0.489796</td>\n",
       "      <td>0.978746</td>\n",
       "      <td>0.457558</td>\n",
       "      <td>0.718361</td>\n",
       "      <td>1.436304</td>\n",
       "    </tr>\n",
       "    <tr>\n",
       "      <th>0</th>\n",
       "      <td>0.510204</td>\n",
       "      <td>0.978746</td>\n",
       "      <td>0.457558</td>\n",
       "      <td>0.718361</td>\n",
       "      <td>1.436304</td>\n",
       "    </tr>\n",
       "    <tr>\n",
       "      <th>0</th>\n",
       "      <td>0.530612</td>\n",
       "      <td>0.978746</td>\n",
       "      <td>0.457558</td>\n",
       "      <td>0.718361</td>\n",
       "      <td>1.436304</td>\n",
       "    </tr>\n",
       "    <tr>\n",
       "      <th>0</th>\n",
       "      <td>0.551020</td>\n",
       "      <td>0.978746</td>\n",
       "      <td>0.457558</td>\n",
       "      <td>0.718361</td>\n",
       "      <td>1.436304</td>\n",
       "    </tr>\n",
       "    <tr>\n",
       "      <th>0</th>\n",
       "      <td>0.571429</td>\n",
       "      <td>0.978746</td>\n",
       "      <td>0.457558</td>\n",
       "      <td>0.718361</td>\n",
       "      <td>1.436304</td>\n",
       "    </tr>\n",
       "    <tr>\n",
       "      <th>0</th>\n",
       "      <td>0.591837</td>\n",
       "      <td>0.978746</td>\n",
       "      <td>0.457558</td>\n",
       "      <td>0.718361</td>\n",
       "      <td>1.436304</td>\n",
       "    </tr>\n",
       "    <tr>\n",
       "      <th>0</th>\n",
       "      <td>0.612245</td>\n",
       "      <td>0.978746</td>\n",
       "      <td>0.457558</td>\n",
       "      <td>0.718361</td>\n",
       "      <td>1.436304</td>\n",
       "    </tr>\n",
       "  </tbody>\n",
       "</table>\n",
       "</div>"
      ],
      "text/plain": [
       "     cutoff  sensitivity  specificity  accuracy     total\n",
       "0  0.367347     0.978746     0.457558  0.718361  1.436304\n",
       "0  0.387755     0.978746     0.457558  0.718361  1.436304\n",
       "0  0.408163     0.978746     0.457558  0.718361  1.436304\n",
       "0  0.428571     0.978746     0.457558  0.718361  1.436304\n",
       "0  0.448980     0.978746     0.457558  0.718361  1.436304\n",
       "0  0.469388     0.978746     0.457558  0.718361  1.436304\n",
       "0  0.489796     0.978746     0.457558  0.718361  1.436304\n",
       "0  0.510204     0.978746     0.457558  0.718361  1.436304\n",
       "0  0.530612     0.978746     0.457558  0.718361  1.436304\n",
       "0  0.551020     0.978746     0.457558  0.718361  1.436304\n",
       "0  0.571429     0.978746     0.457558  0.718361  1.436304\n",
       "0  0.591837     0.978746     0.457558  0.718361  1.436304\n",
       "0  0.612245     0.978746     0.457558  0.718361  1.436304"
      ]
     },
     "execution_count": 94,
     "metadata": {},
     "output_type": "execute_result"
    }
   ],
   "source": [
    "#Cut-off based on highest sum(sensitivity+specicity) - common way of identifying cut-off\n",
    "roc_like_df[roc_like_df['total']==roc_like_df['total'].max()]"
   ]
  },
  {
   "cell_type": "code",
   "execution_count": 95,
   "id": "gt8XUIJQEd5Z",
   "metadata": {
    "colab": {
     "base_uri": "https://localhost:8080/",
     "height": 480
    },
    "executionInfo": {
     "elapsed": 654,
     "status": "ok",
     "timestamp": 1629124214906,
     "user": {
      "displayName": "akshay narake",
      "photoUrl": "https://lh3.googleusercontent.com/a-/AOh14GgGQ2ijZliaBz2TDDcO_VcMyvg0gC4fDSXa1giCfw=s64",
      "userId": "07482213745940841366"
     },
     "user_tz": -330
    },
    "id": "gt8XUIJQEd5Z",
    "outputId": "e3bb6793-a827-4a47-c8c6-fee4983ba859"
   },
   "outputs": [
    {
     "data": {
      "text/html": [
       "<div>\n",
       "<style scoped>\n",
       "    .dataframe tbody tr th:only-of-type {\n",
       "        vertical-align: middle;\n",
       "    }\n",
       "\n",
       "    .dataframe tbody tr th {\n",
       "        vertical-align: top;\n",
       "    }\n",
       "\n",
       "    .dataframe thead th {\n",
       "        text-align: right;\n",
       "    }\n",
       "</style>\n",
       "<table border=\"1\" class=\"dataframe\">\n",
       "  <thead>\n",
       "    <tr style=\"text-align: right;\">\n",
       "      <th></th>\n",
       "      <th>cutoff</th>\n",
       "      <th>sensitivity</th>\n",
       "      <th>specificity</th>\n",
       "      <th>accuracy</th>\n",
       "      <th>total</th>\n",
       "    </tr>\n",
       "  </thead>\n",
       "  <tbody>\n",
       "    <tr>\n",
       "      <th>0</th>\n",
       "      <td>0.367347</td>\n",
       "      <td>0.978746</td>\n",
       "      <td>0.457558</td>\n",
       "      <td>0.718361</td>\n",
       "      <td>1.436304</td>\n",
       "    </tr>\n",
       "    <tr>\n",
       "      <th>0</th>\n",
       "      <td>0.387755</td>\n",
       "      <td>0.978746</td>\n",
       "      <td>0.457558</td>\n",
       "      <td>0.718361</td>\n",
       "      <td>1.436304</td>\n",
       "    </tr>\n",
       "    <tr>\n",
       "      <th>0</th>\n",
       "      <td>0.408163</td>\n",
       "      <td>0.978746</td>\n",
       "      <td>0.457558</td>\n",
       "      <td>0.718361</td>\n",
       "      <td>1.436304</td>\n",
       "    </tr>\n",
       "    <tr>\n",
       "      <th>0</th>\n",
       "      <td>0.428571</td>\n",
       "      <td>0.978746</td>\n",
       "      <td>0.457558</td>\n",
       "      <td>0.718361</td>\n",
       "      <td>1.436304</td>\n",
       "    </tr>\n",
       "    <tr>\n",
       "      <th>0</th>\n",
       "      <td>0.448980</td>\n",
       "      <td>0.978746</td>\n",
       "      <td>0.457558</td>\n",
       "      <td>0.718361</td>\n",
       "      <td>1.436304</td>\n",
       "    </tr>\n",
       "    <tr>\n",
       "      <th>0</th>\n",
       "      <td>0.469388</td>\n",
       "      <td>0.978746</td>\n",
       "      <td>0.457558</td>\n",
       "      <td>0.718361</td>\n",
       "      <td>1.436304</td>\n",
       "    </tr>\n",
       "    <tr>\n",
       "      <th>0</th>\n",
       "      <td>0.489796</td>\n",
       "      <td>0.978746</td>\n",
       "      <td>0.457558</td>\n",
       "      <td>0.718361</td>\n",
       "      <td>1.436304</td>\n",
       "    </tr>\n",
       "    <tr>\n",
       "      <th>0</th>\n",
       "      <td>0.510204</td>\n",
       "      <td>0.978746</td>\n",
       "      <td>0.457558</td>\n",
       "      <td>0.718361</td>\n",
       "      <td>1.436304</td>\n",
       "    </tr>\n",
       "    <tr>\n",
       "      <th>0</th>\n",
       "      <td>0.530612</td>\n",
       "      <td>0.978746</td>\n",
       "      <td>0.457558</td>\n",
       "      <td>0.718361</td>\n",
       "      <td>1.436304</td>\n",
       "    </tr>\n",
       "    <tr>\n",
       "      <th>0</th>\n",
       "      <td>0.551020</td>\n",
       "      <td>0.978746</td>\n",
       "      <td>0.457558</td>\n",
       "      <td>0.718361</td>\n",
       "      <td>1.436304</td>\n",
       "    </tr>\n",
       "    <tr>\n",
       "      <th>0</th>\n",
       "      <td>0.571429</td>\n",
       "      <td>0.978746</td>\n",
       "      <td>0.457558</td>\n",
       "      <td>0.718361</td>\n",
       "      <td>1.436304</td>\n",
       "    </tr>\n",
       "    <tr>\n",
       "      <th>0</th>\n",
       "      <td>0.591837</td>\n",
       "      <td>0.978746</td>\n",
       "      <td>0.457558</td>\n",
       "      <td>0.718361</td>\n",
       "      <td>1.436304</td>\n",
       "    </tr>\n",
       "    <tr>\n",
       "      <th>0</th>\n",
       "      <td>0.612245</td>\n",
       "      <td>0.978746</td>\n",
       "      <td>0.457558</td>\n",
       "      <td>0.718361</td>\n",
       "      <td>1.436304</td>\n",
       "    </tr>\n",
       "  </tbody>\n",
       "</table>\n",
       "</div>"
      ],
      "text/plain": [
       "     cutoff  sensitivity  specificity  accuracy     total\n",
       "0  0.367347     0.978746     0.457558  0.718361  1.436304\n",
       "0  0.387755     0.978746     0.457558  0.718361  1.436304\n",
       "0  0.408163     0.978746     0.457558  0.718361  1.436304\n",
       "0  0.428571     0.978746     0.457558  0.718361  1.436304\n",
       "0  0.448980     0.978746     0.457558  0.718361  1.436304\n",
       "0  0.469388     0.978746     0.457558  0.718361  1.436304\n",
       "0  0.489796     0.978746     0.457558  0.718361  1.436304\n",
       "0  0.510204     0.978746     0.457558  0.718361  1.436304\n",
       "0  0.530612     0.978746     0.457558  0.718361  1.436304\n",
       "0  0.551020     0.978746     0.457558  0.718361  1.436304\n",
       "0  0.571429     0.978746     0.457558  0.718361  1.436304\n",
       "0  0.591837     0.978746     0.457558  0.718361  1.436304\n",
       "0  0.612245     0.978746     0.457558  0.718361  1.436304"
      ]
     },
     "execution_count": 95,
     "metadata": {},
     "output_type": "execute_result"
    }
   ],
   "source": [
    "#Cut-off based on highest accuracy - some teams use this as methodology to decide the cut-off\n",
    "roc_like_df[roc_like_df['accuracy'] == roc_like_df['accuracy'].max()]"
   ]
  },
  {
   "cell_type": "code",
   "execution_count": 96,
   "id": "sNqWBltLEduf",
   "metadata": {
    "colab": {
     "base_uri": "https://localhost:8080/",
     "height": 80
    },
    "executionInfo": {
     "elapsed": 574,
     "status": "ok",
     "timestamp": 1629124218481,
     "user": {
      "displayName": "akshay narake",
      "photoUrl": "https://lh3.googleusercontent.com/a-/AOh14GgGQ2ijZliaBz2TDDcO_VcMyvg0gC4fDSXa1giCfw=s64",
      "userId": "07482213745940841366"
     },
     "user_tz": -330
    },
    "id": "sNqWBltLEduf",
    "outputId": "6222222e-ba55-4fef-bcab-c2b0e15f8ff8"
   },
   "outputs": [
    {
     "data": {
      "text/html": [
       "<div>\n",
       "<style scoped>\n",
       "    .dataframe tbody tr th:only-of-type {\n",
       "        vertical-align: middle;\n",
       "    }\n",
       "\n",
       "    .dataframe tbody tr th {\n",
       "        vertical-align: top;\n",
       "    }\n",
       "\n",
       "    .dataframe thead th {\n",
       "        text-align: right;\n",
       "    }\n",
       "</style>\n",
       "<table border=\"1\" class=\"dataframe\">\n",
       "  <thead>\n",
       "    <tr style=\"text-align: right;\">\n",
       "      <th></th>\n",
       "      <th>cutoff</th>\n",
       "      <th>sensitivity</th>\n",
       "      <th>specificity</th>\n",
       "      <th>accuracy</th>\n",
       "      <th>total</th>\n",
       "    </tr>\n",
       "  </thead>\n",
       "  <tbody>\n",
       "    <tr>\n",
       "      <th>0</th>\n",
       "      <td>0.0</td>\n",
       "      <td>1.0</td>\n",
       "      <td>0.0</td>\n",
       "      <td>0.5004</td>\n",
       "      <td>1.0</td>\n",
       "    </tr>\n",
       "  </tbody>\n",
       "</table>\n",
       "</div>"
      ],
      "text/plain": [
       "   cutoff  sensitivity  specificity  accuracy  total\n",
       "0     0.0          1.0          0.0    0.5004    1.0"
      ]
     },
     "execution_count": 96,
     "metadata": {},
     "output_type": "execute_result"
    }
   ],
   "source": [
    "#Cut-off based on highest sensitivity\n",
    "roc_like_df[roc_like_df['sensitivity'] == roc_like_df['sensitivity'].max()]"
   ]
  },
  {
   "cell_type": "code",
   "execution_count": 97,
   "id": "Tuk43b6UVqHC",
   "metadata": {
    "executionInfo": {
     "elapsed": 657,
     "status": "ok",
     "timestamp": 1629124348605,
     "user": {
      "displayName": "akshay narake",
      "photoUrl": "https://lh3.googleusercontent.com/a-/AOh14GgGQ2ijZliaBz2TDDcO_VcMyvg0gC4fDSXa1giCfw=s64",
      "userId": "07482213745940841366"
     },
     "user_tz": -330
    },
    "id": "Tuk43b6UVqHC"
   },
   "outputs": [],
   "source": [
    "# Choosen Best Cut-off is 0.632653 based on highest (sensitivity+specicity)\n",
    "\n",
    "train_predict['predicted'] = train_predict['prob'].apply(lambda x: 1 if x > 0.632653 else 0)\n",
    "test_predict['predicted'] = test_predict['prob'].apply(lambda x: 1 if x > 0.632653 else 0)"
   ]
  },
  {
   "cell_type": "code",
   "execution_count": 98,
   "id": "OzglPVYIVqKG",
   "metadata": {
    "colab": {
     "base_uri": "https://localhost:8080/",
     "height": 203
    },
    "executionInfo": {
     "elapsed": 13,
     "status": "ok",
     "timestamp": 1629124350996,
     "user": {
      "displayName": "akshay narake",
      "photoUrl": "https://lh3.googleusercontent.com/a-/AOh14GgGQ2ijZliaBz2TDDcO_VcMyvg0gC4fDSXa1giCfw=s64",
      "userId": "07482213745940841366"
     },
     "user_tz": -330
    },
    "id": "OzglPVYIVqKG",
    "outputId": "35462ee1-73ba-4d0e-d977-f6b096bc7f75"
   },
   "outputs": [
    {
     "data": {
      "text/html": [
       "<div>\n",
       "<style scoped>\n",
       "    .dataframe tbody tr th:only-of-type {\n",
       "        vertical-align: middle;\n",
       "    }\n",
       "\n",
       "    .dataframe tbody tr th {\n",
       "        vertical-align: top;\n",
       "    }\n",
       "\n",
       "    .dataframe thead th {\n",
       "        text-align: right;\n",
       "    }\n",
       "</style>\n",
       "<table border=\"1\" class=\"dataframe\">\n",
       "  <thead>\n",
       "    <tr style=\"text-align: right;\">\n",
       "      <th></th>\n",
       "      <th>actual</th>\n",
       "      <th>prob</th>\n",
       "      <th>predicted</th>\n",
       "    </tr>\n",
       "  </thead>\n",
       "  <tbody>\n",
       "    <tr>\n",
       "      <th>37113</th>\n",
       "      <td>1</td>\n",
       "      <td>0.6326</td>\n",
       "      <td>0</td>\n",
       "    </tr>\n",
       "    <tr>\n",
       "      <th>150293</th>\n",
       "      <td>1</td>\n",
       "      <td>0.6326</td>\n",
       "      <td>0</td>\n",
       "    </tr>\n",
       "    <tr>\n",
       "      <th>378768</th>\n",
       "      <td>0</td>\n",
       "      <td>0.6326</td>\n",
       "      <td>0</td>\n",
       "    </tr>\n",
       "    <tr>\n",
       "      <th>213120</th>\n",
       "      <td>1</td>\n",
       "      <td>0.6326</td>\n",
       "      <td>0</td>\n",
       "    </tr>\n",
       "    <tr>\n",
       "      <th>653757</th>\n",
       "      <td>0</td>\n",
       "      <td>0.6326</td>\n",
       "      <td>0</td>\n",
       "    </tr>\n",
       "  </tbody>\n",
       "</table>\n",
       "</div>"
      ],
      "text/plain": [
       "        actual    prob  predicted\n",
       "37113        1  0.6326          0\n",
       "150293       1  0.6326          0\n",
       "378768       0  0.6326          0\n",
       "213120       1  0.6326          0\n",
       "653757       0  0.6326          0"
      ]
     },
     "execution_count": 98,
     "metadata": {},
     "output_type": "execute_result"
    }
   ],
   "source": [
    "train_predict.head()"
   ]
  },
  {
   "cell_type": "code",
   "execution_count": 99,
   "id": "y1obz36KVqPo",
   "metadata": {
    "colab": {
     "base_uri": "https://localhost:8080/"
    },
    "executionInfo": {
     "elapsed": 7,
     "status": "ok",
     "timestamp": 1629124355575,
     "user": {
      "displayName": "akshay narake",
      "photoUrl": "https://lh3.googleusercontent.com/a-/AOh14GgGQ2ijZliaBz2TDDcO_VcMyvg0gC4fDSXa1giCfw=s64",
      "userId": "07482213745940841366"
     },
     "user_tz": -330
    },
    "id": "y1obz36KVqPo",
    "outputId": "f3feb1ff-c80b-4eef-c703-efc50509794f"
   },
   "outputs": [
    {
     "name": "stdout",
     "output_type": "stream",
     "text": [
      "The overall accuracy score for the Train Data is :  0.49960258144114644\n",
      "The overall accuracy score for the Test Data  is :  0.5009342301943199\n"
     ]
    }
   ],
   "source": [
    "print(\"The overall accuracy score for the Train Data is : \", metrics.accuracy_score(train_predict.actual, train_predict.predicted))\n",
    "print(\"The overall accuracy score for the Test Data  is : \", metrics.accuracy_score(test_predict.actual, test_predict.predicted))"
   ]
  },
  {
   "cell_type": "code",
   "execution_count": 100,
   "id": "ooHShkgdVqTY",
   "metadata": {
    "colab": {
     "base_uri": "https://localhost:8080/"
    },
    "executionInfo": {
     "elapsed": 1332,
     "status": "ok",
     "timestamp": 1629124361609,
     "user": {
      "displayName": "akshay narake",
      "photoUrl": "https://lh3.googleusercontent.com/a-/AOh14GgGQ2ijZliaBz2TDDcO_VcMyvg0gC4fDSXa1giCfw=s64",
      "userId": "07482213745940841366"
     },
     "user_tz": -330
    },
    "id": "ooHShkgdVqTY",
    "outputId": "52cc124d-38f2-4002-cfe9-492b9bb872e8"
   },
   "outputs": [
    {
     "name": "stdout",
     "output_type": "stream",
     "text": [
      "              precision    recall  f1-score   support\n",
      "\n",
      "           0       0.50      1.00      0.67    168453\n",
      "           1       1.00      0.00      0.00    168723\n",
      "\n",
      "    accuracy                           0.50    337176\n",
      "   macro avg       0.75      0.50      0.33    337176\n",
      "weighted avg       0.75      0.50      0.33    337176\n",
      "\n"
     ]
    }
   ],
   "source": [
    "print(metrics.classification_report(train_predict.actual, train_predict.predicted))"
   ]
  },
  {
   "cell_type": "code",
   "execution_count": 101,
   "id": "U2c7pCtVVqWt",
   "metadata": {
    "colab": {
     "base_uri": "https://localhost:8080/"
    },
    "executionInfo": {
     "elapsed": 520,
     "status": "ok",
     "timestamp": 1629124371961,
     "user": {
      "displayName": "akshay narake",
      "photoUrl": "https://lh3.googleusercontent.com/a-/AOh14GgGQ2ijZliaBz2TDDcO_VcMyvg0gC4fDSXa1giCfw=s64",
      "userId": "07482213745940841366"
     },
     "user_tz": -330
    },
    "id": "U2c7pCtVVqWt",
    "outputId": "d79d2144-e124-4038-b149-bcf8267076fe"
   },
   "outputs": [
    {
     "name": "stdout",
     "output_type": "stream",
     "text": [
      "              precision    recall  f1-score   support\n",
      "\n",
      "           0       0.50      1.00      0.67     72387\n",
      "           1       0.00      0.00      0.00     72117\n",
      "\n",
      "    accuracy                           0.50    144504\n",
      "   macro avg       0.25      0.50      0.33    144504\n",
      "weighted avg       0.25      0.50      0.33    144504\n",
      "\n"
     ]
    }
   ],
   "source": [
    "print(metrics.classification_report(test_predict.actual, test_predict.predicted))"
   ]
  },
  {
   "cell_type": "markdown",
   "id": "d49e0472",
   "metadata": {
    "id": "ly6K2KezVqaK"
   },
   "source": [
    "### Logistic Regression using sklearn"
   ]
  },
  {
   "cell_type": "code",
   "execution_count": 102,
   "id": "VXN9mqBgaiCN",
   "metadata": {
    "executionInfo": {
     "elapsed": 2118,
     "status": "ok",
     "timestamp": 1629127308330,
     "user": {
      "displayName": "akshay narake",
      "photoUrl": "https://lh3.googleusercontent.com/a-/AOh14GgGQ2ijZliaBz2TDDcO_VcMyvg0gC4fDSXa1giCfw=s64",
      "userId": "07482213745940841366"
     },
     "user_tz": -330
    },
    "id": "VXN9mqBgaiCN"
   },
   "outputs": [],
   "source": [
    " from sklearn.linear_model import LogisticRegression"
   ]
  },
  {
   "cell_type": "code",
   "execution_count": 103,
   "id": "S5uuAJnuaU2g",
   "metadata": {
    "executionInfo": {
     "elapsed": 4340,
     "status": "ok",
     "timestamp": 1629127329353,
     "user": {
      "displayName": "akshay narake",
      "photoUrl": "https://lh3.googleusercontent.com/a-/AOh14GgGQ2ijZliaBz2TDDcO_VcMyvg0gC4fDSXa1giCfw=s64",
      "userId": "07482213745940841366"
     },
     "user_tz": -330
    },
    "id": "S5uuAJnuaU2g"
   },
   "outputs": [],
   "source": [
    "#Build the model.\n",
    "model = LogisticRegression()\n",
    "model = model.fit(X_train, y_train)"
   ]
  },
  {
   "cell_type": "code",
   "execution_count": 104,
   "id": "iVkF0uDNaU5n",
   "metadata": {
    "executionInfo": {
     "elapsed": 570,
     "status": "ok",
     "timestamp": 1629127561650,
     "user": {
      "displayName": "akshay narake",
      "photoUrl": "https://lh3.googleusercontent.com/a-/AOh14GgGQ2ijZliaBz2TDDcO_VcMyvg0gC4fDSXa1giCfw=s64",
      "userId": "07482213745940841366"
     },
     "user_tz": -330
    },
    "id": "iVkF0uDNaU5n"
   },
   "outputs": [],
   "source": [
    "X_train['pred_prob'] = pd.DataFrame(model.predict_proba(X_train), index=X_train.index)[1]"
   ]
  },
  {
   "cell_type": "code",
   "execution_count": 105,
   "id": "Q3-tp8m6aU9j",
   "metadata": {
    "executionInfo": {
     "elapsed": 555,
     "status": "ok",
     "timestamp": 1629127593790,
     "user": {
      "displayName": "akshay narake",
      "photoUrl": "https://lh3.googleusercontent.com/a-/AOh14GgGQ2ijZliaBz2TDDcO_VcMyvg0gC4fDSXa1giCfw=s64",
      "userId": "07482213745940841366"
     },
     "user_tz": -330
    },
    "id": "Q3-tp8m6aU9j"
   },
   "outputs": [],
   "source": [
    "X_test['pred_prob'] = pd.DataFrame(model.predict_proba(X_test),index=X_test.index)[1]"
   ]
  },
  {
   "cell_type": "code",
   "execution_count": 106,
   "id": "ZlSnMnKjaVA4",
   "metadata": {
    "executionInfo": {
     "elapsed": 764,
     "status": "ok",
     "timestamp": 1629127619866,
     "user": {
      "displayName": "akshay narake",
      "photoUrl": "https://lh3.googleusercontent.com/a-/AOh14GgGQ2ijZliaBz2TDDcO_VcMyvg0gC4fDSXa1giCfw=s64",
      "userId": "07482213745940841366"
     },
     "user_tz": -330
    },
    "id": "ZlSnMnKjaVA4"
   },
   "outputs": [],
   "source": [
    "train = pd.concat([X_train, y_train], axis=1)"
   ]
  },
  {
   "cell_type": "code",
   "execution_count": 107,
   "id": "Y_bjMDmol65s",
   "metadata": {
    "colab": {
     "base_uri": "https://localhost:8080/",
     "height": 223
    },
    "executionInfo": {
     "elapsed": 6602,
     "status": "ok",
     "timestamp": 1629127965609,
     "user": {
      "displayName": "akshay narake",
      "photoUrl": "https://lh3.googleusercontent.com/a-/AOh14GgGQ2ijZliaBz2TDDcO_VcMyvg0gC4fDSXa1giCfw=s64",
      "userId": "07482213745940841366"
     },
     "user_tz": -330
    },
    "id": "Y_bjMDmol65s",
    "outputId": "b6db39f7-0bed-4e66-e934-7d2f588929b4"
   },
   "outputs": [
    {
     "data": {
      "text/html": [
       "<div>\n",
       "<style scoped>\n",
       "    .dataframe tbody tr th:only-of-type {\n",
       "        vertical-align: middle;\n",
       "    }\n",
       "\n",
       "    .dataframe tbody tr th {\n",
       "        vertical-align: top;\n",
       "    }\n",
       "\n",
       "    .dataframe thead th {\n",
       "        text-align: right;\n",
       "    }\n",
       "</style>\n",
       "<table border=\"1\" class=\"dataframe\">\n",
       "  <thead>\n",
       "    <tr style=\"text-align: right;\">\n",
       "      <th></th>\n",
       "      <th>duration</th>\n",
       "      <th>service</th>\n",
       "      <th>flag</th>\n",
       "      <th>src_bytes</th>\n",
       "      <th>dst_bytes</th>\n",
       "      <th>num_failed_logins</th>\n",
       "      <th>num_root</th>\n",
       "      <th>num_file_creations</th>\n",
       "      <th>num_access_files</th>\n",
       "      <th>count</th>\n",
       "      <th>serror_rate</th>\n",
       "      <th>srv_error_rate</th>\n",
       "      <th>rerror_rate</th>\n",
       "      <th>srv_rerror_rate</th>\n",
       "      <th>same_srv_rate</th>\n",
       "      <th>srv_diff_host_rate</th>\n",
       "      <th>dst_host_count</th>\n",
       "      <th>dst_host_srv_count</th>\n",
       "      <th>dst_host_same_srv_rate</th>\n",
       "      <th>dst_host_diff_srv_rate</th>\n",
       "      <th>dst_host_same_src_port_rate</th>\n",
       "      <th>dst_host_serror_rate</th>\n",
       "      <th>dst_host_srv_serror_rate</th>\n",
       "      <th>dst_host_rerror_rate</th>\n",
       "      <th>dst_host_srv_rerror_rate</th>\n",
       "      <th>protocol_type</th>\n",
       "      <th>land</th>\n",
       "      <th>wrong_fragment</th>\n",
       "      <th>urgent</th>\n",
       "      <th>logged_in</th>\n",
       "      <th>root_shell</th>\n",
       "      <th>su_attempted</th>\n",
       "      <th>num_shells</th>\n",
       "      <th>num_outbound_cmds</th>\n",
       "      <th>is_host_login</th>\n",
       "      <th>is_guest_login</th>\n",
       "      <th>pred_prob</th>\n",
       "      <th>B_Target</th>\n",
       "    </tr>\n",
       "  </thead>\n",
       "  <tbody>\n",
       "    <tr>\n",
       "      <th>37113</th>\n",
       "      <td>0.0</td>\n",
       "      <td>0.0</td>\n",
       "      <td>0.0</td>\n",
       "      <td>0.0</td>\n",
       "      <td>0.0</td>\n",
       "      <td>0.0</td>\n",
       "      <td>0.0</td>\n",
       "      <td>0.0</td>\n",
       "      <td>0.0</td>\n",
       "      <td>0.005</td>\n",
       "      <td>0.0</td>\n",
       "      <td>0.0</td>\n",
       "      <td>0.0</td>\n",
       "      <td>0.0</td>\n",
       "      <td>0.004</td>\n",
       "      <td>0.0</td>\n",
       "      <td>0.104</td>\n",
       "      <td>0.010</td>\n",
       "      <td>0.004</td>\n",
       "      <td>0.0</td>\n",
       "      <td>0.0</td>\n",
       "      <td>0.0</td>\n",
       "      <td>0.0</td>\n",
       "      <td>0.0</td>\n",
       "      <td>0.0</td>\n",
       "      <td>0.0</td>\n",
       "      <td>0</td>\n",
       "      <td>0.0</td>\n",
       "      <td>0.0</td>\n",
       "      <td>0.0</td>\n",
       "      <td>0.0</td>\n",
       "      <td>0.0</td>\n",
       "      <td>0.0</td>\n",
       "      <td>0</td>\n",
       "      <td>0.0</td>\n",
       "      <td>0.0</td>\n",
       "      <td>0.934210</td>\n",
       "      <td>1</td>\n",
       "    </tr>\n",
       "    <tr>\n",
       "      <th>150293</th>\n",
       "      <td>0.0</td>\n",
       "      <td>0.0</td>\n",
       "      <td>0.0</td>\n",
       "      <td>0.0</td>\n",
       "      <td>0.0</td>\n",
       "      <td>0.0</td>\n",
       "      <td>0.0</td>\n",
       "      <td>0.0</td>\n",
       "      <td>0.0</td>\n",
       "      <td>0.005</td>\n",
       "      <td>0.0</td>\n",
       "      <td>0.0</td>\n",
       "      <td>0.0</td>\n",
       "      <td>0.0</td>\n",
       "      <td>0.006</td>\n",
       "      <td>0.0</td>\n",
       "      <td>0.104</td>\n",
       "      <td>0.010</td>\n",
       "      <td>0.004</td>\n",
       "      <td>0.0</td>\n",
       "      <td>0.0</td>\n",
       "      <td>0.0</td>\n",
       "      <td>0.0</td>\n",
       "      <td>0.0</td>\n",
       "      <td>0.0</td>\n",
       "      <td>0.0</td>\n",
       "      <td>0</td>\n",
       "      <td>0.0</td>\n",
       "      <td>0.0</td>\n",
       "      <td>0.0</td>\n",
       "      <td>0.0</td>\n",
       "      <td>0.0</td>\n",
       "      <td>0.0</td>\n",
       "      <td>0</td>\n",
       "      <td>0.0</td>\n",
       "      <td>0.0</td>\n",
       "      <td>0.932486</td>\n",
       "      <td>1</td>\n",
       "    </tr>\n",
       "    <tr>\n",
       "      <th>378768</th>\n",
       "      <td>0.0</td>\n",
       "      <td>0.0</td>\n",
       "      <td>0.0</td>\n",
       "      <td>0.0</td>\n",
       "      <td>0.0</td>\n",
       "      <td>0.0</td>\n",
       "      <td>0.0</td>\n",
       "      <td>0.0</td>\n",
       "      <td>0.0</td>\n",
       "      <td>0.005</td>\n",
       "      <td>0.0</td>\n",
       "      <td>0.0</td>\n",
       "      <td>0.0</td>\n",
       "      <td>0.0</td>\n",
       "      <td>0.006</td>\n",
       "      <td>0.0</td>\n",
       "      <td>0.104</td>\n",
       "      <td>0.010</td>\n",
       "      <td>0.004</td>\n",
       "      <td>0.0</td>\n",
       "      <td>0.0</td>\n",
       "      <td>0.0</td>\n",
       "      <td>0.0</td>\n",
       "      <td>0.0</td>\n",
       "      <td>0.0</td>\n",
       "      <td>0.0</td>\n",
       "      <td>0</td>\n",
       "      <td>0.0</td>\n",
       "      <td>0.0</td>\n",
       "      <td>0.1</td>\n",
       "      <td>0.0</td>\n",
       "      <td>0.0</td>\n",
       "      <td>0.0</td>\n",
       "      <td>0</td>\n",
       "      <td>0.0</td>\n",
       "      <td>0.0</td>\n",
       "      <td>0.016503</td>\n",
       "      <td>0</td>\n",
       "    </tr>\n",
       "    <tr>\n",
       "      <th>213120</th>\n",
       "      <td>0.0</td>\n",
       "      <td>0.0</td>\n",
       "      <td>0.0</td>\n",
       "      <td>0.0</td>\n",
       "      <td>0.0</td>\n",
       "      <td>0.0</td>\n",
       "      <td>0.0</td>\n",
       "      <td>0.0</td>\n",
       "      <td>0.0</td>\n",
       "      <td>0.005</td>\n",
       "      <td>0.0</td>\n",
       "      <td>0.0</td>\n",
       "      <td>0.0</td>\n",
       "      <td>0.0</td>\n",
       "      <td>0.001</td>\n",
       "      <td>0.0</td>\n",
       "      <td>0.104</td>\n",
       "      <td>0.001</td>\n",
       "      <td>0.000</td>\n",
       "      <td>0.0</td>\n",
       "      <td>0.0</td>\n",
       "      <td>0.0</td>\n",
       "      <td>0.0</td>\n",
       "      <td>0.0</td>\n",
       "      <td>0.0</td>\n",
       "      <td>0.0</td>\n",
       "      <td>0</td>\n",
       "      <td>0.0</td>\n",
       "      <td>0.0</td>\n",
       "      <td>0.0</td>\n",
       "      <td>0.0</td>\n",
       "      <td>0.0</td>\n",
       "      <td>0.0</td>\n",
       "      <td>0</td>\n",
       "      <td>0.0</td>\n",
       "      <td>0.0</td>\n",
       "      <td>0.949026</td>\n",
       "      <td>1</td>\n",
       "    </tr>\n",
       "    <tr>\n",
       "      <th>653757</th>\n",
       "      <td>0.0</td>\n",
       "      <td>0.0</td>\n",
       "      <td>0.0</td>\n",
       "      <td>0.0</td>\n",
       "      <td>0.0</td>\n",
       "      <td>0.0</td>\n",
       "      <td>0.0</td>\n",
       "      <td>0.0</td>\n",
       "      <td>0.0</td>\n",
       "      <td>0.005</td>\n",
       "      <td>0.0</td>\n",
       "      <td>0.0</td>\n",
       "      <td>0.0</td>\n",
       "      <td>0.0</td>\n",
       "      <td>0.006</td>\n",
       "      <td>0.0</td>\n",
       "      <td>0.104</td>\n",
       "      <td>0.010</td>\n",
       "      <td>0.004</td>\n",
       "      <td>0.0</td>\n",
       "      <td>0.0</td>\n",
       "      <td>0.0</td>\n",
       "      <td>0.0</td>\n",
       "      <td>0.0</td>\n",
       "      <td>0.0</td>\n",
       "      <td>0.0</td>\n",
       "      <td>0</td>\n",
       "      <td>0.0</td>\n",
       "      <td>0.0</td>\n",
       "      <td>0.1</td>\n",
       "      <td>0.0</td>\n",
       "      <td>0.0</td>\n",
       "      <td>0.0</td>\n",
       "      <td>0</td>\n",
       "      <td>0.0</td>\n",
       "      <td>0.0</td>\n",
       "      <td>0.016503</td>\n",
       "      <td>0</td>\n",
       "    </tr>\n",
       "  </tbody>\n",
       "</table>\n",
       "</div>"
      ],
      "text/plain": [
       "        duration  service  flag  src_bytes  dst_bytes  num_failed_logins  \\\n",
       "37113        0.0      0.0   0.0        0.0        0.0                0.0   \n",
       "150293       0.0      0.0   0.0        0.0        0.0                0.0   \n",
       "378768       0.0      0.0   0.0        0.0        0.0                0.0   \n",
       "213120       0.0      0.0   0.0        0.0        0.0                0.0   \n",
       "653757       0.0      0.0   0.0        0.0        0.0                0.0   \n",
       "\n",
       "        num_root  num_file_creations  num_access_files  count  serror_rate  \\\n",
       "37113        0.0                 0.0               0.0  0.005          0.0   \n",
       "150293       0.0                 0.0               0.0  0.005          0.0   \n",
       "378768       0.0                 0.0               0.0  0.005          0.0   \n",
       "213120       0.0                 0.0               0.0  0.005          0.0   \n",
       "653757       0.0                 0.0               0.0  0.005          0.0   \n",
       "\n",
       "        srv_error_rate  rerror_rate  srv_rerror_rate  same_srv_rate  \\\n",
       "37113              0.0          0.0              0.0          0.004   \n",
       "150293             0.0          0.0              0.0          0.006   \n",
       "378768             0.0          0.0              0.0          0.006   \n",
       "213120             0.0          0.0              0.0          0.001   \n",
       "653757             0.0          0.0              0.0          0.006   \n",
       "\n",
       "        srv_diff_host_rate  dst_host_count  dst_host_srv_count  \\\n",
       "37113                  0.0           0.104               0.010   \n",
       "150293                 0.0           0.104               0.010   \n",
       "378768                 0.0           0.104               0.010   \n",
       "213120                 0.0           0.104               0.001   \n",
       "653757                 0.0           0.104               0.010   \n",
       "\n",
       "        dst_host_same_srv_rate  dst_host_diff_srv_rate  \\\n",
       "37113                    0.004                     0.0   \n",
       "150293                   0.004                     0.0   \n",
       "378768                   0.004                     0.0   \n",
       "213120                   0.000                     0.0   \n",
       "653757                   0.004                     0.0   \n",
       "\n",
       "        dst_host_same_src_port_rate  dst_host_serror_rate  \\\n",
       "37113                           0.0                   0.0   \n",
       "150293                          0.0                   0.0   \n",
       "378768                          0.0                   0.0   \n",
       "213120                          0.0                   0.0   \n",
       "653757                          0.0                   0.0   \n",
       "\n",
       "        dst_host_srv_serror_rate  dst_host_rerror_rate  \\\n",
       "37113                        0.0                   0.0   \n",
       "150293                       0.0                   0.0   \n",
       "378768                       0.0                   0.0   \n",
       "213120                       0.0                   0.0   \n",
       "653757                       0.0                   0.0   \n",
       "\n",
       "        dst_host_srv_rerror_rate  protocol_type  land  wrong_fragment  urgent  \\\n",
       "37113                        0.0            0.0     0             0.0     0.0   \n",
       "150293                       0.0            0.0     0             0.0     0.0   \n",
       "378768                       0.0            0.0     0             0.0     0.0   \n",
       "213120                       0.0            0.0     0             0.0     0.0   \n",
       "653757                       0.0            0.0     0             0.0     0.0   \n",
       "\n",
       "        logged_in  root_shell  su_attempted  num_shells  num_outbound_cmds  \\\n",
       "37113         0.0         0.0           0.0         0.0                  0   \n",
       "150293        0.0         0.0           0.0         0.0                  0   \n",
       "378768        0.1         0.0           0.0         0.0                  0   \n",
       "213120        0.0         0.0           0.0         0.0                  0   \n",
       "653757        0.1         0.0           0.0         0.0                  0   \n",
       "\n",
       "        is_host_login  is_guest_login  pred_prob  B_Target  \n",
       "37113             0.0             0.0   0.934210         1  \n",
       "150293            0.0             0.0   0.932486         1  \n",
       "378768            0.0             0.0   0.016503         0  \n",
       "213120            0.0             0.0   0.949026         1  \n",
       "653757            0.0             0.0   0.016503         0  "
      ]
     },
     "execution_count": 107,
     "metadata": {},
     "output_type": "execute_result"
    }
   ],
   "source": [
    "train.head()"
   ]
  },
  {
   "cell_type": "code",
   "execution_count": 108,
   "id": "3yVpssQraVEl",
   "metadata": {
    "executionInfo": {
     "elapsed": 607,
     "status": "ok",
     "timestamp": 1629127642594,
     "user": {
      "displayName": "akshay narake",
      "photoUrl": "https://lh3.googleusercontent.com/a-/AOh14GgGQ2ijZliaBz2TDDcO_VcMyvg0gC4fDSXa1giCfw=s64",
      "userId": "07482213745940841366"
     },
     "user_tz": -330
    },
    "id": "3yVpssQraVEl"
   },
   "outputs": [],
   "source": [
    "test = pd.concat([X_test, y_test], axis=1)"
   ]
  },
  {
   "cell_type": "code",
   "execution_count": 109,
   "id": "-cYpkuBEaVJi",
   "metadata": {
    "colab": {
     "base_uri": "https://localhost:8080/",
     "height": 223
    },
    "executionInfo": {
     "elapsed": 936,
     "status": "ok",
     "timestamp": 1629127696533,
     "user": {
      "displayName": "akshay narake",
      "photoUrl": "https://lh3.googleusercontent.com/a-/AOh14GgGQ2ijZliaBz2TDDcO_VcMyvg0gC4fDSXa1giCfw=s64",
      "userId": "07482213745940841366"
     },
     "user_tz": -330
    },
    "id": "-cYpkuBEaVJi",
    "outputId": "4e9cd232-b2ff-495f-f088-1a1e2e48341d"
   },
   "outputs": [
    {
     "data": {
      "text/html": [
       "<div>\n",
       "<style scoped>\n",
       "    .dataframe tbody tr th:only-of-type {\n",
       "        vertical-align: middle;\n",
       "    }\n",
       "\n",
       "    .dataframe tbody tr th {\n",
       "        vertical-align: top;\n",
       "    }\n",
       "\n",
       "    .dataframe thead th {\n",
       "        text-align: right;\n",
       "    }\n",
       "</style>\n",
       "<table border=\"1\" class=\"dataframe\">\n",
       "  <thead>\n",
       "    <tr style=\"text-align: right;\">\n",
       "      <th></th>\n",
       "      <th>duration</th>\n",
       "      <th>service</th>\n",
       "      <th>flag</th>\n",
       "      <th>src_bytes</th>\n",
       "      <th>dst_bytes</th>\n",
       "      <th>num_failed_logins</th>\n",
       "      <th>num_root</th>\n",
       "      <th>num_file_creations</th>\n",
       "      <th>num_access_files</th>\n",
       "      <th>count</th>\n",
       "      <th>serror_rate</th>\n",
       "      <th>srv_error_rate</th>\n",
       "      <th>rerror_rate</th>\n",
       "      <th>srv_rerror_rate</th>\n",
       "      <th>same_srv_rate</th>\n",
       "      <th>srv_diff_host_rate</th>\n",
       "      <th>dst_host_count</th>\n",
       "      <th>dst_host_srv_count</th>\n",
       "      <th>dst_host_same_srv_rate</th>\n",
       "      <th>dst_host_diff_srv_rate</th>\n",
       "      <th>dst_host_same_src_port_rate</th>\n",
       "      <th>dst_host_serror_rate</th>\n",
       "      <th>dst_host_srv_serror_rate</th>\n",
       "      <th>dst_host_rerror_rate</th>\n",
       "      <th>dst_host_srv_rerror_rate</th>\n",
       "      <th>protocol_type</th>\n",
       "      <th>land</th>\n",
       "      <th>wrong_fragment</th>\n",
       "      <th>urgent</th>\n",
       "      <th>logged_in</th>\n",
       "      <th>root_shell</th>\n",
       "      <th>su_attempted</th>\n",
       "      <th>num_shells</th>\n",
       "      <th>num_outbound_cmds</th>\n",
       "      <th>is_host_login</th>\n",
       "      <th>is_guest_login</th>\n",
       "      <th>pred_prob</th>\n",
       "      <th>B_Target</th>\n",
       "    </tr>\n",
       "  </thead>\n",
       "  <tbody>\n",
       "    <tr>\n",
       "      <th>544776</th>\n",
       "      <td>0.0</td>\n",
       "      <td>0.0</td>\n",
       "      <td>0.0</td>\n",
       "      <td>0.0</td>\n",
       "      <td>0.0</td>\n",
       "      <td>0.0</td>\n",
       "      <td>0.0</td>\n",
       "      <td>0.0</td>\n",
       "      <td>0.0</td>\n",
       "      <td>0.001</td>\n",
       "      <td>0.0</td>\n",
       "      <td>0.0</td>\n",
       "      <td>0.0</td>\n",
       "      <td>0.0</td>\n",
       "      <td>0.006</td>\n",
       "      <td>0.0</td>\n",
       "      <td>0.056</td>\n",
       "      <td>0.01</td>\n",
       "      <td>0.004</td>\n",
       "      <td>0.0</td>\n",
       "      <td>0.0</td>\n",
       "      <td>0.0</td>\n",
       "      <td>0.0</td>\n",
       "      <td>0.0</td>\n",
       "      <td>0.0</td>\n",
       "      <td>0.0</td>\n",
       "      <td>0</td>\n",
       "      <td>0.0</td>\n",
       "      <td>0.0</td>\n",
       "      <td>0.1</td>\n",
       "      <td>0.0</td>\n",
       "      <td>0.0</td>\n",
       "      <td>0.0</td>\n",
       "      <td>0</td>\n",
       "      <td>0.0</td>\n",
       "      <td>0.0</td>\n",
       "      <td>0.002262</td>\n",
       "      <td>0</td>\n",
       "    </tr>\n",
       "    <tr>\n",
       "      <th>2231</th>\n",
       "      <td>0.0</td>\n",
       "      <td>0.0</td>\n",
       "      <td>0.0</td>\n",
       "      <td>0.0</td>\n",
       "      <td>0.0</td>\n",
       "      <td>0.0</td>\n",
       "      <td>0.0</td>\n",
       "      <td>0.0</td>\n",
       "      <td>0.0</td>\n",
       "      <td>0.005</td>\n",
       "      <td>0.0</td>\n",
       "      <td>0.0</td>\n",
       "      <td>0.0</td>\n",
       "      <td>0.0</td>\n",
       "      <td>0.006</td>\n",
       "      <td>0.0</td>\n",
       "      <td>0.104</td>\n",
       "      <td>0.01</td>\n",
       "      <td>0.004</td>\n",
       "      <td>0.0</td>\n",
       "      <td>0.0</td>\n",
       "      <td>0.0</td>\n",
       "      <td>0.0</td>\n",
       "      <td>0.0</td>\n",
       "      <td>0.0</td>\n",
       "      <td>0.0</td>\n",
       "      <td>0</td>\n",
       "      <td>0.0</td>\n",
       "      <td>0.0</td>\n",
       "      <td>0.0</td>\n",
       "      <td>0.0</td>\n",
       "      <td>0.0</td>\n",
       "      <td>0.0</td>\n",
       "      <td>0</td>\n",
       "      <td>0.0</td>\n",
       "      <td>0.0</td>\n",
       "      <td>0.932486</td>\n",
       "      <td>1</td>\n",
       "    </tr>\n",
       "    <tr>\n",
       "      <th>781981</th>\n",
       "      <td>0.0</td>\n",
       "      <td>0.0</td>\n",
       "      <td>0.0</td>\n",
       "      <td>0.0</td>\n",
       "      <td>0.0</td>\n",
       "      <td>0.0</td>\n",
       "      <td>0.0</td>\n",
       "      <td>0.0</td>\n",
       "      <td>0.0</td>\n",
       "      <td>0.005</td>\n",
       "      <td>0.0</td>\n",
       "      <td>0.0</td>\n",
       "      <td>0.0</td>\n",
       "      <td>0.0</td>\n",
       "      <td>0.006</td>\n",
       "      <td>0.0</td>\n",
       "      <td>0.059</td>\n",
       "      <td>0.01</td>\n",
       "      <td>0.004</td>\n",
       "      <td>0.0</td>\n",
       "      <td>0.0</td>\n",
       "      <td>0.0</td>\n",
       "      <td>0.0</td>\n",
       "      <td>0.0</td>\n",
       "      <td>0.0</td>\n",
       "      <td>0.0</td>\n",
       "      <td>0</td>\n",
       "      <td>0.0</td>\n",
       "      <td>0.0</td>\n",
       "      <td>0.1</td>\n",
       "      <td>0.0</td>\n",
       "      <td>0.0</td>\n",
       "      <td>0.0</td>\n",
       "      <td>0</td>\n",
       "      <td>0.0</td>\n",
       "      <td>0.0</td>\n",
       "      <td>0.002733</td>\n",
       "      <td>0</td>\n",
       "    </tr>\n",
       "    <tr>\n",
       "      <th>462438</th>\n",
       "      <td>0.0</td>\n",
       "      <td>0.0</td>\n",
       "      <td>0.0</td>\n",
       "      <td>0.0</td>\n",
       "      <td>0.0</td>\n",
       "      <td>0.0</td>\n",
       "      <td>0.0</td>\n",
       "      <td>0.0</td>\n",
       "      <td>0.0</td>\n",
       "      <td>0.004</td>\n",
       "      <td>0.0</td>\n",
       "      <td>0.0</td>\n",
       "      <td>0.0</td>\n",
       "      <td>0.0</td>\n",
       "      <td>0.006</td>\n",
       "      <td>0.0</td>\n",
       "      <td>0.013</td>\n",
       "      <td>0.01</td>\n",
       "      <td>0.004</td>\n",
       "      <td>0.0</td>\n",
       "      <td>0.0</td>\n",
       "      <td>0.0</td>\n",
       "      <td>0.0</td>\n",
       "      <td>0.0</td>\n",
       "      <td>0.0</td>\n",
       "      <td>0.0</td>\n",
       "      <td>0</td>\n",
       "      <td>0.0</td>\n",
       "      <td>0.0</td>\n",
       "      <td>0.1</td>\n",
       "      <td>0.0</td>\n",
       "      <td>0.0</td>\n",
       "      <td>0.0</td>\n",
       "      <td>0</td>\n",
       "      <td>0.0</td>\n",
       "      <td>0.0</td>\n",
       "      <td>0.000422</td>\n",
       "      <td>0</td>\n",
       "    </tr>\n",
       "    <tr>\n",
       "      <th>736113</th>\n",
       "      <td>0.0</td>\n",
       "      <td>0.0</td>\n",
       "      <td>0.0</td>\n",
       "      <td>0.0</td>\n",
       "      <td>0.0</td>\n",
       "      <td>0.0</td>\n",
       "      <td>0.0</td>\n",
       "      <td>0.0</td>\n",
       "      <td>0.0</td>\n",
       "      <td>0.002</td>\n",
       "      <td>0.0</td>\n",
       "      <td>0.0</td>\n",
       "      <td>0.0</td>\n",
       "      <td>0.0</td>\n",
       "      <td>0.006</td>\n",
       "      <td>0.0</td>\n",
       "      <td>0.002</td>\n",
       "      <td>0.01</td>\n",
       "      <td>0.004</td>\n",
       "      <td>0.0</td>\n",
       "      <td>0.0</td>\n",
       "      <td>0.0</td>\n",
       "      <td>0.0</td>\n",
       "      <td>0.0</td>\n",
       "      <td>0.0</td>\n",
       "      <td>0.0</td>\n",
       "      <td>0</td>\n",
       "      <td>0.0</td>\n",
       "      <td>0.0</td>\n",
       "      <td>0.1</td>\n",
       "      <td>0.0</td>\n",
       "      <td>0.0</td>\n",
       "      <td>0.0</td>\n",
       "      <td>0</td>\n",
       "      <td>0.0</td>\n",
       "      <td>0.0</td>\n",
       "      <td>0.000262</td>\n",
       "      <td>0</td>\n",
       "    </tr>\n",
       "  </tbody>\n",
       "</table>\n",
       "</div>"
      ],
      "text/plain": [
       "        duration  service  flag  src_bytes  dst_bytes  num_failed_logins  \\\n",
       "544776       0.0      0.0   0.0        0.0        0.0                0.0   \n",
       "2231         0.0      0.0   0.0        0.0        0.0                0.0   \n",
       "781981       0.0      0.0   0.0        0.0        0.0                0.0   \n",
       "462438       0.0      0.0   0.0        0.0        0.0                0.0   \n",
       "736113       0.0      0.0   0.0        0.0        0.0                0.0   \n",
       "\n",
       "        num_root  num_file_creations  num_access_files  count  serror_rate  \\\n",
       "544776       0.0                 0.0               0.0  0.001          0.0   \n",
       "2231         0.0                 0.0               0.0  0.005          0.0   \n",
       "781981       0.0                 0.0               0.0  0.005          0.0   \n",
       "462438       0.0                 0.0               0.0  0.004          0.0   \n",
       "736113       0.0                 0.0               0.0  0.002          0.0   \n",
       "\n",
       "        srv_error_rate  rerror_rate  srv_rerror_rate  same_srv_rate  \\\n",
       "544776             0.0          0.0              0.0          0.006   \n",
       "2231               0.0          0.0              0.0          0.006   \n",
       "781981             0.0          0.0              0.0          0.006   \n",
       "462438             0.0          0.0              0.0          0.006   \n",
       "736113             0.0          0.0              0.0          0.006   \n",
       "\n",
       "        srv_diff_host_rate  dst_host_count  dst_host_srv_count  \\\n",
       "544776                 0.0           0.056                0.01   \n",
       "2231                   0.0           0.104                0.01   \n",
       "781981                 0.0           0.059                0.01   \n",
       "462438                 0.0           0.013                0.01   \n",
       "736113                 0.0           0.002                0.01   \n",
       "\n",
       "        dst_host_same_srv_rate  dst_host_diff_srv_rate  \\\n",
       "544776                   0.004                     0.0   \n",
       "2231                     0.004                     0.0   \n",
       "781981                   0.004                     0.0   \n",
       "462438                   0.004                     0.0   \n",
       "736113                   0.004                     0.0   \n",
       "\n",
       "        dst_host_same_src_port_rate  dst_host_serror_rate  \\\n",
       "544776                          0.0                   0.0   \n",
       "2231                            0.0                   0.0   \n",
       "781981                          0.0                   0.0   \n",
       "462438                          0.0                   0.0   \n",
       "736113                          0.0                   0.0   \n",
       "\n",
       "        dst_host_srv_serror_rate  dst_host_rerror_rate  \\\n",
       "544776                       0.0                   0.0   \n",
       "2231                         0.0                   0.0   \n",
       "781981                       0.0                   0.0   \n",
       "462438                       0.0                   0.0   \n",
       "736113                       0.0                   0.0   \n",
       "\n",
       "        dst_host_srv_rerror_rate  protocol_type  land  wrong_fragment  urgent  \\\n",
       "544776                       0.0            0.0     0             0.0     0.0   \n",
       "2231                         0.0            0.0     0             0.0     0.0   \n",
       "781981                       0.0            0.0     0             0.0     0.0   \n",
       "462438                       0.0            0.0     0             0.0     0.0   \n",
       "736113                       0.0            0.0     0             0.0     0.0   \n",
       "\n",
       "        logged_in  root_shell  su_attempted  num_shells  num_outbound_cmds  \\\n",
       "544776        0.1         0.0           0.0         0.0                  0   \n",
       "2231          0.0         0.0           0.0         0.0                  0   \n",
       "781981        0.1         0.0           0.0         0.0                  0   \n",
       "462438        0.1         0.0           0.0         0.0                  0   \n",
       "736113        0.1         0.0           0.0         0.0                  0   \n",
       "\n",
       "        is_host_login  is_guest_login  pred_prob  B_Target  \n",
       "544776            0.0             0.0   0.002262         0  \n",
       "2231              0.0             0.0   0.932486         1  \n",
       "781981            0.0             0.0   0.002733         0  \n",
       "462438            0.0             0.0   0.000422         0  \n",
       "736113            0.0             0.0   0.000262         0  "
      ]
     },
     "execution_count": 109,
     "metadata": {},
     "output_type": "execute_result"
    }
   ],
   "source": [
    "test.head()"
   ]
  },
  {
   "cell_type": "code",
   "execution_count": 110,
   "id": "sloc3o5AaVU4",
   "metadata": {
    "executionInfo": {
     "elapsed": 5564,
     "status": "ok",
     "timestamp": 1629127793074,
     "user": {
      "displayName": "akshay narake",
      "photoUrl": "https://lh3.googleusercontent.com/a-/AOh14GgGQ2ijZliaBz2TDDcO_VcMyvg0gC4fDSXa1giCfw=s64",
      "userId": "07482213745940841366"
     },
     "user_tz": -330
    },
    "id": "sloc3o5AaVU4"
   },
   "outputs": [],
   "source": [
    "train['pred'] = np.where(train.pred_prob > 0.632653, 1,0)\n",
    "test['pred'] = np.where(test.pred_prob > 0.632653, 1,0)"
   ]
  },
  {
   "cell_type": "code",
   "execution_count": 111,
   "id": "TZlUJAjDllbo",
   "metadata": {
    "executionInfo": {
     "elapsed": 4159,
     "status": "ok",
     "timestamp": 1629127877095,
     "user": {
      "displayName": "akshay narake",
      "photoUrl": "https://lh3.googleusercontent.com/a-/AOh14GgGQ2ijZliaBz2TDDcO_VcMyvg0gC4fDSXa1giCfw=s64",
      "userId": "07482213745940841366"
     },
     "user_tz": -330
    },
    "id": "TZlUJAjDllbo"
   },
   "outputs": [],
   "source": [
    "from sklearn.metrics import confusion_matrix"
   ]
  },
  {
   "cell_type": "code",
   "execution_count": 112,
   "id": "dgM22a2aljhP",
   "metadata": {
    "colab": {
     "base_uri": "https://localhost:8080/"
    },
    "executionInfo": {
     "elapsed": 1242,
     "status": "ok",
     "timestamp": 1629128032838,
     "user": {
      "displayName": "akshay narake",
      "photoUrl": "https://lh3.googleusercontent.com/a-/AOh14GgGQ2ijZliaBz2TDDcO_VcMyvg0gC4fDSXa1giCfw=s64",
      "userId": "07482213745940841366"
     },
     "user_tz": -330
    },
    "id": "dgM22a2aljhP",
    "outputId": "66917f52-3786-4152-b9f8-f2376057350e"
   },
   "outputs": [
    {
     "name": "stdout",
     "output_type": "stream",
     "text": [
      "[[157452  11001]\n",
      " [  1848 166875]]\n"
     ]
    }
   ],
   "source": [
    "confusion_matrix = confusion_matrix(train.B_Target, train.pred)\n",
    "print(confusion_matrix)"
   ]
  },
  {
   "cell_type": "code",
   "execution_count": 113,
   "id": "SsBC6kneljd5",
   "metadata": {
    "colab": {
     "base_uri": "https://localhost:8080/"
    },
    "executionInfo": {
     "elapsed": 1288,
     "status": "ok",
     "timestamp": 1629128066791,
     "user": {
      "displayName": "akshay narake",
      "photoUrl": "https://lh3.googleusercontent.com/a-/AOh14GgGQ2ijZliaBz2TDDcO_VcMyvg0gC4fDSXa1giCfw=s64",
      "userId": "07482213745940841366"
     },
     "user_tz": -330
    },
    "id": "SsBC6kneljd5",
    "outputId": "b989cd44-b163-4efb-892d-4c35051aa56f"
   },
   "outputs": [
    {
     "name": "stdout",
     "output_type": "stream",
     "text": [
      "              precision    recall  f1-score   support\n",
      "\n",
      "           0       0.99      0.93      0.96    168453\n",
      "           1       0.94      0.99      0.96    168723\n",
      "\n",
      "    accuracy                           0.96    337176\n",
      "   macro avg       0.96      0.96      0.96    337176\n",
      "weighted avg       0.96      0.96      0.96    337176\n",
      "\n"
     ]
    }
   ],
   "source": [
    "print(metrics.classification_report(train.B_Target, train.pred))"
   ]
  },
  {
   "cell_type": "code",
   "execution_count": 114,
   "id": "wcT_Lo7alja0",
   "metadata": {
    "colab": {
     "base_uri": "https://localhost:8080/"
    },
    "executionInfo": {
     "elapsed": 889,
     "status": "ok",
     "timestamp": 1629128096634,
     "user": {
      "displayName": "akshay narake",
      "photoUrl": "https://lh3.googleusercontent.com/a-/AOh14GgGQ2ijZliaBz2TDDcO_VcMyvg0gC4fDSXa1giCfw=s64",
      "userId": "07482213745940841366"
     },
     "user_tz": -330
    },
    "id": "wcT_Lo7alja0",
    "outputId": "7081f053-bf1d-41f6-8474-f84bfbfc8219"
   },
   "outputs": [
    {
     "name": "stdout",
     "output_type": "stream",
     "text": [
      "              precision    recall  f1-score   support\n",
      "\n",
      "           0       0.99      0.93      0.96     72387\n",
      "           1       0.94      0.99      0.96     72117\n",
      "\n",
      "    accuracy                           0.96    144504\n",
      "   macro avg       0.96      0.96      0.96    144504\n",
      "weighted avg       0.96      0.96      0.96    144504\n",
      "\n"
     ]
    }
   ],
   "source": [
    "print(metrics.classification_report(test.B_Target, test.pred))"
   ]
  },
  {
   "cell_type": "markdown",
   "id": "31477643",
   "metadata": {},
   "source": [
    "## Machine Learning ALGO"
   ]
  },
  {
   "cell_type": "markdown",
   "id": "e467bba4",
   "metadata": {},
   "source": [
    "### Decision Tree"
   ]
  },
  {
   "cell_type": "markdown",
   "id": "3505f5ec",
   "metadata": {},
   "source": [
    "#### Fine Tuning the parameters"
   ]
  },
  {
   "cell_type": "code",
   "execution_count": 117,
   "id": "3c69f699",
   "metadata": {},
   "outputs": [],
   "source": [
    "from sklearn.tree import DecisionTreeClassifier"
   ]
  },
  {
   "cell_type": "code",
   "execution_count": 118,
   "id": "51c3c273",
   "metadata": {},
   "outputs": [],
   "source": [
    "param_grid = {'max_depth': np.arange(3, 5),\n",
    "             'max_features': np.arange(3,5)}"
   ]
  },
  {
   "cell_type": "code",
   "execution_count": 119,
   "id": "2b19e753",
   "metadata": {},
   "outputs": [
    {
     "data": {
      "text/plain": [
       "GridSearchCV(cv=5, estimator=DecisionTreeClassifier(),\n",
       "             param_grid={'max_depth': array([3, 4]),\n",
       "                         'max_features': array([3, 4])})"
      ]
     },
     "execution_count": 119,
     "metadata": {},
     "output_type": "execute_result"
    }
   ],
   "source": [
    "tree = GridSearchCV(DecisionTreeClassifier(), param_grid, cv = 5)\n",
    "tree.fit(X_train, y_train)"
   ]
  },
  {
   "cell_type": "code",
   "execution_count": 120,
   "id": "b9222d5f",
   "metadata": {},
   "outputs": [
    {
     "data": {
      "text/plain": [
       "0.8757382162627442"
      ]
     },
     "execution_count": 120,
     "metadata": {},
     "output_type": "execute_result"
    }
   ],
   "source": [
    "tree.best_score_"
   ]
  },
  {
   "cell_type": "code",
   "execution_count": 121,
   "id": "1d4bb360",
   "metadata": {},
   "outputs": [
    {
     "data": {
      "text/plain": [
       "DecisionTreeClassifier(max_depth=4, max_features=4)"
      ]
     },
     "execution_count": 121,
     "metadata": {},
     "output_type": "execute_result"
    }
   ],
   "source": [
    "tree.best_estimator_"
   ]
  },
  {
   "cell_type": "code",
   "execution_count": 122,
   "id": "4a0d2d7d",
   "metadata": {},
   "outputs": [
    {
     "data": {
      "text/plain": [
       "{'max_depth': 4, 'max_features': 4}"
      ]
     },
     "execution_count": 122,
     "metadata": {},
     "output_type": "execute_result"
    }
   ],
   "source": [
    "tree.best_params_"
   ]
  },
  {
   "cell_type": "code",
   "execution_count": 123,
   "id": "c3f1a66b",
   "metadata": {},
   "outputs": [],
   "source": [
    "train_pred = tree.predict(X_train)"
   ]
  },
  {
   "cell_type": "code",
   "execution_count": 124,
   "id": "d2b525cd",
   "metadata": {},
   "outputs": [
    {
     "name": "stdout",
     "output_type": "stream",
     "text": [
      "              precision    recall  f1-score   support\n",
      "\n",
      "           0       0.97      1.00      0.98    168453\n",
      "           1       1.00      0.97      0.98    168723\n",
      "\n",
      "    accuracy                           0.98    337176\n",
      "   macro avg       0.98      0.98      0.98    337176\n",
      "weighted avg       0.98      0.98      0.98    337176\n",
      "\n"
     ]
    }
   ],
   "source": [
    "print(metrics.classification_report(y_train, train_pred))"
   ]
  },
  {
   "cell_type": "code",
   "execution_count": 125,
   "id": "a6246a20",
   "metadata": {},
   "outputs": [],
   "source": [
    "test_pred = tree.predict(X_test)"
   ]
  },
  {
   "cell_type": "code",
   "execution_count": 126,
   "id": "801dd3f2",
   "metadata": {},
   "outputs": [
    {
     "name": "stdout",
     "output_type": "stream",
     "text": [
      "              precision    recall  f1-score   support\n",
      "\n",
      "           0       0.97      1.00      0.98     72387\n",
      "           1       1.00      0.97      0.98     72117\n",
      "\n",
      "    accuracy                           0.98    144504\n",
      "   macro avg       0.98      0.98      0.98    144504\n",
      "weighted avg       0.98      0.98      0.98    144504\n",
      "\n"
     ]
    }
   ],
   "source": [
    "print(metrics.classification_report(y_test, test_pred))"
   ]
  },
  {
   "cell_type": "markdown",
   "id": "63e5666e",
   "metadata": {},
   "source": [
    "### Building Final Decision Tree Model"
   ]
  },
  {
   "cell_type": "code",
   "execution_count": 127,
   "id": "762ec951",
   "metadata": {},
   "outputs": [],
   "source": [
    "X_train = X_train[X_train.columns.difference(['pred_prob'])]"
   ]
  },
  {
   "cell_type": "code",
   "execution_count": 128,
   "id": "b96d8737",
   "metadata": {},
   "outputs": [
    {
     "data": {
      "text/plain": [
       "DecisionTreeClassifier(max_depth=4, max_features=4, max_leaf_nodes=5)"
      ]
     },
     "execution_count": 128,
     "metadata": {},
     "output_type": "execute_result"
    }
   ],
   "source": [
    "clf_tree = DecisionTreeClassifier(max_depth = 4, max_features=4, max_leaf_nodes=5 )\n",
    "clf_tree.fit( X_train, y_train )"
   ]
  },
  {
   "cell_type": "markdown",
   "id": "409824ca",
   "metadata": {},
   "source": [
    "### Relative Importance of Features"
   ]
  },
  {
   "cell_type": "code",
   "execution_count": 129,
   "id": "434613c7",
   "metadata": {},
   "outputs": [
    {
     "data": {
      "text/plain": [
       "array([4.75266736e-02, 0.00000000e+00, 0.00000000e+00, 0.00000000e+00,\n",
       "       0.00000000e+00, 0.00000000e+00, 0.00000000e+00, 0.00000000e+00,\n",
       "       0.00000000e+00, 0.00000000e+00, 0.00000000e+00, 0.00000000e+00,\n",
       "       0.00000000e+00, 0.00000000e+00, 0.00000000e+00, 0.00000000e+00,\n",
       "       9.44405163e-01, 0.00000000e+00, 0.00000000e+00, 0.00000000e+00,\n",
       "       0.00000000e+00, 0.00000000e+00, 0.00000000e+00, 8.02031707e-03,\n",
       "       0.00000000e+00, 0.00000000e+00, 0.00000000e+00, 0.00000000e+00,\n",
       "       0.00000000e+00, 0.00000000e+00, 0.00000000e+00, 0.00000000e+00,\n",
       "       0.00000000e+00, 4.78467569e-05, 0.00000000e+00, 0.00000000e+00])"
      ]
     },
     "execution_count": 129,
     "metadata": {},
     "output_type": "execute_result"
    }
   ],
   "source": [
    "clf_tree.feature_importances_"
   ]
  },
  {
   "cell_type": "code",
   "execution_count": 130,
   "id": "7ca696c2",
   "metadata": {},
   "outputs": [
    {
     "data": {
      "text/plain": [
       "[('count', 0.047526673589856266),\n",
       " ('dst_bytes', 0.0),\n",
       " ('dst_host_count', 0.0),\n",
       " ('dst_host_diff_srv_rate', 0.0),\n",
       " ('dst_host_rerror_rate', 0.0),\n",
       " ('dst_host_same_src_port_rate', 0.0),\n",
       " ('dst_host_same_srv_rate', 0.0),\n",
       " ('dst_host_serror_rate', 0.0),\n",
       " ('dst_host_srv_count', 0.0),\n",
       " ('dst_host_srv_rerror_rate', 0.0),\n",
       " ('dst_host_srv_serror_rate', 0.0),\n",
       " ('duration', 0.0),\n",
       " ('flag', 0.0),\n",
       " ('is_guest_login', 0.0),\n",
       " ('is_host_login', 0.0),\n",
       " ('land', 0.0),\n",
       " ('logged_in', 0.9444051625843033),\n",
       " ('num_access_files', 0.0),\n",
       " ('num_failed_logins', 0.0),\n",
       " ('num_file_creations', 0.0),\n",
       " ('num_outbound_cmds', 0.0),\n",
       " ('num_root', 0.0),\n",
       " ('num_shells', 0.0),\n",
       " ('protocol_type', 0.008020317068973914),\n",
       " ('rerror_rate', 0.0),\n",
       " ('root_shell', 0.0),\n",
       " ('same_srv_rate', 0.0),\n",
       " ('serror_rate', 0.0),\n",
       " ('service', 0.0),\n",
       " ('src_bytes', 0.0),\n",
       " ('srv_diff_host_rate', 0.0),\n",
       " ('srv_error_rate', 0.0),\n",
       " ('srv_rerror_rate', 0.0),\n",
       " ('su_attempted', 4.7846756866485855e-05),\n",
       " ('urgent', 0.0),\n",
       " ('wrong_fragment', 0.0)]"
      ]
     },
     "execution_count": 130,
     "metadata": {},
     "output_type": "execute_result"
    }
   ],
   "source": [
    "# summarize the selection of the attributes\n",
    "import itertools\n",
    "feature_map = [(i, v) for i, v in itertools.zip_longest(X_train.columns, clf_tree.feature_importances_)]\n",
    "\n",
    "feature_map"
   ]
  },
  {
   "cell_type": "code",
   "execution_count": 131,
   "id": "14e78465",
   "metadata": {},
   "outputs": [
    {
     "data": {
      "text/html": [
       "<div>\n",
       "<style scoped>\n",
       "    .dataframe tbody tr th:only-of-type {\n",
       "        vertical-align: middle;\n",
       "    }\n",
       "\n",
       "    .dataframe tbody tr th {\n",
       "        vertical-align: top;\n",
       "    }\n",
       "\n",
       "    .dataframe thead th {\n",
       "        text-align: right;\n",
       "    }\n",
       "</style>\n",
       "<table border=\"1\" class=\"dataframe\">\n",
       "  <thead>\n",
       "    <tr style=\"text-align: right;\">\n",
       "      <th></th>\n",
       "      <th>Feature</th>\n",
       "      <th>importance</th>\n",
       "    </tr>\n",
       "  </thead>\n",
       "  <tbody>\n",
       "    <tr>\n",
       "      <th>16</th>\n",
       "      <td>logged_in</td>\n",
       "      <td>0.944405</td>\n",
       "    </tr>\n",
       "    <tr>\n",
       "      <th>0</th>\n",
       "      <td>count</td>\n",
       "      <td>0.047527</td>\n",
       "    </tr>\n",
       "    <tr>\n",
       "      <th>23</th>\n",
       "      <td>protocol_type</td>\n",
       "      <td>0.008020</td>\n",
       "    </tr>\n",
       "    <tr>\n",
       "      <th>33</th>\n",
       "      <td>su_attempted</td>\n",
       "      <td>0.000048</td>\n",
       "    </tr>\n",
       "    <tr>\n",
       "      <th>26</th>\n",
       "      <td>same_srv_rate</td>\n",
       "      <td>0.000000</td>\n",
       "    </tr>\n",
       "    <tr>\n",
       "      <th>21</th>\n",
       "      <td>num_root</td>\n",
       "      <td>0.000000</td>\n",
       "    </tr>\n",
       "    <tr>\n",
       "      <th>22</th>\n",
       "      <td>num_shells</td>\n",
       "      <td>0.000000</td>\n",
       "    </tr>\n",
       "    <tr>\n",
       "      <th>24</th>\n",
       "      <td>rerror_rate</td>\n",
       "      <td>0.000000</td>\n",
       "    </tr>\n",
       "    <tr>\n",
       "      <th>25</th>\n",
       "      <td>root_shell</td>\n",
       "      <td>0.000000</td>\n",
       "    </tr>\n",
       "    <tr>\n",
       "      <th>27</th>\n",
       "      <td>serror_rate</td>\n",
       "      <td>0.000000</td>\n",
       "    </tr>\n",
       "  </tbody>\n",
       "</table>\n",
       "</div>"
      ],
      "text/plain": [
       "          Feature  importance\n",
       "16      logged_in    0.944405\n",
       "0           count    0.047527\n",
       "23  protocol_type    0.008020\n",
       "33   su_attempted    0.000048\n",
       "26  same_srv_rate    0.000000\n",
       "21       num_root    0.000000\n",
       "22     num_shells    0.000000\n",
       "24    rerror_rate    0.000000\n",
       "25     root_shell    0.000000\n",
       "27    serror_rate    0.000000"
      ]
     },
     "execution_count": 131,
     "metadata": {},
     "output_type": "execute_result"
    }
   ],
   "source": [
    "Feature_importance = pd.DataFrame(feature_map, columns=['Feature', 'importance'])\n",
    "Feature_importance.sort_values('importance', inplace=True, ascending=False)\n",
    "Feature_importance.head(10)"
   ]
  },
  {
   "cell_type": "markdown",
   "id": "bb8d5029",
   "metadata": {},
   "source": [
    "### To create a decision tree visualization graph."
   ]
  },
  {
   "cell_type": "code",
   "execution_count": 135,
   "id": "f8624ec2",
   "metadata": {},
   "outputs": [],
   "source": [
    "from sklearn.tree import export_graphviz"
   ]
  },
  {
   "cell_type": "code",
   "execution_count": 136,
   "id": "9b515744",
   "metadata": {},
   "outputs": [],
   "source": [
    "import os\n",
    "os.environ[\"PATH\"] += os.pathsep + 'C:\\Program Files\\Graphviz\\bin'"
   ]
  },
  {
   "cell_type": "code",
   "execution_count": 137,
   "id": "2d92a4d5",
   "metadata": {},
   "outputs": [],
   "source": [
    "# Exporting the tree output in the form open document\n",
    "export_graphviz(clf_tree,\n",
    "              out_file = \"Binary_Classif.odt\",\n",
    "              feature_names = X_train.columns )"
   ]
  },
  {
   "cell_type": "code",
   "execution_count": 138,
   "id": "832b80c0",
   "metadata": {},
   "outputs": [],
   "source": [
    "# Converting open document file to jpg image\n",
    "\n",
    "import pydotplus as pdot\n",
    "chd_tree_graph = pdot.graphviz.graph_from_dot_file( 'Binary_Classif.odt' )"
   ]
  },
  {
   "cell_type": "code",
   "execution_count": 139,
   "id": "35c0bddb",
   "metadata": {},
   "outputs": [
    {
     "data": {
      "text/plain": [
       "True"
      ]
     },
     "execution_count": 139,
     "metadata": {},
     "output_type": "execute_result"
    }
   ],
   "source": [
    "chd_tree_graph.write_jpg( 'Binary_Classif.jpg' )"
   ]
  },
  {
   "cell_type": "code",
   "execution_count": 140,
   "id": "69d89e7e",
   "metadata": {},
   "outputs": [
    {
     "data": {
      "image/jpeg": "[encoded data removed]",
      "text/plain": [
       "<IPython.core.display.Image object>"
      ]
     },
     "execution_count": 140,
     "metadata": {},
     "output_type": "execute_result"
    }
   ],
   "source": [
    "# Viewing the image in the notebook (display the image)\n",
    "\n",
    "from IPython.display import Image\n",
    "Image(filename='Binary_Classif.jpg')"
   ]
  },
  {
   "cell_type": "markdown",
   "id": "a0698eb1",
   "metadata": {},
   "source": [
    "### Random Forest"
   ]
  },
  {
   "cell_type": "code",
   "execution_count": 141,
   "id": "c0ed05f2",
   "metadata": {},
   "outputs": [
    {
     "data": {
      "text/plain": [
       "RandomForestClassifier(max_features=6, n_jobs=1, oob_score=True)"
      ]
     },
     "execution_count": 141,
     "metadata": {},
     "output_type": "execute_result"
    }
   ],
   "source": [
    "from sklearn.ensemble import RandomForestClassifier\n",
    "\n",
    "radm_clf = RandomForestClassifier(oob_score=True, n_estimators=100, max_features=6, n_jobs=1)\n",
    "radm_clf.fit( X_train, y_train )"
   ]
  },
  {
   "cell_type": "markdown",
   "id": "7f06b29d",
   "metadata": {},
   "source": [
    "#### Feature importance from the Random Forest Model"
   ]
  },
  {
   "cell_type": "code",
   "execution_count": 142,
   "id": "e61d7b5f",
   "metadata": {},
   "outputs": [],
   "source": [
    "radm_clf.feature_importances_\n",
    "\n",
    "indices = np.argsort(radm_clf.feature_importances_)[::-1]"
   ]
  },
  {
   "cell_type": "code",
   "execution_count": 143,
   "id": "90ccef19",
   "metadata": {},
   "outputs": [],
   "source": [
    "import seaborn as sn"
   ]
  },
  {
   "cell_type": "code",
   "execution_count": 144,
   "id": "630363f2",
   "metadata": {},
   "outputs": [
    {
     "data": {
      "text/plain": [
       "<AxesSubplot:xlabel='importance', ylabel='feature'>"
      ]
     },
     "execution_count": 144,
     "metadata": {},
     "output_type": "execute_result"
    },
    {
     "data": {
      "image/png": "[encoded data removed]",
      "text/plain": [
       "<Figure size 432x288 with 1 Axes>"
      ]
     },
     "metadata": {
      "needs_background": "light"
     },
     "output_type": "display_data"
    }
   ],
   "source": [
    "indices = np.argsort(radm_clf.feature_importances_)[::-1]\n",
    "feature_rank = pd.DataFrame(columns = ['rank', 'feature', 'importance'] )\n",
    "for f in range(X_train.shape[1]):\n",
    "  feature_rank.loc[f] = [f+1,\n",
    "                         X_train.columns[indices[f]],\n",
    "                         radm_clf.feature_importances_[indices[f]]]\n",
    "sn.barplot(y = 'feature', x = 'importance', data = feature_rank )"
   ]
  },
  {
   "cell_type": "markdown",
   "id": "ca1e827e",
   "metadata": {},
   "source": [
    "##### Tuning parameters"
   ]
  },
  {
   "cell_type": "code",
   "execution_count": 145,
   "id": "cf71b7bd",
   "metadata": {},
   "outputs": [],
   "source": [
    "#Modules related to split the data & gridsearch\n",
    "from sklearn.model_selection import GridSearchCV\n",
    "from sklearn.ensemble import RandomForestClassifier"
   ]
  },
  {
   "cell_type": "code",
   "execution_count": 149,
   "id": "fa3ba610",
   "metadata": {},
   "outputs": [],
   "source": [
    "pargrid_ada = {'n_estimators': [50, 60, 70, 80, 90, 100],\n",
    "                'max_features': [5,6,7,8,9,10]}\n",
    "gscv_Rf = GridSearchCV(estimator=RandomForestClassifier(), \n",
    "                        param_grid=pargrid_ada, \n",
    "                        cv=2,\n",
    "                        verbose=True, n_jobs=-1)"
   ]
  },
  {
   "cell_type": "code",
   "execution_count": 151,
   "id": "369c9768",
   "metadata": {},
   "outputs": [
    {
     "name": "stdout",
     "output_type": "stream",
     "text": [
      "Fitting 2 folds for each of 36 candidates, totalling 72 fits\n"
     ]
    },
    {
     "data": {
      "text/plain": [
       "0.9923304149761549"
      ]
     },
     "execution_count": 151,
     "metadata": {},
     "output_type": "execute_result"
    }
   ],
   "source": [
    "gscv_results = gscv_Rf.fit(X_train, y_train)\n",
    "gscv_results.best_score_"
   ]
  },
  {
   "cell_type": "code",
   "execution_count": 152,
   "id": "3851ecb3",
   "metadata": {},
   "outputs": [
    {
     "data": {
      "text/plain": [
       "{'max_features': 9, 'n_estimators': 90}"
      ]
     },
     "execution_count": 152,
     "metadata": {},
     "output_type": "execute_result"
    }
   ],
   "source": [
    "gscv_results.best_params_"
   ]
  },
  {
   "cell_type": "code",
   "execution_count": 153,
   "id": "b1f9b9d8",
   "metadata": {},
   "outputs": [
    {
     "data": {
      "text/plain": [
       "array([1, 1, 0, ..., 1, 1, 1], dtype=int64)"
      ]
     },
     "execution_count": 153,
     "metadata": {},
     "output_type": "execute_result"
    }
   ],
   "source": [
    "gscv_results.predict(X_train)"
   ]
  },
  {
   "cell_type": "markdown",
   "id": "cf6f86ba",
   "metadata": {
    "id": "fLR7hzi5ljPz"
   },
   "source": [
    "### -------------------------------------------------------------------------------------------------------------------------------------------------------------"
   ]
  }
 ],
 "metadata": {
  "colab": {
   "collapsed_sections": [
    "3c440c23"
   ],
   "name": "CYBER_SECURITY.ipynb",
   "provenance": []
  },
  "kernelspec": {
   "display_name": "Python 3",
   "language": "python",
   "name": "python3"
  },
  "language_info": {
   "codemirror_mode": {
    "name": "ipython",
    "version": 3
   },
   "file_extension": ".py",
   "mimetype": "text/x-python",
   "name": "python",
   "nbconvert_exporter": "python",
   "pygments_lexer": "ipython3",
   "version": "3.8.8"
  }
 },
 "nbformat": 4,
 "nbformat_minor": 5
}
