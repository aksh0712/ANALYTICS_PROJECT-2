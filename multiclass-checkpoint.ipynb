{
 "cells": [
  {
   "cell_type": "code",
   "execution_count": 1,
   "metadata": {},
   "outputs": [
    {
     "name": "stderr",
     "output_type": "stream",
     "text": [
      "Using TensorFlow backend.\n"
     ]
    }
   ],
   "source": [
    "#importing\n",
    "import pandas as pd\n",
    "import numpy as np\n",
    "from matplotlib import pyplot\n",
    "from xgboost import XGBClassifier\n",
    "from sklearn.preprocessing import LabelEncoder\n",
    "from sklearn.model_selection import GridSearchCV\n",
    "from imblearn.over_sampling import SMOTE\n",
    "from sklearn.model_selection import train_test_split"
   ]
  },
  {
   "cell_type": "code",
   "execution_count": 5,
   "metadata": {},
   "outputs": [
    {
     "name": "stdout",
     "output_type": "stream",
     "text": [
      "<class 'pandas.core.frame.DataFrame'>\n",
      "RangeIndex: 34000 entries, 0 to 33999\n",
      "Data columns (total 21 columns):\n",
      " #   Column                     Non-Null Count  Dtype  \n",
      "---  ------                     --------------  -----  \n",
      " 0   ID                         34000 non-null  int64  \n",
      " 1   FICO                       33039 non-null  float64\n",
      " 2   Business_Revenue           30615 non-null  float64\n",
      " 3   TSR                        21506 non-null  float64\n",
      " 4   Last_6M_Avg_Util           33999 non-null  float64\n",
      " 5   Income                     30505 non-null  float64\n",
      " 6   Last_6M_Avg_Remit          33165 non-null  float64\n",
      " 7   Last_6M_Avg_Bal            33165 non-null  float64\n",
      " 8   Internal_Revolve           18183 non-null  float64\n",
      " 9   Lending_AR_pct_in_last_6M  29450 non-null  float64\n",
      " 10  ExternalBalance            26435 non-null  float64\n",
      " 11  Months_in_Business         23498 non-null  float64\n",
      " 12  preferred_spend_line       25478 non-null  float64\n",
      " 13  total_cards                34000 non-null  object \n",
      " 14  preferred_bal_line         25976 non-null  float64\n",
      " 15  preavgremit1_3_all         33134 non-null  float64\n",
      " 16  External_rev_rate          11806 non-null  float64\n",
      " 17  Supplementary_Cards        34000 non-null  int64  \n",
      " 18  isChargeCust               34000 non-null  int64  \n",
      " 19  CMV                        34000 non-null  float64\n",
      " 20  Assigned_Line              34000 non-null  object \n",
      "dtypes: float64(16), int64(3), object(2)\n",
      "memory usage: 5.4+ MB\n"
     ]
    },
    {
     "data": {
      "text/html": [
       "<div>\n",
       "<style scoped>\n",
       "    .dataframe tbody tr th:only-of-type {\n",
       "        vertical-align: middle;\n",
       "    }\n",
       "\n",
       "    .dataframe tbody tr th {\n",
       "        vertical-align: top;\n",
       "    }\n",
       "\n",
       "    .dataframe thead th {\n",
       "        text-align: right;\n",
       "    }\n",
       "</style>\n",
       "<table border=\"1\" class=\"dataframe\">\n",
       "  <thead>\n",
       "    <tr style=\"text-align: right;\">\n",
       "      <th></th>\n",
       "      <th>ID</th>\n",
       "      <th>FICO</th>\n",
       "      <th>Business_Revenue</th>\n",
       "      <th>TSR</th>\n",
       "      <th>Last_6M_Avg_Util</th>\n",
       "      <th>Income</th>\n",
       "      <th>Last_6M_Avg_Remit</th>\n",
       "      <th>Last_6M_Avg_Bal</th>\n",
       "      <th>Internal_Revolve</th>\n",
       "      <th>Lending_AR_pct_in_last_6M</th>\n",
       "      <th>...</th>\n",
       "      <th>Months_in_Business</th>\n",
       "      <th>preferred_spend_line</th>\n",
       "      <th>total_cards</th>\n",
       "      <th>preferred_bal_line</th>\n",
       "      <th>preavgremit1_3_all</th>\n",
       "      <th>External_rev_rate</th>\n",
       "      <th>Supplementary_Cards</th>\n",
       "      <th>isChargeCust</th>\n",
       "      <th>CMV</th>\n",
       "      <th>Assigned_Line</th>\n",
       "    </tr>\n",
       "  </thead>\n",
       "  <tbody>\n",
       "    <tr>\n",
       "      <th>0</th>\n",
       "      <td>1</td>\n",
       "      <td>828.235294</td>\n",
       "      <td>0.138889</td>\n",
       "      <td>321.428571</td>\n",
       "      <td>625.911006</td>\n",
       "      <td>1.818182</td>\n",
       "      <td>1.081550</td>\n",
       "      <td>198.113469</td>\n",
       "      <td>NaN</td>\n",
       "      <td>58.632548</td>\n",
       "      <td>...</td>\n",
       "      <td>100.083403</td>\n",
       "      <td>1.0</td>\n",
       "      <td>1</td>\n",
       "      <td>1.0</td>\n",
       "      <td>1.540594</td>\n",
       "      <td>NaN</td>\n",
       "      <td>1</td>\n",
       "      <td>0</td>\n",
       "      <td>100.104991</td>\n",
       "      <td>Low</td>\n",
       "    </tr>\n",
       "    <tr>\n",
       "      <th>1</th>\n",
       "      <td>2</td>\n",
       "      <td>911.764706</td>\n",
       "      <td>0.027778</td>\n",
       "      <td>NaN</td>\n",
       "      <td>611.574748</td>\n",
       "      <td>8.181818</td>\n",
       "      <td>1.344479</td>\n",
       "      <td>198.600020</td>\n",
       "      <td>22.086661</td>\n",
       "      <td>NaN</td>\n",
       "      <td>...</td>\n",
       "      <td>15.012510</td>\n",
       "      <td>NaN</td>\n",
       "      <td>1</td>\n",
       "      <td>NaN</td>\n",
       "      <td>1.614613</td>\n",
       "      <td>NaN</td>\n",
       "      <td>0</td>\n",
       "      <td>1</td>\n",
       "      <td>146.654045</td>\n",
       "      <td>High</td>\n",
       "    </tr>\n",
       "    <tr>\n",
       "      <th>2</th>\n",
       "      <td>3</td>\n",
       "      <td>962.352941</td>\n",
       "      <td>0.833333</td>\n",
       "      <td>35.714286</td>\n",
       "      <td>615.825381</td>\n",
       "      <td>8.181818</td>\n",
       "      <td>0.720796</td>\n",
       "      <td>197.267767</td>\n",
       "      <td>NaN</td>\n",
       "      <td>58.632548</td>\n",
       "      <td>...</td>\n",
       "      <td>210.175146</td>\n",
       "      <td>10.0</td>\n",
       "      <td>1</td>\n",
       "      <td>10.0</td>\n",
       "      <td>1.044599</td>\n",
       "      <td>NaN</td>\n",
       "      <td>0</td>\n",
       "      <td>0</td>\n",
       "      <td>98.249570</td>\n",
       "      <td>Medium</td>\n",
       "    </tr>\n",
       "    <tr>\n",
       "      <th>3</th>\n",
       "      <td>4</td>\n",
       "      <td>892.941176</td>\n",
       "      <td>NaN</td>\n",
       "      <td>NaN</td>\n",
       "      <td>638.076431</td>\n",
       "      <td>9.090909</td>\n",
       "      <td>0.820218</td>\n",
       "      <td>197.355744</td>\n",
       "      <td>4.363431</td>\n",
       "      <td>58.632548</td>\n",
       "      <td>...</td>\n",
       "      <td>NaN</td>\n",
       "      <td>NaN</td>\n",
       "      <td>1</td>\n",
       "      <td>NaN</td>\n",
       "      <td>1.145729</td>\n",
       "      <td>NaN</td>\n",
       "      <td>1</td>\n",
       "      <td>0</td>\n",
       "      <td>140.862306</td>\n",
       "      <td>Low</td>\n",
       "    </tr>\n",
       "    <tr>\n",
       "      <th>4</th>\n",
       "      <td>5</td>\n",
       "      <td>914.117647</td>\n",
       "      <td>0.083333</td>\n",
       "      <td>NaN</td>\n",
       "      <td>626.514988</td>\n",
       "      <td>5.181818</td>\n",
       "      <td>1.372928</td>\n",
       "      <td>198.790477</td>\n",
       "      <td>85.938202</td>\n",
       "      <td>58.632548</td>\n",
       "      <td>...</td>\n",
       "      <td>210.175146</td>\n",
       "      <td>NaN</td>\n",
       "      <td>.</td>\n",
       "      <td>NaN</td>\n",
       "      <td>1.558341</td>\n",
       "      <td>NaN</td>\n",
       "      <td>1</td>\n",
       "      <td>0</td>\n",
       "      <td>101.268503</td>\n",
       "      <td>High</td>\n",
       "    </tr>\n",
       "  </tbody>\n",
       "</table>\n",
       "<p>5 rows × 21 columns</p>\n",
       "</div>"
      ],
      "text/plain": [
       "   ID        FICO  Business_Revenue         TSR  Last_6M_Avg_Util    Income  \\\n",
       "0   1  828.235294          0.138889  321.428571        625.911006  1.818182   \n",
       "1   2  911.764706          0.027778         NaN        611.574748  8.181818   \n",
       "2   3  962.352941          0.833333   35.714286        615.825381  8.181818   \n",
       "3   4  892.941176               NaN         NaN        638.076431  9.090909   \n",
       "4   5  914.117647          0.083333         NaN        626.514988  5.181818   \n",
       "\n",
       "   Last_6M_Avg_Remit  Last_6M_Avg_Bal  Internal_Revolve  \\\n",
       "0           1.081550       198.113469               NaN   \n",
       "1           1.344479       198.600020         22.086661   \n",
       "2           0.720796       197.267767               NaN   \n",
       "3           0.820218       197.355744          4.363431   \n",
       "4           1.372928       198.790477         85.938202   \n",
       "\n",
       "   Lending_AR_pct_in_last_6M  ...  Months_in_Business  preferred_spend_line  \\\n",
       "0                  58.632548  ...          100.083403                   1.0   \n",
       "1                        NaN  ...           15.012510                   NaN   \n",
       "2                  58.632548  ...          210.175146                  10.0   \n",
       "3                  58.632548  ...                 NaN                   NaN   \n",
       "4                  58.632548  ...          210.175146                   NaN   \n",
       "\n",
       "   total_cards preferred_bal_line  preavgremit1_3_all  External_rev_rate  \\\n",
       "0            1                1.0            1.540594                NaN   \n",
       "1            1                NaN            1.614613                NaN   \n",
       "2            1               10.0            1.044599                NaN   \n",
       "3            1                NaN            1.145729                NaN   \n",
       "4            .                NaN            1.558341                NaN   \n",
       "\n",
       "   Supplementary_Cards  isChargeCust         CMV  Assigned_Line  \n",
       "0                    1             0  100.104991            Low  \n",
       "1                    0             1  146.654045           High  \n",
       "2                    0             0   98.249570         Medium  \n",
       "3                    1             0  140.862306            Low  \n",
       "4                    1             0  101.268503           High  \n",
       "\n",
       "[5 rows x 21 columns]"
      ]
     },
     "execution_count": 5,
     "metadata": {},
     "output_type": "execute_result"
    }
   ],
   "source": [
    "#Cleaning\n",
    "data = pd.read_csv('train.csv')\n",
    "data.info()\n",
    "data.head()"
   ]
  },
  {
   "cell_type": "code",
   "execution_count": 6,
   "metadata": {},
   "outputs": [
    {
     "data": {
      "text/plain": [
       "FICO                           961\n",
       "Business_Revenue              3385\n",
       "TSR                          12494\n",
       "Last_6M_Avg_Util                 1\n",
       "Income                        3495\n",
       "Last_6M_Avg_Remit              835\n",
       "Last_6M_Avg_Bal                835\n",
       "Internal_Revolve             15817\n",
       "Lending_AR_pct_in_last_6M     4550\n",
       "ExternalBalance               7565\n",
       "Months_in_Business           10502\n",
       "preferred_spend_line          8522\n",
       "total_cards                    273\n",
       "preferred_bal_line            8024\n",
       "preavgremit1_3_all             866\n",
       "External_rev_rate            22194\n",
       "Supplementary_Cards              0\n",
       "isChargeCust                     0\n",
       "CMV                              0\n",
       "Assigned_Line                    0\n",
       "dtype: int64"
      ]
     },
     "execution_count": 6,
     "metadata": {},
     "output_type": "execute_result"
    }
   ],
   "source": [
    "data.drop(columns = 'ID', inplace = True)\n",
    "data['total_cards'] = data['total_cards'].replace('.',np.NaN)\n",
    "data.isna().sum()"
   ]
  },
  {
   "cell_type": "code",
   "execution_count": 7,
   "metadata": {},
   "outputs": [],
   "source": [
    "#Too many nan values - if filled with other values then there will be some biasness in the data (dropped VAR17 and VAR9)\n",
    "data.drop(columns = ['External_rev_rate', 'Internal_Revolve', 'total_cards'], inplace = True)\n",
    "data = data.fillna(data.median())\n",
    "#data['total_cards'] = data['total_cards'].convert_objects(convert_numeric=True)"
   ]
  },
  {
   "cell_type": "code",
   "execution_count": 9,
   "metadata": {},
   "outputs": [],
   "source": [
    "#splitting \n",
    "X = data.drop(columns = ['Assigned_Line'])\n",
    "y = data[\"Assigned_Line\"]"
   ]
  },
  {
   "cell_type": "code",
   "execution_count": 10,
   "metadata": {},
   "outputs": [],
   "source": [
    "#Encoder for y variable\n",
    "enc =LabelEncoder()\n",
    "y = enc.fit_transform(y)"
   ]
  },
  {
   "cell_type": "code",
   "execution_count": 11,
   "metadata": {},
   "outputs": [
    {
     "data": {
      "text/plain": [
       "array([1, 0, 2, ..., 1, 1, 0])"
      ]
     },
     "execution_count": 11,
     "metadata": {},
     "output_type": "execute_result"
    }
   ],
   "source": [
    "y"
   ]
  },
  {
   "cell_type": "code",
   "execution_count": 12,
   "metadata": {},
   "outputs": [
    {
     "data": {
      "text/plain": [
       "2    18172\n",
       "1    12081\n",
       "0     3747\n",
       "dtype: int64"
      ]
     },
     "execution_count": 12,
     "metadata": {},
     "output_type": "execute_result"
    }
   ],
   "source": [
    "pd.Series(y).value_counts()"
   ]
  },
  {
   "cell_type": "code",
   "execution_count": 13,
   "metadata": {},
   "outputs": [],
   "source": [
    "#balancing the data\n",
    "sm = SMOTE()\n",
    "resampled_X, resampled_y = sm.fit_resample(X, y)"
   ]
  },
  {
   "cell_type": "code",
   "execution_count": 14,
   "metadata": {},
   "outputs": [
    {
     "data": {
      "text/plain": [
       "(34000, 16)"
      ]
     },
     "execution_count": 14,
     "metadata": {},
     "output_type": "execute_result"
    }
   ],
   "source": [
    "X.shape"
   ]
  },
  {
   "cell_type": "code",
   "execution_count": 15,
   "metadata": {},
   "outputs": [
    {
     "data": {
      "text/plain": [
       "(34000,)"
      ]
     },
     "execution_count": 15,
     "metadata": {},
     "output_type": "execute_result"
    }
   ],
   "source": [
    "y.shape"
   ]
  },
  {
   "cell_type": "code",
   "execution_count": 16,
   "metadata": {},
   "outputs": [
    {
     "data": {
      "text/plain": [
       "(54516,)"
      ]
     },
     "execution_count": 16,
     "metadata": {},
     "output_type": "execute_result"
    }
   ],
   "source": [
    "resampled_y.shape"
   ]
  },
  {
   "cell_type": "code",
   "execution_count": 17,
   "metadata": {},
   "outputs": [
    {
     "data": {
      "text/plain": [
       "(54516, 16)"
      ]
     },
     "execution_count": 17,
     "metadata": {},
     "output_type": "execute_result"
    }
   ],
   "source": [
    "resampled_X.shape"
   ]
  },
  {
   "cell_type": "code",
   "execution_count": 19,
   "metadata": {},
   "outputs": [
    {
     "data": {
      "text/plain": [
       "0    18172\n",
       "1    18172\n",
       "2    18172\n",
       "dtype: int64"
      ]
     },
     "execution_count": 19,
     "metadata": {},
     "output_type": "execute_result"
    }
   ],
   "source": [
    "pd.Series(resampled_y).value_counts()"
   ]
  },
  {
   "cell_type": "code",
   "execution_count": 20,
   "metadata": {},
   "outputs": [],
   "source": [
    "#splitting to train and test dataset\n",
    "X_train, X_test, y_train, y_test = train_test_split(resampled_X, resampled_y, test_size = 0.2)"
   ]
  },
  {
   "cell_type": "code",
   "execution_count": 21,
   "metadata": {},
   "outputs": [
    {
     "name": "stdout",
     "output_type": "stream",
     "text": [
      "{'C': 1}\n"
     ]
    }
   ],
   "source": [
    "#svc = SVC(kernel='rbf', class_weight='balanced')\n",
    "from sklearn.svm import SVC\n",
    "\n",
    "param_grid = {'C': [1]}\n",
    "grid = GridSearchCV(SVC(), param_grid)\n",
    "\n",
    "grid.fit(X_train, y_train)\n",
    "print(grid.best_params_)"
   ]
  },
  {
   "cell_type": "code",
   "execution_count": 22,
   "metadata": {},
   "outputs": [],
   "source": [
    "model = grid.best_estimator_\n",
    "yfit = model.predict(X_test)"
   ]
  },
  {
   "cell_type": "code",
   "execution_count": 24,
   "metadata": {},
   "outputs": [
    {
     "data": {
      "text/plain": [
       "array([2, 1, 2, ..., 2, 2, 2])"
      ]
     },
     "execution_count": 24,
     "metadata": {},
     "output_type": "execute_result"
    }
   ],
   "source": [
    "yfit"
   ]
  },
  {
   "cell_type": "code",
   "execution_count": 25,
   "metadata": {},
   "outputs": [
    {
     "data": {
      "text/plain": [
       "array([2, 1, 2, ..., 0, 1, 2])"
      ]
     },
     "execution_count": 25,
     "metadata": {},
     "output_type": "execute_result"
    }
   ],
   "source": [
    "y_test"
   ]
  },
  {
   "cell_type": "code",
   "execution_count": 26,
   "metadata": {},
   "outputs": [
    {
     "name": "stdout",
     "output_type": "stream",
     "text": [
      "              precision    recall  f1-score   support\n",
      "\n",
      "           0       0.50      0.16      0.24      3622\n",
      "           1       0.42      0.45      0.43      3641\n",
      "           2       0.37      0.60      0.46      3641\n",
      "\n",
      "    accuracy                           0.40     10904\n",
      "   macro avg       0.43      0.40      0.38     10904\n",
      "weighted avg       0.43      0.40      0.38     10904\n",
      "\n"
     ]
    }
   ],
   "source": [
    "from sklearn.metrics import classification_report\n",
    "print(classification_report(y_test, yfit))"
   ]
  },
  {
   "cell_type": "code",
   "execution_count": 29,
   "metadata": {},
   "outputs": [
    {
     "data": {
      "text/plain": [
       "'C:\\\\Users\\\\om\\\\Desktop\\\\DSP-Dec-New Curriculum\\\\ML Class-1 Files\\\\4. End to End Projects\\\\Multiclass-Classification'"
      ]
     },
     "execution_count": 29,
     "metadata": {},
     "output_type": "execute_result"
    }
   ],
   "source": [
    "%pwd"
   ]
  },
  {
   "cell_type": "code",
   "execution_count": 27,
   "metadata": {},
   "outputs": [],
   "source": [
    "import pickle\n",
    "# now you can save it to a file\n",
    "with open('model_svc.pkl', 'wb') as f:\n",
    "    pickle.dump(model, f)"
   ]
  },
  {
   "cell_type": "code",
   "execution_count": null,
   "metadata": {},
   "outputs": [],
   "source": [
    "# and later you can load it\n",
    "with open('model_svc.pkl', 'rb') as f:\n",
    "    model1 = pickle.load(f)"
   ]
  },
  {
   "cell_type": "code",
   "execution_count": null,
   "metadata": {},
   "outputs": [],
   "source": [
    "#"
   ]
  },
  {
   "cell_type": "code",
   "execution_count": 33,
   "metadata": {},
   "outputs": [
    {
     "name": "stdout",
     "output_type": "stream",
     "text": [
      "[0]\tvalidation_0-mlogloss:1.06574\tvalidation_1-mlogloss:1.07064\n",
      "[1]\tvalidation_0-mlogloss:1.03778\tvalidation_1-mlogloss:1.04712\n",
      "[2]\tvalidation_0-mlogloss:1.01265\tvalidation_1-mlogloss:1.02607\n",
      "[3]\tvalidation_0-mlogloss:0.990713\tvalidation_1-mlogloss:1.00767\n",
      "[4]\tvalidation_0-mlogloss:0.971463\tvalidation_1-mlogloss:0.991723\n",
      "[5]\tvalidation_0-mlogloss:0.953744\tvalidation_1-mlogloss:0.976992\n",
      "[6]\tvalidation_0-mlogloss:0.939273\tvalidation_1-mlogloss:0.964765\n",
      "[7]\tvalidation_0-mlogloss:0.925217\tvalidation_1-mlogloss:0.953352\n",
      "[8]\tvalidation_0-mlogloss:0.91302\tvalidation_1-mlogloss:0.943573\n",
      "[9]\tvalidation_0-mlogloss:0.900905\tvalidation_1-mlogloss:0.934288\n",
      "[10]\tvalidation_0-mlogloss:0.88945\tvalidation_1-mlogloss:0.925447\n",
      "[11]\tvalidation_0-mlogloss:0.880398\tvalidation_1-mlogloss:0.918338\n",
      "[12]\tvalidation_0-mlogloss:0.872284\tvalidation_1-mlogloss:0.911561\n",
      "[13]\tvalidation_0-mlogloss:0.862921\tvalidation_1-mlogloss:0.903758\n",
      "[14]\tvalidation_0-mlogloss:0.854593\tvalidation_1-mlogloss:0.896805\n",
      "[15]\tvalidation_0-mlogloss:0.846921\tvalidation_1-mlogloss:0.891167\n",
      "[16]\tvalidation_0-mlogloss:0.84046\tvalidation_1-mlogloss:0.886182\n",
      "[17]\tvalidation_0-mlogloss:0.833151\tvalidation_1-mlogloss:0.88026\n",
      "[18]\tvalidation_0-mlogloss:0.827417\tvalidation_1-mlogloss:0.876266\n",
      "[19]\tvalidation_0-mlogloss:0.820548\tvalidation_1-mlogloss:0.87075\n",
      "[20]\tvalidation_0-mlogloss:0.813981\tvalidation_1-mlogloss:0.866113\n",
      "[21]\tvalidation_0-mlogloss:0.809333\tvalidation_1-mlogloss:0.862788\n",
      "[22]\tvalidation_0-mlogloss:0.803367\tvalidation_1-mlogloss:0.857728\n",
      "[23]\tvalidation_0-mlogloss:0.798865\tvalidation_1-mlogloss:0.854382\n",
      "[24]\tvalidation_0-mlogloss:0.793268\tvalidation_1-mlogloss:0.849674\n",
      "[25]\tvalidation_0-mlogloss:0.787812\tvalidation_1-mlogloss:0.845058\n",
      "[26]\tvalidation_0-mlogloss:0.784192\tvalidation_1-mlogloss:0.842323\n",
      "[27]\tvalidation_0-mlogloss:0.779321\tvalidation_1-mlogloss:0.838433\n",
      "[28]\tvalidation_0-mlogloss:0.776458\tvalidation_1-mlogloss:0.836537\n",
      "[29]\tvalidation_0-mlogloss:0.773099\tvalidation_1-mlogloss:0.834195\n",
      "[30]\tvalidation_0-mlogloss:0.769302\tvalidation_1-mlogloss:0.831028\n",
      "[31]\tvalidation_0-mlogloss:0.766276\tvalidation_1-mlogloss:0.828689\n",
      "[32]\tvalidation_0-mlogloss:0.763151\tvalidation_1-mlogloss:0.826334\n",
      "[33]\tvalidation_0-mlogloss:0.759688\tvalidation_1-mlogloss:0.823231\n",
      "[34]\tvalidation_0-mlogloss:0.756477\tvalidation_1-mlogloss:0.821279\n",
      "[35]\tvalidation_0-mlogloss:0.753635\tvalidation_1-mlogloss:0.819193\n",
      "[36]\tvalidation_0-mlogloss:0.750532\tvalidation_1-mlogloss:0.816697\n",
      "[37]\tvalidation_0-mlogloss:0.748445\tvalidation_1-mlogloss:0.81533\n",
      "[38]\tvalidation_0-mlogloss:0.74567\tvalidation_1-mlogloss:0.812761\n",
      "[39]\tvalidation_0-mlogloss:0.743495\tvalidation_1-mlogloss:0.811281\n",
      "[40]\tvalidation_0-mlogloss:0.7408\tvalidation_1-mlogloss:0.809028\n",
      "[41]\tvalidation_0-mlogloss:0.738772\tvalidation_1-mlogloss:0.807615\n",
      "[42]\tvalidation_0-mlogloss:0.737211\tvalidation_1-mlogloss:0.806553\n",
      "[43]\tvalidation_0-mlogloss:0.735156\tvalidation_1-mlogloss:0.805027\n",
      "[44]\tvalidation_0-mlogloss:0.733523\tvalidation_1-mlogloss:0.803935\n",
      "[45]\tvalidation_0-mlogloss:0.731788\tvalidation_1-mlogloss:0.802805\n",
      "[46]\tvalidation_0-mlogloss:0.729577\tvalidation_1-mlogloss:0.801182\n",
      "[47]\tvalidation_0-mlogloss:0.728627\tvalidation_1-mlogloss:0.800587\n",
      "[48]\tvalidation_0-mlogloss:0.726804\tvalidation_1-mlogloss:0.799456\n",
      "[49]\tvalidation_0-mlogloss:0.725187\tvalidation_1-mlogloss:0.798266\n",
      "[50]\tvalidation_0-mlogloss:0.723789\tvalidation_1-mlogloss:0.79739\n",
      "[51]\tvalidation_0-mlogloss:0.722705\tvalidation_1-mlogloss:0.796724\n",
      "[52]\tvalidation_0-mlogloss:0.721511\tvalidation_1-mlogloss:0.795784\n",
      "[53]\tvalidation_0-mlogloss:0.720127\tvalidation_1-mlogloss:0.794813\n",
      "[54]\tvalidation_0-mlogloss:0.718863\tvalidation_1-mlogloss:0.79388\n",
      "[55]\tvalidation_0-mlogloss:0.717801\tvalidation_1-mlogloss:0.793283\n",
      "[56]\tvalidation_0-mlogloss:0.716658\tvalidation_1-mlogloss:0.792684\n",
      "[57]\tvalidation_0-mlogloss:0.715678\tvalidation_1-mlogloss:0.792087\n",
      "[58]\tvalidation_0-mlogloss:0.714443\tvalidation_1-mlogloss:0.791378\n",
      "[59]\tvalidation_0-mlogloss:0.71331\tvalidation_1-mlogloss:0.790804\n",
      "[60]\tvalidation_0-mlogloss:0.712492\tvalidation_1-mlogloss:0.790397\n",
      "[61]\tvalidation_0-mlogloss:0.711293\tvalidation_1-mlogloss:0.789514\n",
      "[62]\tvalidation_0-mlogloss:0.710414\tvalidation_1-mlogloss:0.789059\n",
      "[63]\tvalidation_0-mlogloss:0.70922\tvalidation_1-mlogloss:0.788395\n",
      "[64]\tvalidation_0-mlogloss:0.708238\tvalidation_1-mlogloss:0.787678\n",
      "[65]\tvalidation_0-mlogloss:0.707551\tvalidation_1-mlogloss:0.787247\n",
      "[66]\tvalidation_0-mlogloss:0.706628\tvalidation_1-mlogloss:0.786518\n",
      "[67]\tvalidation_0-mlogloss:0.706248\tvalidation_1-mlogloss:0.78626\n",
      "[68]\tvalidation_0-mlogloss:0.705638\tvalidation_1-mlogloss:0.785745\n",
      "[69]\tvalidation_0-mlogloss:0.705169\tvalidation_1-mlogloss:0.785525\n",
      "[70]\tvalidation_0-mlogloss:0.704564\tvalidation_1-mlogloss:0.785059\n",
      "[71]\tvalidation_0-mlogloss:0.704009\tvalidation_1-mlogloss:0.784719\n",
      "[72]\tvalidation_0-mlogloss:0.703494\tvalidation_1-mlogloss:0.784387\n",
      "[73]\tvalidation_0-mlogloss:0.702292\tvalidation_1-mlogloss:0.783713\n",
      "[74]\tvalidation_0-mlogloss:0.701507\tvalidation_1-mlogloss:0.783302\n",
      "[75]\tvalidation_0-mlogloss:0.700929\tvalidation_1-mlogloss:0.783003\n",
      "[76]\tvalidation_0-mlogloss:0.70036\tvalidation_1-mlogloss:0.782588\n",
      "[77]\tvalidation_0-mlogloss:0.69999\tvalidation_1-mlogloss:0.782417\n",
      "[78]\tvalidation_0-mlogloss:0.699089\tvalidation_1-mlogloss:0.781891\n",
      "[79]\tvalidation_0-mlogloss:0.698641\tvalidation_1-mlogloss:0.781683\n",
      "[80]\tvalidation_0-mlogloss:0.698443\tvalidation_1-mlogloss:0.781551\n",
      "[81]\tvalidation_0-mlogloss:0.697852\tvalidation_1-mlogloss:0.781182\n",
      "[82]\tvalidation_0-mlogloss:0.696774\tvalidation_1-mlogloss:0.780538\n",
      "[83]\tvalidation_0-mlogloss:0.696419\tvalidation_1-mlogloss:0.780339\n",
      "[84]\tvalidation_0-mlogloss:0.696135\tvalidation_1-mlogloss:0.780164\n",
      "[85]\tvalidation_0-mlogloss:0.695398\tvalidation_1-mlogloss:0.77976\n",
      "[86]\tvalidation_0-mlogloss:0.694473\tvalidation_1-mlogloss:0.779034\n",
      "[87]\tvalidation_0-mlogloss:0.694004\tvalidation_1-mlogloss:0.778785\n",
      "[88]\tvalidation_0-mlogloss:0.693938\tvalidation_1-mlogloss:0.778745\n",
      "[89]\tvalidation_0-mlogloss:0.693749\tvalidation_1-mlogloss:0.778675\n",
      "[90]\tvalidation_0-mlogloss:0.692693\tvalidation_1-mlogloss:0.777989\n",
      "[91]\tvalidation_0-mlogloss:0.691765\tvalidation_1-mlogloss:0.777268\n",
      "[92]\tvalidation_0-mlogloss:0.691563\tvalidation_1-mlogloss:0.777125\n",
      "[93]\tvalidation_0-mlogloss:0.690908\tvalidation_1-mlogloss:0.776739\n",
      "[94]\tvalidation_0-mlogloss:0.69056\tvalidation_1-mlogloss:0.776584\n",
      "[95]\tvalidation_0-mlogloss:0.690561\tvalidation_1-mlogloss:0.776583\n",
      "[96]\tvalidation_0-mlogloss:0.690561\tvalidation_1-mlogloss:0.776582\n",
      "[97]\tvalidation_0-mlogloss:0.690562\tvalidation_1-mlogloss:0.776582\n",
      "[98]\tvalidation_0-mlogloss:0.690561\tvalidation_1-mlogloss:0.776577\n",
      "[99]\tvalidation_0-mlogloss:0.690559\tvalidation_1-mlogloss:0.776582\n"
     ]
    },
    {
     "data": {
      "text/plain": [
       "0.6358217168011738"
      ]
     },
     "execution_count": 33,
     "metadata": {},
     "output_type": "execute_result"
    }
   ],
   "source": [
    "#XGBoost with depth of 15 and restriction level 7 \n",
    "xgb = XGBClassifier(n_estimators=100,\n",
    "                    max_depth=15, \n",
    "                    gamma = 7)\n",
    "eval_set = [(X_train, y_train), (X_test, y_test)]\n",
    "eval_metric = [\"mlogloss\"]\n",
    "xgb.fit(X_train, y_train, eval_metric=eval_metric, eval_set=eval_set, verbose=True)\n",
    "xgb.score(X_train, y_train)\n",
    "xgb.score(X_test, y_test)"
   ]
  },
  {
   "cell_type": "code",
   "execution_count": 34,
   "metadata": {},
   "outputs": [],
   "source": [
    "#results of the mlogloss\n",
    "results = xgb.evals_result()\n",
    "epochs = len(results['validation_0']['mlogloss'])\n",
    "x_axis = range(0, epochs)"
   ]
  },
  {
   "cell_type": "code",
   "execution_count": 35,
   "metadata": {},
   "outputs": [
    {
     "data": {
      "image/png": "[encoded data removed]",
      "text/plain": [
       "<Figure size 432x288 with 1 Axes>"
      ]
     },
     "metadata": {
      "needs_background": "light"
     },
     "output_type": "display_data"
    }
   ],
   "source": [
    "#plotting the mlogloss\n",
    "fig, ax = pyplot.subplots()\n",
    "ax.plot(x_axis, results['validation_0']['mlogloss'], label='Train')\n",
    "ax.plot(x_axis, results['validation_1']['mlogloss'], label='Test')\n",
    "ax.legend()\n",
    "pyplot.ylabel('M Log Loss')\n",
    "pyplot.title('XGBoost M Log Loss')\n",
    "pyplot.show()"
   ]
  },
  {
   "cell_type": "code",
   "execution_count": null,
   "metadata": {},
   "outputs": [],
   "source": []
  }
 ],
 "metadata": {
  "kernelspec": {
   "display_name": "Python 3",
   "language": "python",
   "name": "python3"
  },
  "language_info": {
   "codemirror_mode": {
    "name": "ipython",
    "version": 3
   },
   "file_extension": ".py",
   "mimetype": "text/x-python",
   "name": "python",
   "nbconvert_exporter": "python",
   "pygments_lexer": "ipython3",
   "version": "3.8.8"
  },
  "varInspector": {
   "cols": {
    "lenName": 16,
    "lenType": 16,
    "lenVar": 40
   },
   "kernels_config": {
    "python": {
     "delete_cmd_postfix": "",
     "delete_cmd_prefix": "del ",
     "library": "var_list.py",
     "varRefreshCmd": "print(var_dic_list())"
    },
    "r": {
     "delete_cmd_postfix": ") ",
     "delete_cmd_prefix": "rm(",
     "library": "var_list.r",
     "varRefreshCmd": "cat(var_dic_list()) "
    }
   },
   "types_to_exclude": [
    "module",
    "function",
    "builtin_function_or_method",
    "instance",
    "_Feature"
   ],
   "window_display": false
  }
 },
 "nbformat": 4,
 "nbformat_minor": 2
}
